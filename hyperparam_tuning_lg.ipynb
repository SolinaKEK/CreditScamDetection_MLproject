{
 "cells": [
  {
   "cell_type": "markdown",
   "metadata": {},
   "source": [
    "# The Goal\n",
    "- Improve logistic regression model performance with hyperparameter tuning targeted at reducing overfitting. (regularization, epochs, classification threshold)\n",
    "- Create functions to make training/testing pipeline more efficient\n",
    "- Utilize Grid Search if educated guesses make no progress.\n"
   ]
  },
  {
   "cell_type": "markdown",
   "metadata": {},
   "source": [
    "# Step 1: Reproduce SMOTE training set\n",
    "(conditions of last best result)"
   ]
  },
  {
   "cell_type": "code",
   "execution_count": 25,
   "metadata": {},
   "outputs": [],
   "source": [
    "import tensorflow as tf\n",
    "import sklearn\n",
    "import numpy as np\n",
    "from numpy import where\n",
    "import pandas as pd\n",
    "from tensorflow.keras.models import Sequential\n",
    "from tensorflow.keras.layers import Dense, Activation\n",
    "from tensorflow.keras.callbacks import TensorBoard\n",
    "from keras.wrappers.scikit_learn import KerasClassifier\n",
    "from sklearn.model_selection import train_test_split, PredefinedSplit, cross_val_predict, GridSearchCV\n",
    "from sklearn.metrics import classification_report, confusion_matrix, ConfusionMatrixDisplay, roc_auc_score, f1_score, auc, roc_curve, precision_recall_curve, average_precision_score\n",
    "import matplotlib.pyplot as plt\n",
    "import seaborn as sns\n",
    "import datetime\n",
    "import collections\n",
    "from collections import Counter\n",
    "import logging\n",
    "import os\n",
    "import sys\n",
    "import xgboost as xgb\n",
    "from xgboost import XGBClassifier\n",
    "from imblearn.over_sampling import RandomOverSampler, SMOTE\n",
    "from imblearn.under_sampling import RandomUnderSampler\n"
   ]
  },
  {
   "cell_type": "code",
   "execution_count": 2,
   "metadata": {},
   "outputs": [],
   "source": [
    "df = pd.read_csv('./creditcard.csv')\n",
    "X = df.drop('Class', axis=1).values\n",
    "Y = df.Class.values\n",
    "\n",
    "seed = 1234\n",
    "tf.random.set_seed(seed)\n",
    "np.random.seed(seed)\n",
    "\n",
    "x, x_test, y, y_test = train_test_split(X, Y, test_size=0.15, shuffle=True, random_state=seed)\n",
    "x_train, x_cv, y_train, y_cv = train_test_split(x, y, test_size=0.15, shuffle=True, random_state=seed)\n",
    "\n",
    "# applying SMOTE\n",
    "smote = SMOTE()\n",
    "x_train_smote, y_train_smote = smote.fit_resample(x_train, y_train)"
   ]
  },
  {
   "cell_type": "markdown",
   "metadata": {},
   "source": [
    "## Step 2: Hyperparameter tuning cycle on logistic regression"
   ]
  },
  {
   "cell_type": "code",
   "execution_count": 9,
   "metadata": {},
   "outputs": [],
   "source": [
    "## logistic regression\n",
    "\n",
    "def create_lg_model(lglambda=0, threshold=0.5, auc_curve=\"ROC\", input_shape=0):\n",
    "    seed=1234\n",
    "    tf.random.set_seed(seed)\n",
    "    np.random.seed(seed)\n",
    "\n",
    "    model = tf.keras.Sequential()\n",
    "\n",
    "    if input_shape != 0:\n",
    "        model.add(tf.keras.Input(input_shape, ))\n",
    "\n",
    "    model.add(tf.keras.layers.Dense(1, activation='sigmoid', kernel_regularizer=tf.keras.regularizers.l2(l=lglambda)))\n",
    "\n",
    "    model.compile(\n",
    "        loss=tf.keras.losses.BinaryCrossentropy(),\n",
    "        optimizer=tf.keras.optimizers.Adam(learning_rate=0.01),\n",
    "        metrics=[tf.keras.metrics.AUC(curve=auc_curve), tf.keras.metrics.Precision(thresholds=threshold), tf.keras.metrics.Recall(thresholds=threshold)]\n",
    "    )\n",
    "\n",
    "    return model"
   ]
  },
  {
   "cell_type": "code",
   "execution_count": 10,
   "metadata": {},
   "outputs": [],
   "source": [
    "# create model\n",
    "lgmodel = KerasClassifier(build_fn=create_lg_model, verbose=0)\n",
    "\n",
    "# define the grid search parameters\n",
    "lglambda = [0.1, 0.05, 0.01]\n",
    "lgepochs = [10, 15, 25]\n",
    "param_grid = dict(lglambda=lglambda, epochs=lgepochs)\n",
    "\n",
    "# generating predefined cv\n",
    "x_grid = np.append(x_train_smote, x_cv, axis=0)\n",
    "y_grid = np.append(y_train_smote, y_cv, axis=0)\n",
    "train_indices = np.full((x_train_smote.shape[0]), -1, dtype=int)\n",
    "cv_indices = np.full((x_cv.shape[0]), 0, dtype=int)\n",
    "test_fold = np.append(train_indices, cv_indices)\n",
    "ps = PredefinedSplit(test_fold)"
   ]
  },
  {
   "cell_type": "code",
   "execution_count": 11,
   "metadata": {},
   "outputs": [
    {
     "name": "stdout",
     "output_type": "stream",
     "text": [
      "Fitting 1 folds for each of 9 candidates, totalling 9 fits\n",
      "[CV] END ............................epochs=10, lglambda=0.1; total time= 8.9min\n",
      "[CV] END ...........................epochs=10, lglambda=0.05; total time= 3.2min\n",
      "[CV] END ...........................epochs=10, lglambda=0.01; total time= 3.0min\n",
      "[CV] END ............................epochs=15, lglambda=0.1; total time= 4.5min\n",
      "[CV] END ...........................epochs=15, lglambda=0.05; total time= 4.6min\n",
      "[CV] END ...........................epochs=15, lglambda=0.01; total time= 5.7min\n",
      "[CV] END ............................epochs=25, lglambda=0.1; total time= 7.7min\n",
      "[CV] END ...........................epochs=25, lglambda=0.05; total time= 7.7min\n",
      "[CV] END ...........................epochs=25, lglambda=0.01; total time= 8.0min\n"
     ]
    }
   ],
   "source": [
    "scoring = {\"AUC\":\"roc_auc\", \"Precision\":\"precision\", \"Recall\":\"recall\"}\n",
    "\n",
    "grid = GridSearchCV(\n",
    "    estimator= lgmodel,\n",
    "    param_grid=param_grid,\n",
    "    scoring=scoring,\n",
    "    cv=ps,\n",
    "    verbose=2,\n",
    "    refit=\"AUC\",\n",
    ")\n",
    "\n",
    "grid_result = grid.fit(x_grid, y_grid)\n"
   ]
  },
  {
   "cell_type": "code",
   "execution_count": 12,
   "metadata": {},
   "outputs": [
    {
     "data": {
      "text/plain": [
       "dict_keys(['mean_fit_time', 'std_fit_time', 'mean_score_time', 'std_score_time', 'param_epochs', 'param_lglambda', 'params', 'split0_test_AUC', 'mean_test_AUC', 'std_test_AUC', 'rank_test_AUC', 'split0_test_Precision', 'mean_test_Precision', 'std_test_Precision', 'rank_test_Precision', 'split0_test_Recall', 'mean_test_Recall', 'std_test_Recall', 'rank_test_Recall'])"
      ]
     },
     "execution_count": 12,
     "metadata": {},
     "output_type": "execute_result"
    }
   ],
   "source": [
    "lg_grid_results = grid_result.cv_results_\n",
    "lg_grid_results.keys()\n"
   ]
  },
  {
   "cell_type": "code",
   "execution_count": 17,
   "metadata": {},
   "outputs": [
    {
     "data": {
      "text/plain": [
       "[{'epochs': 10, 'lglambda': 0.1},\n",
       " {'epochs': 10, 'lglambda': 0.05},\n",
       " {'epochs': 10, 'lglambda': 0.01},\n",
       " {'epochs': 15, 'lglambda': 0.1},\n",
       " {'epochs': 15, 'lglambda': 0.05},\n",
       " {'epochs': 15, 'lglambda': 0.01},\n",
       " {'epochs': 25, 'lglambda': 0.1},\n",
       " {'epochs': 25, 'lglambda': 0.05},\n",
       " {'epochs': 25, 'lglambda': 0.01}]"
      ]
     },
     "metadata": {},
     "output_type": "display_data"
    }
   ],
   "source": [
    "display(lg_grid_results['params'])"
   ]
  },
  {
   "cell_type": "code",
   "execution_count": 28,
   "metadata": {},
   "outputs": [
    {
     "data": {
      "text/plain": [
       "'auc scores'"
      ]
     },
     "metadata": {},
     "output_type": "display_data"
    },
    {
     "data": {
      "text/html": [
       "<div>\n",
       "<style scoped>\n",
       "    .dataframe tbody tr th:only-of-type {\n",
       "        vertical-align: middle;\n",
       "    }\n",
       "\n",
       "    .dataframe tbody tr th {\n",
       "        vertical-align: top;\n",
       "    }\n",
       "\n",
       "    .dataframe thead th {\n",
       "        text-align: right;\n",
       "    }\n",
       "</style>\n",
       "<table border=\"1\" class=\"dataframe\">\n",
       "  <thead>\n",
       "    <tr style=\"text-align: right;\">\n",
       "      <th></th>\n",
       "      <th>0.10</th>\n",
       "      <th>0.05</th>\n",
       "      <th>0.01</th>\n",
       "    </tr>\n",
       "  </thead>\n",
       "  <tbody>\n",
       "    <tr>\n",
       "      <th>10</th>\n",
       "      <td>0.520019</td>\n",
       "      <td>0.747196</td>\n",
       "      <td>0.945863</td>\n",
       "    </tr>\n",
       "    <tr>\n",
       "      <th>15</th>\n",
       "      <td>0.871445</td>\n",
       "      <td>0.840363</td>\n",
       "      <td>0.926260</td>\n",
       "    </tr>\n",
       "    <tr>\n",
       "      <th>25</th>\n",
       "      <td>0.769760</td>\n",
       "      <td>0.780376</td>\n",
       "      <td>0.884833</td>\n",
       "    </tr>\n",
       "  </tbody>\n",
       "</table>\n",
       "</div>"
      ],
      "text/plain": [
       "        0.10      0.05      0.01\n",
       "10  0.520019  0.747196  0.945863\n",
       "15  0.871445  0.840363  0.926260\n",
       "25  0.769760  0.780376  0.884833"
      ]
     },
     "metadata": {},
     "output_type": "display_data"
    },
    {
     "data": {
      "text/plain": [
       "'precision scores'"
      ]
     },
     "metadata": {},
     "output_type": "display_data"
    },
    {
     "data": {
      "text/html": [
       "<div>\n",
       "<style scoped>\n",
       "    .dataframe tbody tr th:only-of-type {\n",
       "        vertical-align: middle;\n",
       "    }\n",
       "\n",
       "    .dataframe tbody tr th {\n",
       "        vertical-align: top;\n",
       "    }\n",
       "\n",
       "    .dataframe thead th {\n",
       "        text-align: right;\n",
       "    }\n",
       "</style>\n",
       "<table border=\"1\" class=\"dataframe\">\n",
       "  <thead>\n",
       "    <tr style=\"text-align: right;\">\n",
       "      <th></th>\n",
       "      <th>0.10</th>\n",
       "      <th>0.05</th>\n",
       "      <th>0.01</th>\n",
       "    </tr>\n",
       "  </thead>\n",
       "  <tbody>\n",
       "    <tr>\n",
       "      <th>10</th>\n",
       "      <td>0.001358</td>\n",
       "      <td>0.132184</td>\n",
       "      <td>0.175439</td>\n",
       "    </tr>\n",
       "    <tr>\n",
       "      <th>15</th>\n",
       "      <td>0.157068</td>\n",
       "      <td>0.138249</td>\n",
       "      <td>0.312500</td>\n",
       "    </tr>\n",
       "    <tr>\n",
       "      <th>25</th>\n",
       "      <td>0.389831</td>\n",
       "      <td>0.382353</td>\n",
       "      <td>0.425287</td>\n",
       "    </tr>\n",
       "  </tbody>\n",
       "</table>\n",
       "</div>"
      ],
      "text/plain": [
       "        0.10      0.05      0.01\n",
       "10  0.001358  0.132184  0.175439\n",
       "15  0.157068  0.138249  0.312500\n",
       "25  0.389831  0.382353  0.425287"
      ]
     },
     "metadata": {},
     "output_type": "display_data"
    },
    {
     "data": {
      "text/plain": [
       "'recall scores'"
      ]
     },
     "metadata": {},
     "output_type": "display_data"
    },
    {
     "data": {
      "text/html": [
       "<div>\n",
       "<style scoped>\n",
       "    .dataframe tbody tr th:only-of-type {\n",
       "        vertical-align: middle;\n",
       "    }\n",
       "\n",
       "    .dataframe tbody tr th {\n",
       "        vertical-align: top;\n",
       "    }\n",
       "\n",
       "    .dataframe thead th {\n",
       "        text-align: right;\n",
       "    }\n",
       "</style>\n",
       "<table border=\"1\" class=\"dataframe\">\n",
       "  <thead>\n",
       "    <tr style=\"text-align: right;\">\n",
       "      <th></th>\n",
       "      <th>0.10</th>\n",
       "      <th>0.05</th>\n",
       "      <th>0.01</th>\n",
       "    </tr>\n",
       "  </thead>\n",
       "  <tbody>\n",
       "    <tr>\n",
       "      <th>10</th>\n",
       "      <td>1.000000</td>\n",
       "      <td>0.479167</td>\n",
       "      <td>0.833333</td>\n",
       "    </tr>\n",
       "    <tr>\n",
       "      <th>15</th>\n",
       "      <td>0.625000</td>\n",
       "      <td>0.625000</td>\n",
       "      <td>0.833333</td>\n",
       "    </tr>\n",
       "    <tr>\n",
       "      <th>25</th>\n",
       "      <td>0.479167</td>\n",
       "      <td>0.541667</td>\n",
       "      <td>0.770833</td>\n",
       "    </tr>\n",
       "  </tbody>\n",
       "</table>\n",
       "</div>"
      ],
      "text/plain": [
       "        0.10      0.05      0.01\n",
       "10  1.000000  0.479167  0.833333\n",
       "15  0.625000  0.625000  0.833333\n",
       "25  0.479167  0.541667  0.770833"
      ]
     },
     "metadata": {},
     "output_type": "display_data"
    },
    {
     "data": {
      "text/plain": [
       "'f1 scores'"
      ]
     },
     "metadata": {},
     "output_type": "display_data"
    },
    {
     "data": {
      "text/html": [
       "<div>\n",
       "<style scoped>\n",
       "    .dataframe tbody tr th:only-of-type {\n",
       "        vertical-align: middle;\n",
       "    }\n",
       "\n",
       "    .dataframe tbody tr th {\n",
       "        vertical-align: top;\n",
       "    }\n",
       "\n",
       "    .dataframe thead th {\n",
       "        text-align: right;\n",
       "    }\n",
       "</style>\n",
       "<table border=\"1\" class=\"dataframe\">\n",
       "  <thead>\n",
       "    <tr style=\"text-align: right;\">\n",
       "      <th></th>\n",
       "      <th>0.10</th>\n",
       "      <th>0.05</th>\n",
       "      <th>0.01</th>\n",
       "    </tr>\n",
       "  </thead>\n",
       "  <tbody>\n",
       "    <tr>\n",
       "      <th>10</th>\n",
       "      <td>0.002712</td>\n",
       "      <td>0.207207</td>\n",
       "      <td>0.289855</td>\n",
       "    </tr>\n",
       "    <tr>\n",
       "      <th>15</th>\n",
       "      <td>0.251046</td>\n",
       "      <td>0.226415</td>\n",
       "      <td>0.454545</td>\n",
       "    </tr>\n",
       "    <tr>\n",
       "      <th>25</th>\n",
       "      <td>0.429907</td>\n",
       "      <td>0.448276</td>\n",
       "      <td>0.548148</td>\n",
       "    </tr>\n",
       "  </tbody>\n",
       "</table>\n",
       "</div>"
      ],
      "text/plain": [
       "        0.10      0.05      0.01\n",
       "10  0.002712  0.207207  0.289855\n",
       "15  0.251046  0.226415  0.454545\n",
       "25  0.429907  0.448276  0.548148"
      ]
     },
     "metadata": {},
     "output_type": "display_data"
    }
   ],
   "source": [
    "df_lg_auc = pd.DataFrame(data=np.array(lg_grid_results['mean_test_AUC']).reshape(3,3), index=[10, 15, 25], columns=[0.1, 0.05, 0.01])\n",
    "df_lg_precision = pd.DataFrame(data=np.array(lg_grid_results['mean_test_Precision']).reshape(3,3), index=[10, 15, 25], columns=[0.1, 0.05, 0.01])\n",
    "df_lg_recall = pd.DataFrame(data=np.array(lg_grid_results['mean_test_Recall']).reshape(3,3), index=[10, 15, 25], columns=[0.1, 0.05, 0.01])\n",
    "df_lg_f1 = pd.DataFrame(2 * df_lg_precision * df_lg_recall / (df_lg_precision + df_lg_recall))\n",
    "\n",
    "display(\"auc scores\")\n",
    "display(df_lg_auc)\n",
    "display(\"precision scores\")\n",
    "display(df_lg_precision)\n",
    "display(\"recall scores\")\n",
    "display(df_lg_recall)\n",
    "display(\"f1 scores\")\n",
    "display(df_lg_f1)"
   ]
  },
  {
   "cell_type": "markdown",
   "metadata": {},
   "source": [
    "epochs=25 and lambda=0.01 seem to yield highest f1 score. Conduct threshold tuning with these lambda=0.01, epochs=25 to improve f1 score. Also specifying input shape this time."
   ]
  },
  {
   "cell_type": "code",
   "execution_count": 20,
   "metadata": {},
   "outputs": [
    {
     "name": "stdout",
     "output_type": "stream",
     "text": [
      "Train on 410818 samples, validate on 36313 samples\n",
      "Epoch 1/25\n",
      "410818/410818 [==============================] - 26s 63us/sample - loss: 21.3997 - auc_11: 0.8382 - precision_11: 0.8219 - recall_11: 0.8439 - val_loss: 18.1303 - val_auc_11: 0.8354 - val_precision_11: 0.0033 - val_recall_11: 1.0000\n",
      "Epoch 2/25\n",
      "410818/410818 [==============================] - 23s 57us/sample - loss: 20.6841 - auc_11: 0.8565 - precision_11: 0.8437 - recall_11: 0.8583 - val_loss: 5.1194 - val_auc_11: 0.9253 - val_precision_11: 0.2186 - val_recall_11: 0.8333c_11: 0.8564 - precision_11: 0.8434 - recall_11 - ETA: 6s - loss: 20.9158 - auc_11: 0.8555 - prec - - ETA: 0s - loss: 20.7686 - auc_11: 0.8563 - precision_11: 0.8435 - r - ETA: 0s - loss: 20.7114 - auc_11: 0.8564 - precision_11: 0.8436 - recall_11: 0.85\n",
      "Epoch 3/25\n",
      "410818/410818 [==============================] - 22s 53us/sample - loss: 21.3374 - auc_11: 0.8538 - precision_11: 0.8422 - recall_11: 0.8548 - val_loss: 6.4846 - val_auc_11: 0.9445 - val_precision_11: 0.1386 - val_recall_11: 0.8750\n",
      "Epoch 4/25\n",
      "410818/410818 [==============================] - 29s 69us/sample - loss: 21.1467 - auc_11: 0.8572 - precision_11: 0.8476 - recall_11: 0.8559 - val_loss: 13.8940 - val_auc_11: 0.8554 - val_precision_11: 0.0036 - val_recall_11: 0.9792 0.8573 - precision_11: 0.8478 - recall_\n",
      "Epoch 5/25\n",
      "410818/410818 [==============================] - 22s 53us/sample - loss: 19.4408 - auc_11: 0.8619 - precision_11: 0.8523 - recall_11: 0.8593 - val_loss: 12.7674 - val_auc_11: 0.8102 - val_precision_11: 0.0028 - val_recall_11: 0.9792ss: 19.5748 - auc_11: 0.8618 - precision_11: 0.8522 - rec -\n",
      "Epoch 6/25\n",
      "410818/410818 [==============================] - 22s 53us/sample - loss: 21.4908 - auc_11: 0.8561 - precision_11: 0.8476 - recall_11: 0.8537 - val_loss: 111.5830 - val_auc_11: 0.5246 - val_precision_11: 0.0014 - val_recall_11: 1.0000 ETA: 8s - loss: 21.9296 - auc_11: 0.8557 - precision_11: 0.8467 - r - ETA: 8s - loss: 21.7865 - auc_11: 0.8565 - precision_11: 0.8476 - ETA: 7s - loss: 21.8935 - auc_11: 0.8564 - precision_ - ETA: 0s - loss: 21.5146 - auc_11: 0.8561 - precision_11: 0.8476\n",
      "Epoch 7/25\n",
      "410818/410818 [==============================] - 22s 53us/sample - loss: 19.7130 - auc_11: 0.8601 - precision_11: 0.8513 - recall_11: 0.8569 - val_loss: 5.6036 - val_auc_11: 0.7704 - val_precision_11: 0.4310 - val_recall_11: 0.5208\n",
      "Epoch 8/25\n",
      "410818/410818 [==============================] - 22s 54us/sample - loss: 20.1570 - auc_11: 0.8597 - precision_11: 0.8519 - recall_11: 0.8560 - val_loss: 12.2666 - val_auc_11: 0.8372 - val_precision_11: 0.0033 - val_recall_11: 0.9792 -\n",
      "Epoch 9/25\n",
      "410818/410818 [==============================] - 22s 54us/sample - loss: 19.8658 - auc_11: 0.8610 - precision_11: 0.8537 - recall_11: 0.8565 - val_loss: 5.2358 - val_auc_11: 0.9638 - val_precision_11: 0.1074 - val_recall_11: 0.9375\n",
      "Epoch 10/25\n",
      "410818/410818 [==============================] - 23s 56us/sample - loss: 20.1753 - auc_11: 0.8610 - precision_11: 0.8540 - recall_11: 0.8562 - val_loss: 5.2680 - val_auc_11: 0.9247 - val_precision_11: 0.1754 - val_recall_11: 0.833319.7521 -  - ETA: 8s - loss: - ETA: 0s - loss: 20.1774 - auc_11: 0.8610 - precision_11: 0.8540 - recall_11: \n",
      "Epoch 11/25\n",
      "410818/410818 [==============================] - 22s 54us/sample - loss: 20.2420 - auc_11: 0.8597 - precision_11: 0.8528 - recall_11: 0.8549 - val_loss: 20.0351 - val_auc_11: 0.7491 - val_precision_11: 0.0023 - val_recall_11: 0.9792\n",
      "Epoch 12/25\n",
      "410818/410818 [==============================] - 22s 54us/sample - loss: 20.4220 - auc_11: 0.8603 - precision_11: 0.8538 - recall_11: 0.8551 - val_loss: 5.7829 - val_auc_11: 0.7783 - val_precision_11: 0.1092 - val_recall_11: 0.5417sion_11: 0.8538 - r\n",
      "Epoch 13/25\n",
      "410818/410818 [==============================] - 23s 56us/sample - loss: 20.7651 - auc_11: 0.8581 - precision_11: 0.8515 - recall_11: 0.8538 - val_loss: 41.2930 - val_auc_11: 0.6441 - val_precision_11: 0.0017 - val_recall_11: 1.0000\n",
      "Epoch 14/25\n",
      "410818/410818 [==============================] - 26s 63us/sample - loss: 19.9372 - auc_11: 0.8606 - precision_11: 0.8541 - recall_11: 0.8552 - val_loss: 5.1092 - val_auc_11: 0.7393 - val_precision_11: 0.5349 - val_recall_11: 0.4792\n",
      "Epoch 15/25\n",
      "410818/410818 [==============================] - 26s 63us/sample - loss: 19.8676 - auc_11: 0.8621 - precision_11: 0.8558 - recall_11: 0.8565 - val_loss: 4.7863 - val_auc_11: 0.9157 - val_precision_11: 0.3125 - val_recall_11: 0.8333\n",
      "Epoch 16/25\n",
      "410818/410818 [==============================] - 27s 66us/sample - loss: 20.2554 - auc_11: 0.8599 - precision_11: 0.8533 - recall_11: 0.8544 - val_loss: 6.5558 - val_auc_11: 0.8834 - val_precision_11: 0.1907 - val_recall_11: 0.7708\n",
      "Epoch 17/25\n",
      "410818/410818 [==============================] - 29s 70us/sample - loss: 18.7465 - auc_11: 0.8644 - precision_11: 0.8585 - recall_11: 0.8578 - val_loss: 24.7594 - val_auc_11: 0.7133 - val_precision_11: 0.0021 - val_recall_11: 0.9792\n",
      "Epoch 18/25\n",
      "410818/410818 [==============================] - 31s 76us/sample - loss: 19.4170 - auc_11: 0.8619 - precision_11: 0.8560 - recall_11: 0.8557 - val_loss: 5.7498 - val_auc_11: 0.9581 - val_precision_11: 0.0504 - val_recall_11: 0.9375\n",
      "Epoch 19/25\n",
      "410818/410818 [==============================] - 29s 70us/sample - loss: 20.8347 - auc_11: 0.8605 - precision_11: 0.8548 - recall_11: 0.8553 - val_loss: 5.6807 - val_auc_11: 0.9622 - val_precision_11: 0.0809 - val_recall_11: 0.9375\n",
      "Epoch 20/25\n",
      "410818/410818 [==============================] - 30s 73us/sample - loss: 20.5567 - auc_11: 0.8602 - precision_11: 0.8540 - recall_11: 0.8545 - val_loss: 5.4147 - val_auc_11: 0.8848 - val_precision_11: 0.4302 - val_recall_11: 0.7708\n",
      "Epoch 21/25\n",
      "410818/410818 [==============================] - 28s 68us/sample - loss: 20.9728 - auc_11: 0.8592 - precision_11: 0.8531 - recall_11: 0.8539 - val_loss: 9.9075 - val_auc_11: 0.9006 - val_precision_11: 0.0057 - val_recall_11: 0.9792\n",
      "Epoch 22/25\n",
      "410818/410818 [==============================] - 28s 67us/sample - loss: 19.9466 - auc_11: 0.8609 - precision_11: 0.8546 - recall_11: 0.8556 - val_loss: 5.4603 - val_auc_11: 0.7601 - val_precision_11: 0.5435 - val_recall_11: 0.5208\n",
      "Epoch 23/25\n",
      "410818/410818 [==============================] - 26s 63us/sample - loss: 19.2137 - auc_11: 0.8634 - precision_11: 0.8578 - recall_11: 0.8567 - val_loss: 229.6976 - val_auc_11: 0.5160 - val_precision_11: 0.0014 - val_recall_11: 1.0000\n",
      "Epoch 24/25\n",
      "410818/410818 [==============================] - 24s 59us/sample - loss: 19.4046 - auc_11: 0.8629 - precision_11: 0.8570 - recall_11: 0.8569 - val_loss: 21.1834 - val_auc_11: 0.7364 - val_precision_11: 0.0023 - val_recall_11: 0.9792\n",
      "Epoch 25/25\n",
      "410818/410818 [==============================] - 24s 59us/sample - loss: 20.1050 - auc_11: 0.8592 - precision_11: 0.8529 - recall_11: 0.8536 - val_loss: 4.6156 - val_auc_11: 0.8848 - val_precision_11: 0.4253 - val_recall_11: 0.7708\n"
     ]
    },
    {
     "data": {
      "text/plain": [
       "<tensorflow.python.keras.callbacks.History at 0x7fb41b109f28>"
      ]
     },
     "execution_count": 20,
     "metadata": {},
     "output_type": "execute_result"
    }
   ],
   "source": [
    "NOW = datetime.datetime.now().strftime(\"%Y%m%d%H%M%S\")\n",
    "NAME = f\"creditcard_fraud_lgmodel_{NOW}\"\n",
    "tensorboard = TensorBoard(log_dir=f'./logs/{NAME}', histogram_freq=1)\n",
    "m = create_lg_model(lglambda=0.01, input_shape=x_train_smote.shape[1])\n",
    "m.fit(x_train_smote, y_train_smote, epochs=25, callbacks=[tensorboard], validation_data = (x_cv, y_cv))"
   ]
  },
  {
   "cell_type": "code",
   "execution_count": 22,
   "metadata": {},
   "outputs": [
    {
     "name": "stdout",
     "output_type": "stream",
     "text": [
      "The tensorboard extension is already loaded. To reload it, use:\n",
      "  %reload_ext tensorboard\n"
     ]
    },
    {
     "data": {
      "text/plain": [
       "Reusing TensorBoard on port 6006 (pid 6255), started 0:00:35 ago. (Use '!kill 6255' to kill it.)"
      ]
     },
     "metadata": {},
     "output_type": "display_data"
    },
    {
     "data": {
      "text/html": [
       "\n",
       "      <iframe id=\"tensorboard-frame-bbe7f68a3e3ee725\" width=\"100%\" height=\"800\" frameborder=\"0\">\n",
       "      </iframe>\n",
       "      <script>\n",
       "        (function() {\n",
       "          const frame = document.getElementById(\"tensorboard-frame-bbe7f68a3e3ee725\");\n",
       "          const url = new URL(\"http://localhost\");\n",
       "          url.port = 6006;\n",
       "          frame.src = url;\n",
       "        })();\n",
       "      </script>\n",
       "  "
      ],
      "text/plain": [
       "<IPython.core.display.HTML object>"
      ]
     },
     "metadata": {},
     "output_type": "display_data"
    }
   ],
   "source": [
    "%load_ext tensorboard\n",
    "%tensorboard --logdir logs/{NAME}"
   ]
  },
  {
   "cell_type": "code",
   "execution_count": 31,
   "metadata": {},
   "outputs": [
    {
     "data": {
      "text/plain": [
       "'optimal threshold: 1.0'"
      ]
     },
     "metadata": {},
     "output_type": "display_data"
    },
    {
     "name": "stdout",
     "output_type": "stream",
     "text": [
      "              precision    recall  f1-score   support\n",
      "\n",
      "           0       1.00      1.00      1.00     36265\n",
      "           1       0.61      0.77      0.68        48\n",
      "\n",
      "    accuracy                           1.00     36313\n",
      "   macro avg       0.80      0.89      0.84     36313\n",
      "weighted avg       1.00      1.00      1.00     36313\n",
      "\n"
     ]
    },
    {
     "data": {
      "text/plain": [
       "'macro avg f1 score 0.84, improvement from 0.55 (results without hyperparameter tuning)'"
      ]
     },
     "metadata": {},
     "output_type": "display_data"
    },
    {
     "data": {
      "text/plain": [
       "'roc auc score: 0.8850857691070363'"
      ]
     },
     "metadata": {},
     "output_type": "display_data"
    },
    {
     "data": {
      "image/png": "[encoded data removed]",
      "text/plain": [
       "<Figure size 432x288 with 2 Axes>"
      ]
     },
     "metadata": {
      "needs_background": "light"
     },
     "output_type": "display_data"
    }
   ],
   "source": [
    "preds = m.predict_proba(x_cv)\n",
    "fpr, tpr, thresholds = roc_curve(y_cv, preds)\n",
    "opt_index = np.argmax(tpr-fpr)\n",
    "opt_threshold = thresholds[opt_index]\n",
    "display(f'optimal threshold: {opt_threshold}')\n",
    "\n",
    "pred_class = list((preds >= opt_threshold).astype(int))\n",
    "pred_class = list(map(lambda x: x[0], pred_class))\n",
    "\n",
    "cm = confusion_matrix(y_cv, pred_class)\n",
    "dp1 = ConfusionMatrixDisplay(confusion_matrix=cm)\n",
    "dp1.plot()\n",
    "print(classification_report(y_cv, pred_class))\n",
    "display('macro avg f1 score 0.84, improvement from 0.55 (results without hyperparameter tuning)')\n",
    "display(f'roc auc score: {roc_auc_score(y_cv, pred_class)}')\n"
   ]
  },
  {
   "cell_type": "markdown",
   "metadata": {},
   "source": [
    "Threshold tuning has greatly reduced the number of false positives. Macro average of f1 score has improve greatly (from 0.55 baseline to 0.84)"
   ]
  },
  {
   "cell_type": "code",
   "execution_count": 33,
   "metadata": {},
   "outputs": [
    {
     "name": "stdout",
     "output_type": "stream",
     "text": [
      "WARNING:tensorflow:From /Users/solinakim/opt/anaconda3/envs/mypython3.6/lib/python3.6/site-packages/tensorflow_core/python/ops/resource_variable_ops.py:1781: calling BaseResourceVariable.__init__ (from tensorflow.python.ops.resource_variable_ops) with constraint is deprecated and will be removed in a future version.\n",
      "Instructions for updating:\n",
      "If using Keras pass *_constraint arguments to layers.\n",
      "INFO:tensorflow:Assets written to: ./models/lgmodel_v6/assets\n"
     ]
    }
   ],
   "source": [
    "# saving best performing model\n",
    "lgmodel_v6 = m.save('./models/lgmodel_v6')"
   ]
  },
  {
   "cell_type": "code",
   "execution_count": 36,
   "metadata": {},
   "outputs": [],
   "source": [
    "lgmodel_v6 = tf.keras.models.load_model('./models/lgmodel_v6')"
   ]
  }
 ],
 "metadata": {
  "kernelspec": {
   "display_name": "Python 3.6.13 ('mypython3.6')",
   "language": "python",
   "name": "python3"
  },
  "language_info": {
   "codemirror_mode": {
    "name": "ipython",
    "version": 3
   },
   "file_extension": ".py",
   "mimetype": "text/x-python",
   "name": "python",
   "nbconvert_exporter": "python",
   "pygments_lexer": "ipython3",
   "version": "3.6.13"
  },
  "orig_nbformat": 4,
  "vscode": {
   "interpreter": {
    "hash": "2fffd181aabd4b4292c103931238db38b0c7ab3996c6ca963d48c78c80d71804"
   }
  }
 },
 "nbformat": 4,
 "nbformat_minor": 2
}
