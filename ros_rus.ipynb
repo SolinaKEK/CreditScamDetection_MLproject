{
 "cells": [
  {
   "cell_type": "markdown",
   "metadata": {},
   "source": [
    "# The Goal\n",
    "- Branching off of previous results, fix imbalance in data set\n",
    "- Explore / compare resulting model performance of using random under-sampling vs random over-sampling."
   ]
  },
  {
   "cell_type": "markdown",
   "metadata": {},
   "source": [
    "# Step 1: reproduce imbalance from original dataset split\n",
    "- Note: This <a href='https://www.kaggle.com/code/janiobachmann/credit-fraud-dealing-with-imbalanced-datasets/data'>data set from kaggle</a> contains features that went through a PCA transformation"
   ]
  },
  {
   "cell_type": "code",
   "execution_count": 26,
   "metadata": {},
   "outputs": [],
   "source": [
    "import tensorflow as tf\n",
    "import numpy as np\n",
    "import pandas as pd\n",
    "from tensorflow.keras.models import Sequential\n",
    "from tensorflow.keras.layers import Dense, Activation\n",
    "from tensorflow.keras.callbacks import TensorBoard\n",
    "from sklearn.model_selection import train_test_split, cross_val_predict\n",
    "from sklearn.metrics import confusion_matrix, ConfusionMatrixDisplay, roc_auc_score, f1_score, auc, roc_curve\n",
    "import matplotlib.pyplot as plt\n",
    "import seaborn as sns\n",
    "import datetime\n",
    "import collections\n",
    "import logging\n",
    "import os\n",
    "import sys\n",
    "import xgboost as xgb\n",
    "from xgboost import XGBClassifier\n",
    "from imblearn.over_sampling import RandomOverSampler"
   ]
  },
  {
   "cell_type": "markdown",
   "metadata": {},
   "source": [
    "Reproducing results from baseline model by reusing seed of 1234"
   ]
  },
  {
   "cell_type": "code",
   "execution_count": 2,
   "metadata": {},
   "outputs": [
    {
     "name": "stdout",
     "output_type": "stream",
     "text": [
      "original dataset: 242085 examples, 30 features\n",
      "training set: 205772 examples, 72%\n",
      "validation set: 36313 examples, 13%\n",
      "test set: 42722 examples, 15%\n",
      "======================================\n",
      "positive examples split:\n",
      "training set: 74%\n",
      "cv set: 16%\n",
      "test set: 10%\n",
      "======================================\n",
      "positive example percentage within sets:\n",
      "training set: 0.176% positive examples\n",
      "cv set: 0.132% positive examples\n",
      "test set: 0.19% positive examples\n"
     ]
    }
   ],
   "source": [
    "df = pd.read_csv('./creditcard.csv')\n",
    "X = df.drop('Class', axis=1).values\n",
    "Y = df.Class.values\n",
    "\n",
    "seed = 1234\n",
    "tf.random.set_seed(seed)\n",
    "\n",
    "x, x_test, y, y_test = train_test_split(X, Y, test_size=0.15, shuffle=True, random_state=seed)\n",
    "x_train, x_cv, y_train, y_cv = train_test_split(x, y, test_size=0.15, shuffle=True, random_state=seed)\n",
    "\n",
    "print(f'original dataset: {x.shape[0]} examples, {x.shape[1]} features')\n",
    "print(f'training set: {x_train.shape[0]} examples, {round(100 * x_train.shape[0] / X.shape[0])}%')\n",
    "print(f'validation set: {x_cv.shape[0]} examples, {round(100 * x_cv.shape[0] / X.shape[0])}%')\n",
    "print(f'test set: {x_test.shape[0]} examples, {round(100 * x_test.shape[0] / X.shape[0])}%')\n",
    "print('======================================')\n",
    "print(f'positive examples split:')\n",
    "print(f'training set: {round(len(y_train[y_train==1]) / len(Y[Y==1]) * 100)}%')\n",
    "print(f'cv set: {round(len(y_test[y_test==1]) / len(Y[Y==1]) * 100)}%')\n",
    "print(f'test set: {round(len(y_cv[y_cv==1]) / len(Y[Y==1]) * 100)}%')\n",
    "print('======================================')\n",
    "print(f'positive example percentage within sets:')\n",
    "print(f'training set: {round(len(y_train[y_train==1]) / len(y_train) * 100, 3)}% positive examples')\n",
    "print(f'cv set: {round(len(y_cv[y_cv==1]) / len(y_cv) * 100, 3)}% positive examples')\n",
    "print(f'test set: {round(len(y_test[y_test==1]) / len(y_test) * 100, 3)}% positive examples')"
   ]
  },
  {
   "cell_type": "markdown",
   "metadata": {},
   "source": [
    "## Step 2: Apply random undersampling to training set\n",
    "Applying undersampling / oversampling techniques to both the test/cv sets can cause duplicate examples across train/test sets."
   ]
  },
  {
   "cell_type": "code",
   "execution_count": 4,
   "metadata": {},
   "outputs": [
    {
     "name": "stdout",
     "output_type": "stream",
     "text": [
      "positive example percentage within sets:\n",
      "original training set: 0.176% (363 out of 205772) positive examples\n",
      "random under sampled training set: 50.0% (363 out of 726) positive examples\n"
     ]
    }
   ],
   "source": [
    "from imblearn.under_sampling import RandomUnderSampler\n",
    "\n",
    "rus = RandomUnderSampler(random_state=seed, replacement=True)\n",
    "x_train_rus, y_train_rus = rus.fit_resample(x_train, y_train)\n",
    "\n",
    "print(f'positive example percentage within sets:')\n",
    "print(f'original training set: {round(len(y_train[y_train==1]) / len(y_train) * 100, 3)}% ({len(y_train[y_train==1])} out of {len(y_train)}) positive examples')\n",
    "print(f'random under sampled training set: {round(len(y_train_rus[y_train_rus==1]) / len(y_train_rus) * 100, 3)}% ({len(y_train_rus[y_train_rus==1])} out of {len(y_train_rus)}) positive examples')"
   ]
  },
  {
   "cell_type": "markdown",
   "metadata": {},
   "source": [
    "## Step 3: Apply random oversampling to training set"
   ]
  },
  {
   "cell_type": "code",
   "execution_count": 5,
   "metadata": {},
   "outputs": [
    {
     "name": "stdout",
     "output_type": "stream",
     "text": [
      "positive example percentage within sets:\n",
      "original training set: 0.176% (363 out of 205772) positive examples\n",
      "random over sampled training set: 50.0% (205409 out of 410818) positive examples\n"
     ]
    }
   ],
   "source": [
    "ros = RandomOverSampler(random_state=seed)\n",
    "x_train_ros, y_train_ros = ros.fit_resample(x_train, y_train)\n",
    "\n",
    "print(f'positive example percentage within sets:')\n",
    "print(f'original training set: {round(len(y_train[y_train==1]) / len(y_train) * 100, 3)}% ({len(y_train[y_train==1])} out of {len(y_train)}) positive examples')\n",
    "print(f'random over sampled training set: {round(len(y_train_ros[y_train_ros==1]) / len(y_train_ros) * 100, 3)}% ({len(y_train_ros[y_train_ros==1])} out of {len(y_train_ros)}) positive examples')"
   ]
  },
  {
   "cell_type": "markdown",
   "metadata": {},
   "source": [
    "# Step 4: Train logistic regression, NN, and xgboost on undersampled training set\n",
    "- Undersampling fixes the imbalance problem, but it is uncertain whether the benefits of balance will outweigh the loss of training examples."
   ]
  },
  {
   "cell_type": "code",
   "execution_count": 25,
   "metadata": {},
   "outputs": [],
   "source": [
    "## logistic regression\n",
    "\n",
    "# building model framework\n",
    "lgmodel_v2 = tf.keras.models.Sequential([\n",
    "    tf.keras.layers.Dense(1, activation='sigmoid')\n",
    "])\n",
    "\n",
    "lgmodel_v2.compile(\n",
    "    loss=tf.keras.losses.BinaryCrossentropy(),\n",
    "    optimizer=tf.keras.optimizers.Adam(learning_rate=0.01),\n",
    "    metrics=[tf.keras.metrics.BinaryAccuracy(), tf.keras.metrics.Precision(), tf.keras.metrics.Recall()]\n",
    ")\n",
    "\n",
    "NOW = datetime.datetime.now().strftime(\"%Y%m%d%H%M%S\")\n",
    "NAME = f\"creditcard_fraud_lgmodel_{NOW}\"\n",
    "tensorboard = TensorBoard(log_dir=f'./logs/{NAME}', histogram_freq=1)\n",
    "\n",
    "logging.getLogger(\"tensorflow\").setLevel(logging.ERROR)\n",
    "\n",
    "lgmodel_v2.fit(\n",
    "    x_train_rus, y_train_rus,\n",
    "    epochs=50,\n",
    "    callbacks = [tensorboard],\n",
    "    validation_data = (x_cv, y_cv),\n",
    ")\n",
    "\n",
    "sys.stdout = open(f'./logs/{NAME}/config.txt', 'w')\n",
    "print(lgmodel_v2.summary())\n",
    "print(lgmodel_v2.to_json())"
   ]
  },
  {
   "cell_type": "code",
   "execution_count": 21,
   "metadata": {},
   "outputs": [
    {
     "data": {
      "text/html": [
       "\n",
       "      <iframe id=\"tensorboard-frame-3200fbd35e4682fc\" width=\"100%\" height=\"800\" frameborder=\"0\">\n",
       "      </iframe>\n",
       "      <script>\n",
       "        (function() {\n",
       "          const frame = document.getElementById(\"tensorboard-frame-3200fbd35e4682fc\");\n",
       "          const url = new URL(\"/\", window.location);\n",
       "          url.port = 6012;\n",
       "          frame.src = url;\n",
       "        })();\n",
       "      </script>\n",
       "  "
      ],
      "text/plain": [
       "<IPython.core.display.HTML object>"
      ]
     },
     "metadata": {},
     "output_type": "display_data"
    }
   ],
   "source": [
    "%load_ext tensorboard\n",
    "%tensorboard --logdir logs/{NAME}"
   ]
  },
  {
   "cell_type": "code",
   "execution_count": 22,
   "metadata": {},
   "outputs": [],
   "source": [
    "## NN\n",
    "\n",
    "# building model framework\n",
    "nnmodel_v2 = tf.keras.models.Sequential([\n",
    "        Dense(units=x_train.shape[1], activation='relu'),\n",
    "        Dense(units=15, activation='relu'),\n",
    "        Dense(units=5, activation='relu'),\n",
    "        Dense(units=1, activation='sigmoid'),\n",
    "])\n",
    "\n",
    "nnmodel_v2.compile(\n",
    "    loss=tf.keras.losses.BinaryCrossentropy(),\n",
    "    optimizer=tf.keras.optimizers.Adam(learning_rate=0.01),\n",
    "    metrics=[tf.keras.metrics.BinaryAccuracy(), tf.keras.metrics.Precision(), tf.keras.metrics.Recall()]\n",
    ")\n",
    "\n",
    "NOW = datetime.datetime.now().strftime(\"%Y%m%d%H%M%S\")\n",
    "NAME = f\"creditcard_fraud_nnmodel_{NOW}\"\n",
    "tensorboard = TensorBoard(log_dir=f'./logs/{NAME}', histogram_freq=1)\n",
    "\n",
    "logging.getLogger(\"tensorflow\").setLevel(logging.ERROR)\n",
    "\n",
    "nnmodel_v2.fit(\n",
    "    x_train_rus, y_train_rus,\n",
    "    epochs=50,\n",
    "    callbacks = [tensorboard],\n",
    "    validation_data = (x_cv, y_cv),\n",
    ")\n",
    "\n",
    "sys.stdout = open(f'./logs/{NAME}/config.txt', 'w')\n",
    "print(nnmodel_v2.summary())\n",
    "print(nnmodel_v2.to_json())"
   ]
  },
  {
   "cell_type": "code",
   "execution_count": 28,
   "metadata": {},
   "outputs": [
    {
     "data": {
      "text/plain": [
       "Reusing TensorBoard on port 6014 (pid 24458), started 0:00:43 ago. (Use '!kill 24458' to kill it.)"
      ]
     },
     "metadata": {},
     "output_type": "display_data"
    },
    {
     "data": {
      "text/html": [
       "\n",
       "      <iframe id=\"tensorboard-frame-3480bd4bcd5edf56\" width=\"100%\" height=\"800\" frameborder=\"0\">\n",
       "      </iframe>\n",
       "      <script>\n",
       "        (function() {\n",
       "          const frame = document.getElementById(\"tensorboard-frame-3480bd4bcd5edf56\");\n",
       "          const url = new URL(\"http://localhost\");\n",
       "          url.port = 6014;\n",
       "          frame.src = url;\n",
       "        })();\n",
       "      </script>\n",
       "  "
      ],
      "text/plain": [
       "<IPython.core.display.HTML object>"
      ]
     },
     "metadata": {},
     "output_type": "display_data"
    }
   ],
   "source": [
    "%load_ext tensorboard\n",
    "%tensorboard --logdir logs/{NAME}"
   ]
  },
  {
   "cell_type": "code",
   "execution_count": 29,
   "metadata": {},
   "outputs": [
    {
     "name": "stderr",
     "output_type": "stream",
     "text": [
      "/Users/solinakim/opt/anaconda3/envs/mypython3.6/lib/python3.6/site-packages/xgboost/sklearn.py:888: UserWarning: The use of label encoder in XGBClassifier is deprecated and will be removed in a future release. To remove this warning, do the following: 1) Pass option use_label_encoder=False when constructing XGBClassifier object; and 2) Encode your labels (y) as integers starting with 0, i.e. 0, 1, 2, ..., [num_class - 1].\n",
      "  warnings.warn(label_encoder_deprecation_msg, UserWarning)\n"
     ]
    },
    {
     "data": {
      "text/plain": [
       "XGBClassifier(base_score=0.5, booster='gbtree', colsample_bylevel=1,\n",
       "              colsample_bynode=1, colsample_bytree=1, gamma=0, gpu_id=-1,\n",
       "              importance_type='gain', interaction_constraints='',\n",
       "              learning_rate=0.300000012, max_delta_step=0, max_depth=6,\n",
       "              min_child_weight=1, missing=nan, monotone_constraints='()',\n",
       "              n_estimators=100, n_jobs=8, num_parallel_tree=1, random_state=0,\n",
       "              reg_alpha=0, reg_lambda=1, scale_pos_weight=1, subsample=1,\n",
       "              tree_method='exact', validate_parameters=1, verbosity=None)"
      ]
     },
     "execution_count": 29,
     "metadata": {},
     "output_type": "execute_result"
    }
   ],
   "source": [
    "## xgboost\n",
    "\n",
    "xgbmodel_v2 = XGBClassifier(n_estimators=100)\n",
    "xgbmodel_v2.fit(x_train_rus, y_train_rus)\n"
   ]
  },
  {
   "cell_type": "markdown",
   "metadata": {},
   "source": [
    "## Step 5: Repeat training with over sampled training set"
   ]
  },
  {
   "cell_type": "code",
   "execution_count": 32,
   "metadata": {},
   "outputs": [],
   "source": [
    "## logistic regression\n",
    "\n",
    "# building moddel framework\n",
    "lgmodel_v3 = tf.keras.models.Sequential([\n",
    "    tf.keras.layers.Dense(1, activation='sigmoid')\n",
    "])\n",
    "\n",
    "lgmodel_v3.compile(\n",
    "    loss=tf.keras.losses.BinaryCrossentropy(),\n",
    "    optimizer=tf.keras.optimizers.Adam(learning_rate=0.01),\n",
    "    metrics=[tf.keras.metrics.BinaryAccuracy(), tf.keras.metrics.Precision(), tf.keras.metrics.Recall()]\n",
    ")\n",
    "\n",
    "NOW = datetime.datetime.now().strftime(\"%Y%m%d%H%M%S\")\n",
    "NAME = f\"creditcard_fraud_lgmodel_{NOW}\"\n",
    "tensorboard = TensorBoard(log_dir=f'./logs/{NAME}', histogram_freq=1)\n",
    "\n",
    "logging.getLogger(\"tensorflow\").setLevel(logging.ERROR)\n",
    "\n",
    "lgmodel_v3.fit(\n",
    "    x_train_ros, y_train_ros,\n",
    "    epochs=50,\n",
    "    callbacks = [tensorboard],\n",
    "    validation_data = (x_cv, y_cv),\n",
    ")\n",
    "\n",
    "sys.stdout = open(f'./logs/{NAME}/config.txt', 'w')\n",
    "print(lgmodel_v3.summary())\n",
    "print(lgmodel_v3.to_json())"
   ]
  },
  {
   "cell_type": "code",
   "execution_count": null,
   "metadata": {},
   "outputs": [],
   "source": [
    "%load_ext tensorboard\n",
    "%tensorboard --logdir logs/{NAME}"
   ]
  },
  {
   "cell_type": "code",
   "execution_count": 33,
   "metadata": {},
   "outputs": [],
   "source": [
    "## NN\n",
    "\n",
    "# building model framework\n",
    "nnmodel_v3 = tf.keras.models.Sequential([\n",
    "        Dense(units=25, activation='relu'),\n",
    "        Dense(units=15, activation='relu'),\n",
    "        Dense(units=5, activation='relu'),\n",
    "        Dense(units=1, activation='sigmoid'),\n",
    "])\n",
    "\n",
    "nnmodel_v3.compile(\n",
    "    loss=tf.keras.losses.BinaryCrossentropy(),\n",
    "    optimizer=tf.keras.optimizers.Adam(learning_rate=0.01),\n",
    "    metrics=[tf.keras.metrics.BinaryAccuracy(), tf.keras.metrics.Precision(), tf.keras.metrics.Recall()]\n",
    ")\n",
    "\n",
    "NOW = datetime.datetime.now().strftime(\"%Y%m%d%H%M%S\")\n",
    "NAME = f\"creditcard_fraud_nnmodel_{NOW}\"\n",
    "tensorboard = TensorBoard(log_dir=f'./logs/{NAME}', histogram_freq=1)\n",
    "\n",
    "logging.getLogger(\"tensorflow\").setLevel(logging.ERROR)\n",
    "\n",
    "nnmodel_v3.fit(\n",
    "    x_train_ros, y_train_ros,\n",
    "    epochs=50,\n",
    "    callbacks = [tensorboard],\n",
    "    validation_data = (x_cv, y_cv),\n",
    ")\n",
    "\n",
    "sys.stdout = open(f'./logs/{NAME}/config.txt', 'w')\n",
    "print(nnmodel_v3.summary())\n",
    "print(nnmodel_v3.to_json())"
   ]
  },
  {
   "cell_type": "code",
   "execution_count": 35,
   "metadata": {},
   "outputs": [
    {
     "data": {
      "text/plain": [
       "Reusing TensorBoard on port 6012 (pid 24827), started 0:00:02 ago. (Use '!kill 24827' to kill it.)"
      ]
     },
     "metadata": {},
     "output_type": "display_data"
    },
    {
     "data": {
      "text/html": [
       "\n",
       "      <iframe id=\"tensorboard-frame-df343aa10e0429\" width=\"100%\" height=\"800\" frameborder=\"0\">\n",
       "      </iframe>\n",
       "      <script>\n",
       "        (function() {\n",
       "          const frame = document.getElementById(\"tensorboard-frame-df343aa10e0429\");\n",
       "          const url = new URL(\"http://localhost\");\n",
       "          url.port = 6012;\n",
       "          frame.src = url;\n",
       "        })();\n",
       "      </script>\n",
       "  "
      ],
      "text/plain": [
       "<IPython.core.display.HTML object>"
      ]
     },
     "metadata": {},
     "output_type": "display_data"
    }
   ],
   "source": [
    "%load_ext tensorboard\n",
    "%tensorboard --logdir logs/{NAME}"
   ]
  },
  {
   "cell_type": "code",
   "execution_count": 36,
   "metadata": {},
   "outputs": [
    {
     "name": "stderr",
     "output_type": "stream",
     "text": [
      "/Users/solinakim/opt/anaconda3/envs/mypython3.6/lib/python3.6/site-packages/xgboost/sklearn.py:888: UserWarning: The use of label encoder in XGBClassifier is deprecated and will be removed in a future release. To remove this warning, do the following: 1) Pass option use_label_encoder=False when constructing XGBClassifier object; and 2) Encode your labels (y) as integers starting with 0, i.e. 0, 1, 2, ..., [num_class - 1].\n",
      "  warnings.warn(label_encoder_deprecation_msg, UserWarning)\n"
     ]
    },
    {
     "data": {
      "text/plain": [
       "XGBClassifier(base_score=0.5, booster='gbtree', colsample_bylevel=1,\n",
       "              colsample_bynode=1, colsample_bytree=1, gamma=0, gpu_id=-1,\n",
       "              importance_type='gain', interaction_constraints='',\n",
       "              learning_rate=0.300000012, max_delta_step=0, max_depth=6,\n",
       "              min_child_weight=1, missing=nan, monotone_constraints='()',\n",
       "              n_estimators=100, n_jobs=8, num_parallel_tree=1, random_state=0,\n",
       "              reg_alpha=0, reg_lambda=1, scale_pos_weight=1, subsample=1,\n",
       "              tree_method='exact', validate_parameters=1, verbosity=None)"
      ]
     },
     "execution_count": 36,
     "metadata": {},
     "output_type": "execute_result"
    }
   ],
   "source": [
    "## xgboost\n",
    "\n",
    "xgbmodel_v3 = XGBClassifier(n_estimators=100)\n",
    "xgbmodel_v3.fit(x_train_ros, y_train_ros)\n"
   ]
  },
  {
   "cell_type": "markdown",
   "metadata": {},
   "source": [
    "## Step 6: Compare Results"
   ]
  },
  {
   "cell_type": "code",
   "execution_count": 20,
   "metadata": {},
   "outputs": [],
   "source": [
    "# predictions\n",
    "# random undersampling\n",
    "\n",
    "lgmodel_v2_cv_pred_probs = lgmodel_v2.predict(x_cv)\n",
    "nnmodel_v2_cv_pred_probs = nnmodel_v2.predict(x_cv)\n",
    "xgbmodel_v2_cv_preds = xgbmodel_v2.predict(x_cv)\n",
    "\n",
    "#random oversampling\n",
    "lgmodel_v3_cv_pred_probs = lgmodel_v3.predict(x_cv)\n",
    "nnmodel_v3_cv_pred_probs = nnmodel_v3.predict(x_cv)\n",
    "xgbmodel_v3_cv_preds = xgbmodel_v3.predict(x_cv)\n",
    "\n",
    "# converting probabilities from sigmoid to binary classes\n",
    "binclass_threshold = 0.5\n",
    "lgmodel_v2_cv_preds = (lgmodel_v2_cv_pred_probs >= binclass_threshold).astype(int)\n",
    "nnmodel_v2_cv_preds = (nnmodel_v2_cv_pred_probs >= binclass_threshold).astype(int)\n",
    "lgmodel_v3_cv_preds = (lgmodel_v3_cv_pred_probs >= binclass_threshold).astype(int)\n",
    "nnmodel_v3_cv_preds = (nnmodel_v3_cv_pred_probs >= binclass_threshold).astype(int)\n",
    "\n",
    "# generating confusion matrices\n",
    "cm_lgmodel_v2 = confusion_matrix(y_cv, lgmodel_v2_cv_preds)\n",
    "cm_nnmodel_v2 = confusion_matrix(y_cv, nnmodel_v2_cv_preds)\n",
    "cm_xgbmodel_v2 = confusion_matrix(y_cv, xgbmodel_v2_cv_preds)\n",
    "\n",
    "cm_lgmodel_v3 = confusion_matrix(y_cv, lgmodel_v3_cv_preds)\n",
    "cm_nnmodel_v3 = confusion_matrix(y_cv, nnmodel_v3_cv_preds)\n",
    "cm_xgbmodel_v3 = confusion_matrix(y_cv, xgbmodel_v3_cv_preds)"
   ]
  },
  {
   "cell_type": "code",
   "execution_count": 21,
   "metadata": {},
   "outputs": [
    {
     "data": {
      "text/plain": [
       "'========F1 SCORES========'"
      ]
     },
     "metadata": {},
     "output_type": "display_data"
    },
    {
     "data": {
      "text/plain": [
       "'========with random undersampling'"
      ]
     },
     "metadata": {},
     "output_type": "display_data"
    },
    {
     "data": {
      "text/plain": [
       "'logistic regression: 0.0026814144461203286'"
      ]
     },
     "metadata": {},
     "output_type": "display_data"
    },
    {
     "data": {
      "text/plain": [
       "'neural networks: 0.002640627148947875'"
      ]
     },
     "metadata": {},
     "output_type": "display_data"
    },
    {
     "data": {
      "text/plain": [
       "'xgboost: 0.06540697674418605'"
      ]
     },
     "metadata": {},
     "output_type": "display_data"
    },
    {
     "data": {
      "text/plain": [
       "'========with random oversampling'"
      ]
     },
     "metadata": {},
     "output_type": "display_data"
    },
    {
     "data": {
      "text/plain": [
       "'logistic regression: 0.15492957746478875'"
      ]
     },
     "metadata": {},
     "output_type": "display_data"
    },
    {
     "data": {
      "text/plain": [
       "'neural networks: 0.0'"
      ]
     },
     "metadata": {},
     "output_type": "display_data"
    },
    {
     "data": {
      "text/plain": [
       "'xgboost: 0.8936170212765957'"
      ]
     },
     "metadata": {},
     "output_type": "display_data"
    },
    {
     "data": {
      "text/plain": [
       "'========RECEIVER OPERATING CHARACTERISTIC CURVE (ROC AUC)========'"
      ]
     },
     "metadata": {},
     "output_type": "display_data"
    },
    {
     "data": {
      "text/plain": [
       "'========with random undersampling'"
      ]
     },
     "metadata": {},
     "output_type": "display_data"
    },
    {
     "data": {
      "text/plain": [
       "'logistic regression: 0.507707155659727'"
      ]
     },
     "metadata": {},
     "output_type": "display_data"
    },
    {
     "data": {
      "text/plain": [
       "'neural networks: 0.5000827243899076'"
      ]
     },
     "metadata": {},
     "output_type": "display_data"
    },
    {
     "data": {
      "text/plain": [
       "'xgboost 0.9510607679580863'"
      ]
     },
     "metadata": {},
     "output_type": "display_data"
    },
    {
     "data": {
      "text/plain": [
       "'========with random oversampling'"
      ]
     },
     "metadata": {},
     "output_type": "display_data"
    },
    {
     "data": {
      "text/plain": [
       "'logistic regression: 0.9517705317339951'"
      ]
     },
     "metadata": {},
     "output_type": "display_data"
    },
    {
     "data": {
      "text/plain": [
       "'neural networks: 0.5'"
      ]
     },
     "metadata": {},
     "output_type": "display_data"
    },
    {
     "data": {
      "text/plain": [
       "'xgboost 0.9374448504067283'"
      ]
     },
     "metadata": {},
     "output_type": "display_data"
    },
    {
     "data": {
      "image/png": "[encoded data removed]",
      "text/plain": [
       "<Figure size 432x288 with 2 Axes>"
      ]
     },
     "metadata": {
      "needs_background": "light"
     },
     "output_type": "display_data"
    },
    {
     "data": {
      "image/png": "[encoded data removed]",
      "text/plain": [
       "<Figure size 432x288 with 2 Axes>"
      ]
     },
     "metadata": {
      "needs_background": "light"
     },
     "output_type": "display_data"
    },
    {
     "data": {
      "image/png": "[encoded data removed]",
      "text/plain": [
       "<Figure size 432x288 with 2 Axes>"
      ]
     },
     "metadata": {
      "needs_background": "light"
     },
     "output_type": "display_data"
    },
    {
     "data": {
      "image/png": "[encoded data removed]",
      "text/plain": [
       "<Figure size 432x288 with 2 Axes>"
      ]
     },
     "metadata": {
      "needs_background": "light"
     },
     "output_type": "display_data"
    },
    {
     "data": {
      "image/png": "[encoded data removed]",
      "text/plain": [
       "<Figure size 432x288 with 2 Axes>"
      ]
     },
     "metadata": {
      "needs_background": "light"
     },
     "output_type": "display_data"
    },
    {
     "data": {
      "image/png": "[encoded data removed]",
      "text/plain": [
       "<Figure size 432x288 with 2 Axes>"
      ]
     },
     "metadata": {
      "needs_background": "light"
     },
     "output_type": "display_data"
    }
   ],
   "source": [
    "dp1 = ConfusionMatrixDisplay(confusion_matrix=cm_lgmodel_v2)\n",
    "dp1.plot()\n",
    "dp1.ax_.set_title('logistic regression with random undersampling cf matrix')\n",
    "\n",
    "dp2 = ConfusionMatrixDisplay(confusion_matrix=cm_nnmodel_v2)\n",
    "dp2.plot()\n",
    "dp2.ax_.set_title('neural network with random undersampling cf matrix')\n",
    "\n",
    "dp3 = ConfusionMatrixDisplay(confusion_matrix=cm_xgbmodel_v2)\n",
    "dp3.plot()\n",
    "dp3.ax_.set_title('xgboost with random undersampling cf matrix')\n",
    "\n",
    "dp4 = ConfusionMatrixDisplay(confusion_matrix=cm_lgmodel_v3)\n",
    "dp4.plot()\n",
    "dp4.ax_.set_title('logistic regression with random oversampling cf matrix')\n",
    "\n",
    "dp5 = ConfusionMatrixDisplay(confusion_matrix=cm_nnmodel_v3)\n",
    "dp5.plot()\n",
    "dp5.ax_.set_title('neural network with random oversampling cf matrix')\n",
    "\n",
    "dp6 = ConfusionMatrixDisplay(confusion_matrix=cm_xgbmodel_v3)\n",
    "dp6.plot()\n",
    "dp6.ax_.set_title('xgboost with random oversampling cf matrix')\n",
    "\n",
    "# f1 scores\n",
    "display('========F1 SCORES========')\n",
    "display('========with random undersampling')\n",
    "display(f'logistic regression: {f1_score(y_cv, lgmodel_v2_cv_preds)}')\n",
    "display(f'neural networks: {f1_score(y_cv, nnmodel_v2_cv_preds)}')\n",
    "display(f'xgboost: {f1_score(y_cv, xgbmodel_v2_cv_preds)}')\n",
    "display('========with random oversampling')\n",
    "display(f'logistic regression: {f1_score(y_cv, lgmodel_v3_cv_preds)}')\n",
    "display(f'neural networks: {f1_score(y_cv, nnmodel_v3_cv_preds)}')\n",
    "display(f'xgboost: {f1_score(y_cv, xgbmodel_v3_cv_preds)}')\n",
    "\n",
    "# roc-auc scores\n",
    "display('========RECEIVER OPERATING CHARACTERISTIC CURVE (ROC AUC)========')\n",
    "display('========with random undersampling')\n",
    "display(f'logistic regression: {roc_auc_score(y_cv, lgmodel_v2_cv_preds)}')\n",
    "display(f'neural networks: {roc_auc_score(y_cv, nnmodel_v2_cv_preds)}')\n",
    "display(f'xgboost {roc_auc_score(y_cv, xgbmodel_v2_cv_preds)}')\n",
    "\n",
    "display('========with random oversampling')\n",
    "display(f'logistic regression: {roc_auc_score(y_cv, lgmodel_v3_cv_preds)}')\n",
    "display(f'neural networks: {roc_auc_score(y_cv, nnmodel_v3_cv_preds)}')\n",
    "display(f'xgboost {roc_auc_score(y_cv, xgbmodel_v3_cv_preds)}')"
   ]
  },
  {
   "cell_type": "code",
   "execution_count": 43,
   "metadata": {},
   "outputs": [],
   "source": [
    "lgmodel_v2.save('./models/lgmodel_v2')\n",
    "nnmodel_v2.save('./models/nnmodel_v2')\n",
    "xgbmodel_v2.save_model('./models/xgbmodel_v2.json')\n",
    "lgmodel_v3.save('./models/lgmodel_v3')\n",
    "nnmodel_v3.save('./models/nnmodel_v3')\n",
    "xgbmodel_v3.save_model('./models/xgbmodel_v3.json')"
   ]
  },
  {
   "cell_type": "code",
   "execution_count": 11,
   "metadata": {},
   "outputs": [],
   "source": [
    "# continuing session by reloading same models as above\n",
    "# to prevent having to train models again\n",
    "\n",
    "lgmodel_v2 = tf.keras.models.load_model('./models/lgmodel_v2')\n",
    "nnmodel_v2 = tf.keras.models.load_model('./models/nnmodel_v2')\n",
    "xgbmodel_v2 = XGBClassifier()\n",
    "xgbmodel_v2.load_model('./models/xgbmodel_v2.json')\n",
    "lgmodel_v3 = tf.keras.models.load_model('./models/lgmodel_v3')\n",
    "nnmodel_v3 = tf.keras.models.load_model('./models/nnmodel_v3')\n",
    "xgbmodel_v3 = XGBClassifier()\n",
    "xgbmodel_v3.load_model('./models/xgbmodel_v3.json')\n",
    "\n"
   ]
  },
  {
   "cell_type": "code",
   "execution_count": 25,
   "metadata": {},
   "outputs": [
    {
     "data": {
      "image/png": "[encoded data removed]",
      "text/plain": [
       "<Figure size 432x288 with 1 Axes>"
      ]
     },
     "metadata": {
      "needs_background": "light"
     },
     "output_type": "display_data"
    }
   ],
   "source": [
    "lgmodel_v3_cv_fpr, lgmodel_v3_cv_tpr, thresholds = roc_curve(y_cv, lgmodel_v3_cv_pred_probs)\n",
    "lgmodel_v3_auc = auc(lgmodel_v3_cv_fpr, lgmodel_v3_cv_tpr)\n",
    "\n",
    "plt.figure(1)\n",
    "plt.plot([0, 1], [0, 1], 'k--')\n",
    "plt.plot(lgmodel_v3_cv_fpr, lgmodel_v3_cv_tpr, label='lgmodel v3 (area = {:.3f})'.format(lgmodel_v3_auc))\n",
    "plt.xlabel('False positive rate')\n",
    "plt.ylabel('True positive rate')\n",
    "plt.title('ROC curve')\n",
    "plt.legend(loc='best')\n",
    "plt.show()"
   ]
  },
  {
   "cell_type": "markdown",
   "metadata": {},
   "source": [
    "# Conclusion\n",
    "- All models performed worse (lower F1 and AUC scores) with random undrsampling. This seems to be due to reduced training set size (< 100)\n",
    "- Random oversampling produced higher F1 and AUC scores of approx 1% for xgboost model.\n",
    "- Random oversampling produced higher AUC score but lower F1 score for logistic regression, indicating that a change in threshold may improve results. It can also mean that the model is overfitting the added positive examples, which can be improved with regularization.\n",
    "- For the neural network, random undrsampling showed some activity for the first time, with a F1 score slightly above 0 and AUC score slightly above 0.5 (0 and 0.5 are equivalent to no performance). This can mean that the NN has been overfitting to the negative training examples.\n",
    "\n",
    "# Next steps:\n",
    "- Continuing the oversampling approach, try to improve training data quality with SMOTE oversampling.\n",
    "- Try to improve logistic regression model by using a higher threshold and regularization.\n",
    "- Try to improve neural network by using regularization and smaller epoch."
   ]
  }
 ],
 "metadata": {
  "kernelspec": {
   "display_name": "Python 3.6.13 ('mypython3.6')",
   "language": "python",
   "name": "python3"
  },
  "language_info": {
   "codemirror_mode": {
    "name": "ipython",
    "version": 3
   },
   "file_extension": ".py",
   "mimetype": "text/x-python",
   "name": "python",
   "nbconvert_exporter": "python",
   "pygments_lexer": "ipython3",
   "version": "3.6.13"
  },
  "orig_nbformat": 4,
  "vscode": {
   "interpreter": {
    "hash": "2fffd181aabd4b4292c103931238db38b0c7ab3996c6ca963d48c78c80d71804"
   }
  }
 },
 "nbformat": 4,
 "nbformat_minor": 2
}
