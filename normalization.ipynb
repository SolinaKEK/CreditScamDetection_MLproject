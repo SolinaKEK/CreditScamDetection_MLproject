{
 "cells": [
  {
   "cell_type": "markdown",
   "metadata": {},
   "source": [
    "# The Goal\n",
    "- Retrain all best-performing model architectures / hyperparameters on normalized data"
   ]
  },
  {
   "cell_type": "markdown",
   "metadata": {},
   "source": [
    "# Step 1: Loading datasets and best-performing models"
   ]
  },
  {
   "cell_type": "code",
   "execution_count": 15,
   "metadata": {},
   "outputs": [],
   "source": [
    "import tensorflow as tf\n",
    "import sklearn\n",
    "import numpy as np\n",
    "from numpy import where\n",
    "import pandas as pd\n",
    "from tensorflow.keras.models import Sequential\n",
    "from tensorflow.keras.layers import Dense, Activation\n",
    "from tensorflow.keras.callbacks import TensorBoard\n",
    "from keras.wrappers.scikit_learn import KerasClassifier\n",
    "from sklearn.model_selection import train_test_split, PredefinedSplit, cross_val_predict, GridSearchCV\n",
    "from sklearn.metrics import classification_report, confusion_matrix, ConfusionMatrixDisplay, roc_auc_score, f1_score, auc, roc_curve, precision_recall_curve, average_precision_score\n",
    "from sklearn.preprocessing import MinMaxScaler\n",
    "import matplotlib.pyplot as plt\n",
    "import seaborn as sns\n",
    "import datetime\n",
    "import collections\n",
    "from collections import Counter\n",
    "import logging\n",
    "import os\n",
    "import sys\n",
    "import xgboost as xgb\n",
    "from xgboost import XGBClassifier\n",
    "from imblearn.over_sampling import RandomOverSampler, SMOTE\n",
    "from imblearn.under_sampling import RandomUnderSampler\n"
   ]
  },
  {
   "cell_type": "code",
   "execution_count": 3,
   "metadata": {},
   "outputs": [],
   "source": [
    "# preparing datasets\n",
    "df = pd.read_csv('./creditcard.csv')\n",
    "X = df.drop('Class', axis=1).values\n",
    "Y = df.Class.values\n",
    "\n",
    "seed = 1234\n",
    "tf.random.set_seed(seed)\n",
    "np.random.seed(seed)\n",
    "\n",
    "x, x_test, y, y_test = train_test_split(X, Y, test_size=0.15, shuffle=True, random_state=seed)\n",
    "x_train, x_cv, y_train, y_cv = train_test_split(x, y, test_size=0.15, shuffle=True, random_state=seed)\n",
    "\n",
    "# applying SMOTE\n",
    "smote = SMOTE()\n",
    "x_train_smote, y_train_smote = smote.fit_resample(x_train, y_train)\n",
    "\n",
    "# applying stratified random sample\n",
    "x, x_test_strat, y, y_test_strat = train_test_split(X, Y, test_size=0.15, shuffle=True, random_state=seed, stratify=Y)\n",
    "x_train_strat, x_cv_strat, y_train_strat, y_cv_strat = train_test_split(x, y, test_size=0.15, shuffle=True, random_state=seed, stratify=y)\n"
   ]
  },
  {
   "cell_type": "code",
   "execution_count": 93,
   "metadata": {},
   "outputs": [],
   "source": [
    "# loading best performing models\n",
    "lgmodel_best = tf.keras.models.load_model('./models/lgmodel_v6')\n",
    "nnmodel_best = tf.keras.models.load_model('./models/nnmodel_v6')\n",
    "xgbmodel_best = XGBClassifier()\n",
    "xgbmodel_best.load_model('./models/xgbmodel_v4.json')"
   ]
  },
  {
   "cell_type": "markdown",
   "metadata": {},
   "source": [
    "## Step 2: Generate Normalized Data\n",
    "Using minmax scaler"
   ]
  },
  {
   "cell_type": "code",
   "execution_count": 58,
   "metadata": {},
   "outputs": [],
   "source": [
    "scaler=MinMaxScaler()\n",
    "datasets = [x_cv, x_test, x_train_smote,x_train_strat]\n",
    "norm_datasets = []\n",
    "for set in datasets:\n",
    "    normalized = scaler.fit_transform(set)\n",
    "    norm_datasets.append(normalized)\n"
   ]
  },
  {
   "cell_type": "markdown",
   "metadata": {},
   "source": [
    "## Step 3: Train models on normalized data\n",
    "### logistic regression model"
   ]
  },
  {
   "cell_type": "code",
   "execution_count": 59,
   "metadata": {},
   "outputs": [],
   "source": [
    "## logistic regression\n",
    "\n",
    "def create_lg_model(lglambda=0, threshold=0.5, auc_curve=\"ROC\", input_shape=0):\n",
    "    seed=1234\n",
    "    tf.random.set_seed(seed)\n",
    "    np.random.seed(seed)\n",
    "\n",
    "    model = tf.keras.Sequential()\n",
    "\n",
    "    if input_shape != 0:\n",
    "        model.add(tf.keras.Input(input_shape, ))\n",
    "\n",
    "    model.add(tf.keras.layers.Dense(1, activation='sigmoid', kernel_regularizer=tf.keras.regularizers.l2(l=lglambda)))\n",
    "\n",
    "    model.compile(\n",
    "        loss=tf.keras.losses.BinaryCrossentropy(),\n",
    "        optimizer=tf.keras.optimizers.Adam(learning_rate=0.01),\n",
    "        metrics=[tf.keras.metrics.AUC(curve=auc_curve), tf.keras.metrics.Precision(thresholds=threshold), tf.keras.metrics.Recall(thresholds=threshold)]\n",
    "    )\n",
    "\n",
    "    return model"
   ]
  },
  {
   "cell_type": "code",
   "execution_count": 60,
   "metadata": {},
   "outputs": [
    {
     "name": "stderr",
     "output_type": "stream",
     "text": [
      "/Users/solinakim/opt/anaconda3/envs/mypython3.6/lib/python3.6/site-packages/ipykernel_launcher.py:1: DeprecationWarning: elementwise comparison failed; this will raise an error in the future.\n",
      "  \"\"\"Entry point for launching an IPython kernel.\n"
     ]
    },
    {
     "name": "stdout",
     "output_type": "stream",
     "text": [
      "Train on 410818 samples, validate on 36313 samples\n",
      "Epoch 1/25\n",
      "410818/410818 [==============================] - 23s 57us/sample - loss: 0.4922 - auc_1: 0.9781 - precision_1: 0.9976 - recall_1: 0.8092 - val_loss: 0.3318 - val_auc_1: 0.9744 - val_precision_1: 0.8750 - val_recall_1: 0.7292\n",
      "Epoch 2/25\n",
      "410818/410818 [==============================] - 21s 52us/sample - loss: 0.4898 - auc_1: 0.9790 - precision_1: 0.9994 - recall_1: 0.8132 - val_loss: 0.3647 - val_auc_1: 0.9722 - val_precision_1: 0.8605 - val_recall_1: 0.7708\n",
      "Epoch 3/25\n",
      "410818/410818 [==============================] - 23s 55us/sample - loss: 0.4896 - auc_1: 0.9786 - precision_1: 0.9995 - recall_1: 0.8131 - val_loss: 0.3422 - val_auc_1: 0.9705 - val_precision_1: 0.8780 - val_recall_1: 0.7500\n",
      "Epoch 4/25\n",
      "410818/410818 [==============================] - 22s 53us/sample - loss: 0.4896 - auc_1: 0.9791 - precision_1: 0.9995 - recall_1: 0.8131 - val_loss: 0.3389 - val_auc_1: 0.9783 - val_precision_1: 0.8780 - val_recall_1: 0.7500\n",
      "Epoch 5/25\n",
      "410818/410818 [==============================] - 21s 51us/sample - loss: 0.4896 - auc_1: 0.9792 - precision_1: 0.9994 - recall_1: 0.8127 - val_loss: 0.2773 - val_auc_1: 0.9741 - val_precision_1: 0.8485 - val_recall_1: 0.5833\n",
      "Epoch 6/25\n",
      "410818/410818 [==============================] - 21s 51us/sample - loss: 0.4899 - auc_1: 0.9786 - precision_1: 0.9995 - recall_1: 0.8130 - val_loss: 0.3185 - val_auc_1: 0.9725 - val_precision_1: 0.8718 - val_recall_1: 0.7083\n",
      "Epoch 7/25\n",
      "410818/410818 [==============================] - 20s 50us/sample - loss: 0.4897 - auc_1: 0.9790 - precision_1: 0.9995 - recall_1: 0.8123 - val_loss: 0.4264 - val_auc_1: 0.9751 - val_precision_1: 0.8000 - val_recall_1: 0.8333\n",
      "Epoch 8/25\n",
      "410818/410818 [==============================] - 20s 50us/sample - loss: 0.4897 - auc_1: 0.9788 - precision_1: 0.9994 - recall_1: 0.8127 - val_loss: 0.3853 - val_auc_1: 0.9719 - val_precision_1: 0.8261 - val_recall_1: 0.7917\n",
      "Epoch 9/25\n",
      "410818/410818 [==============================] - 21s 51us/sample - loss: 0.4896 - auc_1: 0.9792 - precision_1: 0.9994 - recall_1: 0.8134 - val_loss: 0.3832 - val_auc_1: 0.9727 - val_precision_1: 0.8444 - val_recall_1: 0.7917\n",
      "Epoch 10/25\n",
      "410818/410818 [==============================] - 25s 60us/sample - loss: 0.4898 - auc_1: 0.9787 - precision_1: 0.9994 - recall_1: 0.8131 - val_loss: 0.3337 - val_auc_1: 0.9754 - val_precision_1: 0.8750 - val_recall_1: 0.7292\n",
      "Epoch 11/25\n",
      "410818/410818 [==============================] - 22s 52us/sample - loss: 0.4897 - auc_1: 0.9792 - precision_1: 0.9995 - recall_1: 0.8130 - val_loss: 0.3277 - val_auc_1: 0.9730 - val_precision_1: 0.8750 - val_recall_1: 0.7292\n",
      "Epoch 12/25\n",
      "410818/410818 [==============================] - 21s 51us/sample - loss: 0.4897 - auc_1: 0.9792 - precision_1: 0.9994 - recall_1: 0.8126 - val_loss: 0.3256 - val_auc_1: 0.9737 - val_precision_1: 0.8750 - val_recall_1: 0.7292\n",
      "Epoch 13/25\n",
      "410818/410818 [==============================] - 22s 54us/sample - loss: 0.4896 - auc_1: 0.9795 - precision_1: 0.9995 - recall_1: 0.8141 - val_loss: 0.3029 - val_auc_1: 0.9738 - val_precision_1: 0.8529 - val_recall_1: 0.6042\n",
      "Epoch 14/25\n",
      "410818/410818 [==============================] - 23s 56us/sample - loss: 0.4897 - auc_1: 0.9792 - precision_1: 0.9994 - recall_1: 0.8134 - val_loss: 0.3237 - val_auc_1: 0.9706 - val_precision_1: 0.8750 - val_recall_1: 0.7292\n",
      "Epoch 15/25\n",
      "410818/410818 [==============================] - 29s 70us/sample - loss: 0.4897 - auc_1: 0.9788 - precision_1: 0.9995 - recall_1: 0.8132 - val_loss: 0.2952 - val_auc_1: 0.9741 - val_precision_1: 0.8485 - val_recall_1: 0.5833\n",
      "Epoch 16/25\n",
      "410818/410818 [==============================] - 23s 55us/sample - loss: 0.4897 - auc_1: 0.9784 - precision_1: 0.9995 - recall_1: 0.8126 - val_loss: 0.3461 - val_auc_1: 0.9719 - val_precision_1: 0.8780 - val_recall_1: 0.7500\n",
      "Epoch 17/25\n",
      "410818/410818 [==============================] - 22s 54us/sample - loss: 0.4896 - auc_1: 0.9794 - precision_1: 0.9994 - recall_1: 0.8133 - val_loss: 0.3300 - val_auc_1: 0.9752 - val_precision_1: 0.8750 - val_recall_1: 0.7292\n",
      "Epoch 18/25\n",
      "410818/410818 [==============================] - 23s 57us/sample - loss: 0.4895 - auc_1: 0.9797 - precision_1: 0.9995 - recall_1: 0.8133 - val_loss: 0.2752 - val_auc_1: 0.9700 - val_precision_1: 0.8438 - val_recall_1: 0.56256 - \n",
      "Epoch 19/25\n",
      "410818/410818 [==============================] - 21s 52us/sample - loss: 0.4897 - auc_1: 0.9786 - precision_1: 0.9994 - recall_1: 0.8133 - val_loss: 0.3096 - val_auc_1: 0.9705 - val_precision_1: 0.8611 - val_recall_1: 0.6458\n",
      "Epoch 20/25\n",
      "410818/410818 [==============================] - 22s 54us/sample - loss: 0.4897 - auc_1: 0.9792 - precision_1: 0.9995 - recall_1: 0.8129 - val_loss: 0.3123 - val_auc_1: 0.9741 - val_precision_1: 0.8649 - val_recall_1: 0.6667\n",
      "Epoch 21/25\n",
      "410818/410818 [==============================] - 21s 51us/sample - loss: 0.4899 - auc_1: 0.9785 - precision_1: 0.9994 - recall_1: 0.8120 - val_loss: 0.2806 - val_auc_1: 0.9710 - val_precision_1: 0.8485 - val_recall_1: 0.5833\n",
      "Epoch 22/25\n",
      "410818/410818 [==============================] - 21s 51us/sample - loss: 0.4896 - auc_1: 0.9793 - precision_1: 0.9995 - recall_1: 0.8131 - val_loss: 0.3286 - val_auc_1: 0.9734 - val_precision_1: 0.8750 - val_recall_1: 0.7292\n",
      "Epoch 23/25\n",
      "410818/410818 [==============================] - 22s 53us/sample - loss: 0.4898 - auc_1: 0.9789 - precision_1: 0.9995 - recall_1: 0.8133 - val_loss: 0.3085 - val_auc_1: 0.9742 - val_precision_1: 0.8611 - val_recall_1: 0.6458\n",
      "Epoch 24/25\n",
      "410818/410818 [==============================] - 21s 50us/sample - loss: 0.4896 - auc_1: 0.9792 - precision_1: 0.9995 - recall_1: 0.8136 - val_loss: 0.3009 - val_auc_1: 0.9725 - val_precision_1: 0.8529 - val_recall_1: 0.6042\n",
      "Epoch 25/25\n",
      "410818/410818 [==============================] - 21s 51us/sample - loss: 0.4899 - auc_1: 0.9783 - precision_1: 0.9995 - recall_1: 0.8125 - val_loss: 0.3843 - val_auc_1: 0.9719 - val_precision_1: 0.8444 - val_recall_1: 0.7917\n"
     ]
    },
    {
     "data": {
      "text/plain": [
       "<tensorflow.python.keras.callbacks.History at 0x7fe0b4efc9b0>"
      ]
     },
     "execution_count": 60,
     "metadata": {},
     "output_type": "execute_result"
    }
   ],
   "source": [
    "index = datasets.index(x_train_smote)\n",
    "\n",
    "m = create_lg_model(lglambda=0.01, input_shape=(norm_datasets[index].shape[1]))\n",
    "m.fit(norm_datasets[index], y_train_smote, epochs=25, validation_data = (norm_datasets[0], y_cv))\n"
   ]
  },
  {
   "cell_type": "code",
   "execution_count": 68,
   "metadata": {},
   "outputs": [
    {
     "name": "stdout",
     "output_type": "stream",
     "text": [
      "INFO:tensorflow:Assets written to: ./models/lgmodel_v7/assets\n",
      "              precision    recall  f1-score   support\n",
      "\n",
      "           0       1.00      1.00      1.00     36265\n",
      "           1       0.84      0.79      0.82        48\n",
      "\n",
      "    accuracy                           1.00     36313\n",
      "   macro avg       0.92      0.90      0.91     36313\n",
      "weighted avg       1.00      1.00      1.00     36313\n",
      "\n"
     ]
    },
    {
     "data": {
      "text/plain": [
       "'roc auc score: 0.8957368215451077'"
      ]
     },
     "metadata": {},
     "output_type": "display_data"
    },
    {
     "data": {
      "image/png": "[encoded data removed]",
      "text/plain": [
       "<Figure size 432x288 with 2 Axes>"
      ]
     },
     "metadata": {
      "needs_background": "light"
     },
     "output_type": "display_data"
    }
   ],
   "source": [
    "m.save('./models/lgmodel_v7')\n",
    "preds = m.predict_proba(norm_datasets[0])\n",
    "pred_class = list((preds >= 0.5).astype(int))\n",
    "pred_class = list(map(lambda x: x[0], pred_class))\n",
    "\n",
    "cm = confusion_matrix(y_cv, pred_class)\n",
    "dp1 = ConfusionMatrixDisplay(confusion_matrix=cm)\n",
    "dp1.plot()\n",
    "print(classification_report(y_cv, pred_class))\n",
    "display(f'roc auc score: {roc_auc_score(y_cv, pred_class)}')\n"
   ]
  },
  {
   "cell_type": "markdown",
   "metadata": {},
   "source": [
    "Comparing performance to original best performing lgmodel"
   ]
  },
  {
   "cell_type": "code",
   "execution_count": 62,
   "metadata": {},
   "outputs": [
    {
     "data": {
      "text/plain": [
       "'optimal threshold: 1.0'"
      ]
     },
     "metadata": {},
     "output_type": "display_data"
    },
    {
     "name": "stdout",
     "output_type": "stream",
     "text": [
      "              precision    recall  f1-score   support\n",
      "\n",
      "           0       1.00      1.00      1.00     36265\n",
      "           1       0.61      0.77      0.68        48\n",
      "\n",
      "    accuracy                           1.00     36313\n",
      "   macro avg       0.80      0.89      0.84     36313\n",
      "weighted avg       1.00      1.00      1.00     36313\n",
      "\n"
     ]
    },
    {
     "data": {
      "text/plain": [
       "'roc auc score: 0.8850857691070363'"
      ]
     },
     "metadata": {},
     "output_type": "display_data"
    },
    {
     "data": {
      "image/png": "[encoded data removed]",
      "text/plain": [
       "<Figure size 432x288 with 2 Axes>"
      ]
     },
     "metadata": {
      "needs_background": "light"
     },
     "output_type": "display_data"
    }
   ],
   "source": [
    "preds = lgmodel_best.predict_proba(x_cv)\n",
    "fpr, tpr, thresholds = roc_curve(y_cv, preds)\n",
    "opt_index = np.argmax(tpr-fpr)\n",
    "opt_threshold = thresholds[opt_index]\n",
    "display(f'optimal threshold: {opt_threshold}')\n",
    "\n",
    "pred_class = list((preds >= opt_threshold).astype(int))\n",
    "pred_class = list(map(lambda x: x[0], pred_class))\n",
    "\n",
    "cm = confusion_matrix(y_cv, pred_class)\n",
    "dp1 = ConfusionMatrixDisplay(confusion_matrix=cm)\n",
    "dp1.plot()\n",
    "print(classification_report(y_cv, pred_class))\n",
    "display(f'roc auc score: {roc_auc_score(y_cv, pred_class)}')\n"
   ]
  },
  {
   "cell_type": "markdown",
   "metadata": {},
   "source": [
    "- before normalization: macro avg f1 0.84\n",
    "- after normalization: macro avg f1 0.91"
   ]
  },
  {
   "cell_type": "markdown",
   "metadata": {},
   "source": [
    "### training neural network"
   ]
  },
  {
   "cell_type": "code",
   "execution_count": 69,
   "metadata": {},
   "outputs": [
    {
     "name": "stderr",
     "output_type": "stream",
     "text": [
      "/Users/solinakim/opt/anaconda3/envs/mypython3.6/lib/python3.6/site-packages/ipykernel_launcher.py:5: DeprecationWarning: elementwise comparison failed; this will raise an error in the future.\n",
      "  \"\"\"\n"
     ]
    },
    {
     "name": "stdout",
     "output_type": "stream",
     "text": [
      "Train on 205772 samples, validate on 36313 samples\n",
      "Epoch 1/10\n",
      "205772/205772 [==============================] - 7s 32us/sample - loss: 0.0127 - accuracy: 0.9973 - val_loss: 0.0044 - val_accuracy: 0.9990\n",
      "Epoch 2/10\n",
      "205772/205772 [==============================] - 5s 26us/sample - loss: 0.0052 - accuracy: 0.9989 - val_loss: 0.0033 - val_accuracy: 0.9994\n",
      "Epoch 3/10\n",
      "205772/205772 [==============================] - 5s 26us/sample - loss: 0.0048 - accuracy: 0.9991 - val_loss: 0.0031 - val_accuracy: 0.9994\n",
      "Epoch 4/10\n",
      "205772/205772 [==============================] - 5s 25us/sample - loss: 0.0046 - accuracy: 0.9991 - val_loss: 0.0034 - val_accuracy: 0.9996\n",
      "Epoch 5/10\n",
      "205772/205772 [==============================] - 5s 24us/sample - loss: 0.0045 - accuracy: 0.9992 - val_loss: 0.0030 - val_accuracy: 0.9995\n",
      "Epoch 6/10\n",
      "205772/205772 [==============================] - 7s 36us/sample - loss: 0.0044 - accuracy: 0.9992 - val_loss: 0.0028 - val_accuracy: 0.9993\n",
      "Epoch 7/10\n",
      "205772/205772 [==============================] - 10s 50us/sample - loss: 0.0042 - accuracy: 0.9992 - val_loss: 0.0027 - val_accuracy: 0.9994\n",
      "Epoch 8/10\n",
      "205772/205772 [==============================] - 7s 35us/sample - loss: 0.0043 - accuracy: 0.9992 - val_loss: 0.0029 - val_accuracy: 0.9995\n",
      "Epoch 9/10\n",
      "205772/205772 [==============================] - 5s 26us/sample - loss: 0.0041 - accuracy: 0.9992 - val_loss: 0.0026 - val_accuracy: 0.9995\n",
      "Epoch 10/10\n",
      "205772/205772 [==============================] - 5s 25us/sample - loss: 0.0041 - accuracy: 0.9992 - val_loss: 0.0038 - val_accuracy: 0.9995\n",
      "INFO:tensorflow:Assets written to: ./models/nnmodel_v7/assets\n"
     ]
    }
   ],
   "source": [
    "m = Sequential() \n",
    "m.add(Dense(128, activation='relu', input_dim=30))\n",
    "m.add(Dense(1, activation='sigmoid')) \n",
    "m.compile(loss='binary_crossentropy', optimizer='adam', metrics=['accuracy']) \n",
    "index = datasets.index(x_train_strat)\n",
    "hist = m.fit(norm_datasets[index], y_train_strat, validation_data=(norm_datasets[0], y_cv), epochs=10, batch_size=100)\n",
    "m.save('./models/nnmodel_v7')"
   ]
  },
  {
   "cell_type": "code",
   "execution_count": 70,
   "metadata": {},
   "outputs": [
    {
     "name": "stdout",
     "output_type": "stream",
     "text": [
      "              precision    recall  f1-score   support\n",
      "\n",
      "           0       1.00      1.00      1.00     36265\n",
      "           1       0.78      0.83      0.81        48\n",
      "\n",
      "    accuracy                           1.00     36313\n",
      "   macro avg       0.89      0.92      0.90     36313\n",
      "weighted avg       1.00      1.00      1.00     36313\n",
      "\n"
     ]
    },
    {
     "data": {
      "text/plain": [
       "'roc auc score: 0.9165150052851695'"
      ]
     },
     "metadata": {},
     "output_type": "display_data"
    },
    {
     "data": {
      "image/png": "[encoded data removed]",
      "text/plain": [
       "<Figure size 432x288 with 2 Axes>"
      ]
     },
     "metadata": {
      "needs_background": "light"
     },
     "output_type": "display_data"
    }
   ],
   "source": [
    "y_predicted = m.predict(norm_datasets[0]) > 0.5 # testing on original cv set for valid comparison to previous models\n",
    "cm = confusion_matrix(y_cv, y_predicted)\n",
    "dp1 = ConfusionMatrixDisplay(confusion_matrix=cm)\n",
    "dp1.plot()\n",
    "print(classification_report(y_cv, y_predicted))\n",
    "display(f'roc auc score: {roc_auc_score(y_cv, y_predicted)}')\n"
   ]
  },
  {
   "cell_type": "markdown",
   "metadata": {},
   "source": [
    "Comparing to original best nn model"
   ]
  },
  {
   "cell_type": "code",
   "execution_count": 74,
   "metadata": {},
   "outputs": [
    {
     "data": {
      "text/plain": [
       "'optimal threshold: 1.0'"
      ]
     },
     "metadata": {},
     "output_type": "display_data"
    },
    {
     "name": "stdout",
     "output_type": "stream",
     "text": [
      "              precision    recall  f1-score   support\n",
      "\n",
      "           0       1.00      1.00      1.00     36265\n",
      "           1       0.73      0.77      0.75        48\n",
      "\n",
      "    accuracy                           1.00     36313\n",
      "   macro avg       0.86      0.89      0.87     36313\n",
      "weighted avg       1.00      1.00      1.00     36313\n",
      "\n"
     ]
    },
    {
     "data": {
      "text/plain": [
       "'roc auc score: 0.8852236430902156'"
      ]
     },
     "metadata": {},
     "output_type": "display_data"
    },
    {
     "data": {
      "image/png": "[encoded data removed]",
      "text/plain": [
       "<Figure size 432x288 with 2 Axes>"
      ]
     },
     "metadata": {
      "needs_background": "light"
     },
     "output_type": "display_data"
    }
   ],
   "source": [
    "preds = nnmodel_best.predict_proba(x_cv)\n",
    "fpr, tpr, thresholds = roc_curve(y_cv, preds)\n",
    "opt_index = np.argmax(tpr-fpr)\n",
    "opt_threshold = thresholds[opt_index]\n",
    "display(f'optimal threshold: {opt_threshold}')\n",
    "\n",
    "pred_class = list((preds >= opt_threshold).astype(int))\n",
    "pred_class = list(map(lambda x: x[0], pred_class))\n",
    "\n",
    "cm = confusion_matrix(y_cv, pred_class)\n",
    "dp1 = ConfusionMatrixDisplay(confusion_matrix=cm)\n",
    "dp1.plot()\n",
    "print(classification_report(y_cv, pred_class))\n",
    "display(f'roc auc score: {roc_auc_score(y_cv, pred_class)}')\n"
   ]
  },
  {
   "cell_type": "markdown",
   "metadata": {},
   "source": [
    "- original best nn model before threshold tuning: macro avg f1 0.79\n",
    "- original best nn model after threshold tuning: macro avg f1 0.87\n",
    "- new best nn model after normalization & threshold tuning: macro avg f1 0.90"
   ]
  },
  {
   "cell_type": "markdown",
   "metadata": {},
   "source": [
    "### Training xgboost model"
   ]
  },
  {
   "cell_type": "code",
   "execution_count": 77,
   "metadata": {},
   "outputs": [
    {
     "name": "stderr",
     "output_type": "stream",
     "text": [
      "/Users/solinakim/opt/anaconda3/envs/mypython3.6/lib/python3.6/site-packages/ipykernel_launcher.py:2: DeprecationWarning: elementwise comparison failed; this will raise an error in the future.\n",
      "  \n",
      "/Users/solinakim/opt/anaconda3/envs/mypython3.6/lib/python3.6/site-packages/xgboost/sklearn.py:888: UserWarning: The use of label encoder in XGBClassifier is deprecated and will be removed in a future release. To remove this warning, do the following: 1) Pass option use_label_encoder=False when constructing XGBClassifier object; and 2) Encode your labels (y) as integers starting with 0, i.e. 0, 1, 2, ..., [num_class - 1].\n",
      "  warnings.warn(label_encoder_deprecation_msg, UserWarning)\n"
     ]
    },
    {
     "name": "stdout",
     "output_type": "stream",
     "text": [
      "[00:37:14] WARNING: /opt/concourse/worker/volumes/live/7a2b9f41-3287-451b-6691-43e9a6c0910f/volume/xgboost-split_1619728204606/work/src/learner.cc:1061: Starting in XGBoost 1.3.0, the default evaluation metric used with the objective 'binary:logistic' was changed from 'error' to 'logloss'. Explicitly set eval_metric if you'd like to restore the old behavior.\n"
     ]
    },
    {
     "data": {
      "text/plain": [
       "XGBClassifier(base_score=0.5, booster='gbtree', colsample_bylevel=1,\n",
       "              colsample_bynode=1, colsample_bytree=1, gamma=0, gpu_id=-1,\n",
       "              importance_type='gain', interaction_constraints='',\n",
       "              learning_rate=0.300000012, max_delta_step=0, max_depth=6,\n",
       "              min_child_weight=1, missing=nan, monotone_constraints='()',\n",
       "              n_estimators=100, n_jobs=8, num_parallel_tree=1, random_state=0,\n",
       "              reg_alpha=0, reg_lambda=1, scale_pos_weight=1, subsample=1,\n",
       "              tree_method='exact', validate_parameters=1, verbosity=None)"
      ]
     },
     "execution_count": 77,
     "metadata": {},
     "output_type": "execute_result"
    }
   ],
   "source": [
    "m = XGBClassifier(n_estimators=100)\n",
    "index = datasets.index(x_train_smote)\n",
    "m.fit(norm_datasets[index], y_train_smote)\n"
   ]
  },
  {
   "cell_type": "code",
   "execution_count": 96,
   "metadata": {},
   "outputs": [
    {
     "name": "stdout",
     "output_type": "stream",
     "text": [
      "              precision    recall  f1-score   support\n",
      "\n",
      "           0       1.00      1.00      1.00     36265\n",
      "           1       0.78      0.38      0.51        48\n",
      "\n",
      "    accuracy                           1.00     36313\n",
      "   macro avg       0.89      0.69      0.75     36313\n",
      "weighted avg       1.00      1.00      1.00     36313\n",
      "\n"
     ]
    },
    {
     "data": {
      "text/plain": [
       "'roc auc score: 0.6874310630084104'"
      ]
     },
     "metadata": {},
     "output_type": "display_data"
    },
    {
     "data": {
      "image/png": "[encoded data removed]",
      "text/plain": [
       "<Figure size 432x288 with 2 Axes>"
      ]
     },
     "metadata": {
      "needs_background": "light"
     },
     "output_type": "display_data"
    }
   ],
   "source": [
    "m.save_model('./models/xgbmodel_v7_1')\n",
    "pred_class = m.predict(norm_datasets[0])\n",
    "cm = confusion_matrix(y_cv, pred_class)\n",
    "dp1 = ConfusionMatrixDisplay(confusion_matrix=cm)\n",
    "dp1.plot()\n",
    "print(classification_report(y_cv, pred_class))\n",
    "display(f'roc auc score: {roc_auc_score(y_cv, pred_class)}')\n"
   ]
  },
  {
   "cell_type": "code",
   "execution_count": 94,
   "metadata": {},
   "outputs": [
    {
     "name": "stdout",
     "output_type": "stream",
     "text": [
      "              precision    recall  f1-score   support\n",
      "\n",
      "           0       1.00      1.00      1.00     36265\n",
      "           1       0.86      0.90      0.88        48\n",
      "\n",
      "    accuracy                           1.00     36313\n",
      "   macro avg       0.93      0.95      0.94     36313\n",
      "weighted avg       1.00      1.00      1.00     36313\n",
      "\n"
     ]
    },
    {
     "data": {
      "text/plain": [
       "'roc auc score: 0.9478201548784412'"
      ]
     },
     "metadata": {},
     "output_type": "display_data"
    },
    {
     "data": {
      "image/png": "[encoded data removed]",
      "text/plain": [
       "<Figure size 432x288 with 2 Axes>"
      ]
     },
     "metadata": {
      "needs_background": "light"
     },
     "output_type": "display_data"
    }
   ],
   "source": [
    "pred_class = xgbmodel_best.predict(x_cv)\n",
    "cm = confusion_matrix(y_cv, pred_class)\n",
    "dp1 = ConfusionMatrixDisplay(confusion_matrix=cm)\n",
    "dp1.plot()\n",
    "print(classification_report(y_cv, pred_class))\n",
    "display(f'roc auc score: {roc_auc_score(y_cv, pred_class)}')\n"
   ]
  },
  {
   "cell_type": "markdown",
   "metadata": {},
   "source": [
    "Original xgboost model performs better. Experimenting xgboost model on stratified, normalized training set."
   ]
  },
  {
   "cell_type": "code",
   "execution_count": 97,
   "metadata": {},
   "outputs": [
    {
     "name": "stderr",
     "output_type": "stream",
     "text": [
      "/Users/solinakim/opt/anaconda3/envs/mypython3.6/lib/python3.6/site-packages/ipykernel_launcher.py:2: DeprecationWarning: elementwise comparison failed; this will raise an error in the future.\n",
      "  \n",
      "/Users/solinakim/opt/anaconda3/envs/mypython3.6/lib/python3.6/site-packages/xgboost/sklearn.py:888: UserWarning: The use of label encoder in XGBClassifier is deprecated and will be removed in a future release. To remove this warning, do the following: 1) Pass option use_label_encoder=False when constructing XGBClassifier object; and 2) Encode your labels (y) as integers starting with 0, i.e. 0, 1, 2, ..., [num_class - 1].\n",
      "  warnings.warn(label_encoder_deprecation_msg, UserWarning)\n"
     ]
    },
    {
     "name": "stdout",
     "output_type": "stream",
     "text": [
      "[00:48:29] WARNING: /opt/concourse/worker/volumes/live/7a2b9f41-3287-451b-6691-43e9a6c0910f/volume/xgboost-split_1619728204606/work/src/learner.cc:1061: Starting in XGBoost 1.3.0, the default evaluation metric used with the objective 'binary:logistic' was changed from 'error' to 'logloss'. Explicitly set eval_metric if you'd like to restore the old behavior.\n",
      "              precision    recall  f1-score   support\n",
      "\n",
      "           0       1.00      1.00      1.00     36265\n",
      "           1       0.86      0.79      0.83        48\n",
      "\n",
      "    accuracy                           1.00     36313\n",
      "   macro avg       0.93      0.90      0.91     36313\n",
      "weighted avg       1.00      1.00      1.00     36313\n",
      "\n"
     ]
    },
    {
     "data": {
      "text/plain": [
       "'roc auc score: 0.8957506089434256'"
      ]
     },
     "metadata": {},
     "output_type": "display_data"
    },
    {
     "data": {
      "image/png": "[encoded data removed]",
      "text/plain": [
       "<Figure size 432x288 with 2 Axes>"
      ]
     },
     "metadata": {
      "needs_background": "light"
     },
     "output_type": "display_data"
    }
   ],
   "source": [
    "m = XGBClassifier(n_estimators=100)\n",
    "index = datasets.index(x_train_strat)\n",
    "m.fit(norm_datasets[index], y_train_strat)\n",
    "\n",
    "m.save_model('./models/xgbmodel_v7_2')\n",
    "pred_class = m.predict(norm_datasets[0])\n",
    "cm = confusion_matrix(y_cv, pred_class)\n",
    "dp1 = ConfusionMatrixDisplay(confusion_matrix=cm)\n",
    "dp1.plot()\n",
    "print(classification_report(y_cv, pred_class))\n",
    "display(f'roc auc score: {roc_auc_score(y_cv, pred_class)}')\n"
   ]
  },
  {
   "cell_type": "code",
   "execution_count": 98,
   "metadata": {},
   "outputs": [],
   "source": [
    "m.save_model('./models/xgbmodel_v7')\n"
   ]
  },
  {
   "cell_type": "markdown",
   "metadata": {},
   "source": [
    "Highest f1 score is still with not normalized, SMOTE dataset"
   ]
  }
 ],
 "metadata": {
  "kernelspec": {
   "display_name": "Python 3.6.13 ('mypython3.6')",
   "language": "python",
   "name": "python3"
  },
  "language_info": {
   "codemirror_mode": {
    "name": "ipython",
    "version": 3
   },
   "file_extension": ".py",
   "mimetype": "text/x-python",
   "name": "python",
   "nbconvert_exporter": "python",
   "pygments_lexer": "ipython3",
   "version": "3.6.13"
  },
  "orig_nbformat": 4,
  "vscode": {
   "interpreter": {
    "hash": "2fffd181aabd4b4292c103931238db38b0c7ab3996c6ca963d48c78c80d71804"
   }
  }
 },
 "nbformat": 4,
 "nbformat_minor": 2
}
