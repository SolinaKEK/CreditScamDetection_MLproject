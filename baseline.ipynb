{
 "cells": [
  {
   "cell_type": "markdown",
   "metadata": {},
   "source": [
    "# The goal\n",
    "- Compare logistic regression, NN, XGB perfromance on binary classification\n",
    "- Compare different methods of dealing with imbalanced datasets"
   ]
  },
  {
   "cell_type": "markdown",
   "metadata": {},
   "source": [
    "## step 1: explore data\n",
    "- Note: This <a href='https://www.kaggle.com/code/janiobachmann/credit-fraud-dealing-with-imbalanced-datasets/data'>data set from kaggle</a> contains features that went through a PCA transformation"
   ]
  },
  {
   "cell_type": "code",
   "execution_count": 1,
   "metadata": {},
   "outputs": [
    {
     "name": "stderr",
     "output_type": "stream",
     "text": [
      "Using TensorFlow backend.\n"
     ]
    }
   ],
   "source": [
    "from config import *"
   ]
  },
  {
   "cell_type": "code",
   "execution_count": 2,
   "metadata": {},
   "outputs": [
    {
     "data": {
      "text/html": [
       "<div>\n",
       "<style scoped>\n",
       "    .dataframe tbody tr th:only-of-type {\n",
       "        vertical-align: middle;\n",
       "    }\n",
       "\n",
       "    .dataframe tbody tr th {\n",
       "        vertical-align: top;\n",
       "    }\n",
       "\n",
       "    .dataframe thead th {\n",
       "        text-align: right;\n",
       "    }\n",
       "</style>\n",
       "<table border=\"1\" class=\"dataframe\">\n",
       "  <thead>\n",
       "    <tr style=\"text-align: right;\">\n",
       "      <th></th>\n",
       "      <th>Time</th>\n",
       "      <th>V1</th>\n",
       "      <th>V2</th>\n",
       "      <th>V3</th>\n",
       "      <th>V4</th>\n",
       "      <th>V5</th>\n",
       "      <th>V6</th>\n",
       "      <th>V7</th>\n",
       "      <th>V8</th>\n",
       "      <th>V9</th>\n",
       "      <th>...</th>\n",
       "      <th>V21</th>\n",
       "      <th>V22</th>\n",
       "      <th>V23</th>\n",
       "      <th>V24</th>\n",
       "      <th>V25</th>\n",
       "      <th>V26</th>\n",
       "      <th>V27</th>\n",
       "      <th>V28</th>\n",
       "      <th>Amount</th>\n",
       "      <th>Class</th>\n",
       "    </tr>\n",
       "  </thead>\n",
       "  <tbody>\n",
       "    <tr>\n",
       "      <th>0</th>\n",
       "      <td>0.0</td>\n",
       "      <td>-1.359807</td>\n",
       "      <td>-0.072781</td>\n",
       "      <td>2.536347</td>\n",
       "      <td>1.378155</td>\n",
       "      <td>-0.338321</td>\n",
       "      <td>0.462388</td>\n",
       "      <td>0.239599</td>\n",
       "      <td>0.098698</td>\n",
       "      <td>0.363787</td>\n",
       "      <td>...</td>\n",
       "      <td>-0.018307</td>\n",
       "      <td>0.277838</td>\n",
       "      <td>-0.110474</td>\n",
       "      <td>0.066928</td>\n",
       "      <td>0.128539</td>\n",
       "      <td>-0.189115</td>\n",
       "      <td>0.133558</td>\n",
       "      <td>-0.021053</td>\n",
       "      <td>149.62</td>\n",
       "      <td>0</td>\n",
       "    </tr>\n",
       "    <tr>\n",
       "      <th>1</th>\n",
       "      <td>0.0</td>\n",
       "      <td>1.191857</td>\n",
       "      <td>0.266151</td>\n",
       "      <td>0.166480</td>\n",
       "      <td>0.448154</td>\n",
       "      <td>0.060018</td>\n",
       "      <td>-0.082361</td>\n",
       "      <td>-0.078803</td>\n",
       "      <td>0.085102</td>\n",
       "      <td>-0.255425</td>\n",
       "      <td>...</td>\n",
       "      <td>-0.225775</td>\n",
       "      <td>-0.638672</td>\n",
       "      <td>0.101288</td>\n",
       "      <td>-0.339846</td>\n",
       "      <td>0.167170</td>\n",
       "      <td>0.125895</td>\n",
       "      <td>-0.008983</td>\n",
       "      <td>0.014724</td>\n",
       "      <td>2.69</td>\n",
       "      <td>0</td>\n",
       "    </tr>\n",
       "    <tr>\n",
       "      <th>2</th>\n",
       "      <td>1.0</td>\n",
       "      <td>-1.358354</td>\n",
       "      <td>-1.340163</td>\n",
       "      <td>1.773209</td>\n",
       "      <td>0.379780</td>\n",
       "      <td>-0.503198</td>\n",
       "      <td>1.800499</td>\n",
       "      <td>0.791461</td>\n",
       "      <td>0.247676</td>\n",
       "      <td>-1.514654</td>\n",
       "      <td>...</td>\n",
       "      <td>0.247998</td>\n",
       "      <td>0.771679</td>\n",
       "      <td>0.909412</td>\n",
       "      <td>-0.689281</td>\n",
       "      <td>-0.327642</td>\n",
       "      <td>-0.139097</td>\n",
       "      <td>-0.055353</td>\n",
       "      <td>-0.059752</td>\n",
       "      <td>378.66</td>\n",
       "      <td>0</td>\n",
       "    </tr>\n",
       "    <tr>\n",
       "      <th>3</th>\n",
       "      <td>1.0</td>\n",
       "      <td>-0.966272</td>\n",
       "      <td>-0.185226</td>\n",
       "      <td>1.792993</td>\n",
       "      <td>-0.863291</td>\n",
       "      <td>-0.010309</td>\n",
       "      <td>1.247203</td>\n",
       "      <td>0.237609</td>\n",
       "      <td>0.377436</td>\n",
       "      <td>-1.387024</td>\n",
       "      <td>...</td>\n",
       "      <td>-0.108300</td>\n",
       "      <td>0.005274</td>\n",
       "      <td>-0.190321</td>\n",
       "      <td>-1.175575</td>\n",
       "      <td>0.647376</td>\n",
       "      <td>-0.221929</td>\n",
       "      <td>0.062723</td>\n",
       "      <td>0.061458</td>\n",
       "      <td>123.50</td>\n",
       "      <td>0</td>\n",
       "    </tr>\n",
       "    <tr>\n",
       "      <th>4</th>\n",
       "      <td>2.0</td>\n",
       "      <td>-1.158233</td>\n",
       "      <td>0.877737</td>\n",
       "      <td>1.548718</td>\n",
       "      <td>0.403034</td>\n",
       "      <td>-0.407193</td>\n",
       "      <td>0.095921</td>\n",
       "      <td>0.592941</td>\n",
       "      <td>-0.270533</td>\n",
       "      <td>0.817739</td>\n",
       "      <td>...</td>\n",
       "      <td>-0.009431</td>\n",
       "      <td>0.798278</td>\n",
       "      <td>-0.137458</td>\n",
       "      <td>0.141267</td>\n",
       "      <td>-0.206010</td>\n",
       "      <td>0.502292</td>\n",
       "      <td>0.219422</td>\n",
       "      <td>0.215153</td>\n",
       "      <td>69.99</td>\n",
       "      <td>0</td>\n",
       "    </tr>\n",
       "    <tr>\n",
       "      <th>...</th>\n",
       "      <td>...</td>\n",
       "      <td>...</td>\n",
       "      <td>...</td>\n",
       "      <td>...</td>\n",
       "      <td>...</td>\n",
       "      <td>...</td>\n",
       "      <td>...</td>\n",
       "      <td>...</td>\n",
       "      <td>...</td>\n",
       "      <td>...</td>\n",
       "      <td>...</td>\n",
       "      <td>...</td>\n",
       "      <td>...</td>\n",
       "      <td>...</td>\n",
       "      <td>...</td>\n",
       "      <td>...</td>\n",
       "      <td>...</td>\n",
       "      <td>...</td>\n",
       "      <td>...</td>\n",
       "      <td>...</td>\n",
       "      <td>...</td>\n",
       "    </tr>\n",
       "    <tr>\n",
       "      <th>284802</th>\n",
       "      <td>172786.0</td>\n",
       "      <td>-11.881118</td>\n",
       "      <td>10.071785</td>\n",
       "      <td>-9.834783</td>\n",
       "      <td>-2.066656</td>\n",
       "      <td>-5.364473</td>\n",
       "      <td>-2.606837</td>\n",
       "      <td>-4.918215</td>\n",
       "      <td>7.305334</td>\n",
       "      <td>1.914428</td>\n",
       "      <td>...</td>\n",
       "      <td>0.213454</td>\n",
       "      <td>0.111864</td>\n",
       "      <td>1.014480</td>\n",
       "      <td>-0.509348</td>\n",
       "      <td>1.436807</td>\n",
       "      <td>0.250034</td>\n",
       "      <td>0.943651</td>\n",
       "      <td>0.823731</td>\n",
       "      <td>0.77</td>\n",
       "      <td>0</td>\n",
       "    </tr>\n",
       "    <tr>\n",
       "      <th>284803</th>\n",
       "      <td>172787.0</td>\n",
       "      <td>-0.732789</td>\n",
       "      <td>-0.055080</td>\n",
       "      <td>2.035030</td>\n",
       "      <td>-0.738589</td>\n",
       "      <td>0.868229</td>\n",
       "      <td>1.058415</td>\n",
       "      <td>0.024330</td>\n",
       "      <td>0.294869</td>\n",
       "      <td>0.584800</td>\n",
       "      <td>...</td>\n",
       "      <td>0.214205</td>\n",
       "      <td>0.924384</td>\n",
       "      <td>0.012463</td>\n",
       "      <td>-1.016226</td>\n",
       "      <td>-0.606624</td>\n",
       "      <td>-0.395255</td>\n",
       "      <td>0.068472</td>\n",
       "      <td>-0.053527</td>\n",
       "      <td>24.79</td>\n",
       "      <td>0</td>\n",
       "    </tr>\n",
       "    <tr>\n",
       "      <th>284804</th>\n",
       "      <td>172788.0</td>\n",
       "      <td>1.919565</td>\n",
       "      <td>-0.301254</td>\n",
       "      <td>-3.249640</td>\n",
       "      <td>-0.557828</td>\n",
       "      <td>2.630515</td>\n",
       "      <td>3.031260</td>\n",
       "      <td>-0.296827</td>\n",
       "      <td>0.708417</td>\n",
       "      <td>0.432454</td>\n",
       "      <td>...</td>\n",
       "      <td>0.232045</td>\n",
       "      <td>0.578229</td>\n",
       "      <td>-0.037501</td>\n",
       "      <td>0.640134</td>\n",
       "      <td>0.265745</td>\n",
       "      <td>-0.087371</td>\n",
       "      <td>0.004455</td>\n",
       "      <td>-0.026561</td>\n",
       "      <td>67.88</td>\n",
       "      <td>0</td>\n",
       "    </tr>\n",
       "    <tr>\n",
       "      <th>284805</th>\n",
       "      <td>172788.0</td>\n",
       "      <td>-0.240440</td>\n",
       "      <td>0.530483</td>\n",
       "      <td>0.702510</td>\n",
       "      <td>0.689799</td>\n",
       "      <td>-0.377961</td>\n",
       "      <td>0.623708</td>\n",
       "      <td>-0.686180</td>\n",
       "      <td>0.679145</td>\n",
       "      <td>0.392087</td>\n",
       "      <td>...</td>\n",
       "      <td>0.265245</td>\n",
       "      <td>0.800049</td>\n",
       "      <td>-0.163298</td>\n",
       "      <td>0.123205</td>\n",
       "      <td>-0.569159</td>\n",
       "      <td>0.546668</td>\n",
       "      <td>0.108821</td>\n",
       "      <td>0.104533</td>\n",
       "      <td>10.00</td>\n",
       "      <td>0</td>\n",
       "    </tr>\n",
       "    <tr>\n",
       "      <th>284806</th>\n",
       "      <td>172792.0</td>\n",
       "      <td>-0.533413</td>\n",
       "      <td>-0.189733</td>\n",
       "      <td>0.703337</td>\n",
       "      <td>-0.506271</td>\n",
       "      <td>-0.012546</td>\n",
       "      <td>-0.649617</td>\n",
       "      <td>1.577006</td>\n",
       "      <td>-0.414650</td>\n",
       "      <td>0.486180</td>\n",
       "      <td>...</td>\n",
       "      <td>0.261057</td>\n",
       "      <td>0.643078</td>\n",
       "      <td>0.376777</td>\n",
       "      <td>0.008797</td>\n",
       "      <td>-0.473649</td>\n",
       "      <td>-0.818267</td>\n",
       "      <td>-0.002415</td>\n",
       "      <td>0.013649</td>\n",
       "      <td>217.00</td>\n",
       "      <td>0</td>\n",
       "    </tr>\n",
       "  </tbody>\n",
       "</table>\n",
       "<p>284807 rows × 31 columns</p>\n",
       "</div>"
      ],
      "text/plain": [
       "            Time         V1         V2        V3        V4        V5  \\\n",
       "0            0.0  -1.359807  -0.072781  2.536347  1.378155 -0.338321   \n",
       "1            0.0   1.191857   0.266151  0.166480  0.448154  0.060018   \n",
       "2            1.0  -1.358354  -1.340163  1.773209  0.379780 -0.503198   \n",
       "3            1.0  -0.966272  -0.185226  1.792993 -0.863291 -0.010309   \n",
       "4            2.0  -1.158233   0.877737  1.548718  0.403034 -0.407193   \n",
       "...          ...        ...        ...       ...       ...       ...   \n",
       "284802  172786.0 -11.881118  10.071785 -9.834783 -2.066656 -5.364473   \n",
       "284803  172787.0  -0.732789  -0.055080  2.035030 -0.738589  0.868229   \n",
       "284804  172788.0   1.919565  -0.301254 -3.249640 -0.557828  2.630515   \n",
       "284805  172788.0  -0.240440   0.530483  0.702510  0.689799 -0.377961   \n",
       "284806  172792.0  -0.533413  -0.189733  0.703337 -0.506271 -0.012546   \n",
       "\n",
       "              V6        V7        V8        V9  ...       V21       V22  \\\n",
       "0       0.462388  0.239599  0.098698  0.363787  ... -0.018307  0.277838   \n",
       "1      -0.082361 -0.078803  0.085102 -0.255425  ... -0.225775 -0.638672   \n",
       "2       1.800499  0.791461  0.247676 -1.514654  ...  0.247998  0.771679   \n",
       "3       1.247203  0.237609  0.377436 -1.387024  ... -0.108300  0.005274   \n",
       "4       0.095921  0.592941 -0.270533  0.817739  ... -0.009431  0.798278   \n",
       "...          ...       ...       ...       ...  ...       ...       ...   \n",
       "284802 -2.606837 -4.918215  7.305334  1.914428  ...  0.213454  0.111864   \n",
       "284803  1.058415  0.024330  0.294869  0.584800  ...  0.214205  0.924384   \n",
       "284804  3.031260 -0.296827  0.708417  0.432454  ...  0.232045  0.578229   \n",
       "284805  0.623708 -0.686180  0.679145  0.392087  ...  0.265245  0.800049   \n",
       "284806 -0.649617  1.577006 -0.414650  0.486180  ...  0.261057  0.643078   \n",
       "\n",
       "             V23       V24       V25       V26       V27       V28  Amount  \\\n",
       "0      -0.110474  0.066928  0.128539 -0.189115  0.133558 -0.021053  149.62   \n",
       "1       0.101288 -0.339846  0.167170  0.125895 -0.008983  0.014724    2.69   \n",
       "2       0.909412 -0.689281 -0.327642 -0.139097 -0.055353 -0.059752  378.66   \n",
       "3      -0.190321 -1.175575  0.647376 -0.221929  0.062723  0.061458  123.50   \n",
       "4      -0.137458  0.141267 -0.206010  0.502292  0.219422  0.215153   69.99   \n",
       "...          ...       ...       ...       ...       ...       ...     ...   \n",
       "284802  1.014480 -0.509348  1.436807  0.250034  0.943651  0.823731    0.77   \n",
       "284803  0.012463 -1.016226 -0.606624 -0.395255  0.068472 -0.053527   24.79   \n",
       "284804 -0.037501  0.640134  0.265745 -0.087371  0.004455 -0.026561   67.88   \n",
       "284805 -0.163298  0.123205 -0.569159  0.546668  0.108821  0.104533   10.00   \n",
       "284806  0.376777  0.008797 -0.473649 -0.818267 -0.002415  0.013649  217.00   \n",
       "\n",
       "        Class  \n",
       "0           0  \n",
       "1           0  \n",
       "2           0  \n",
       "3           0  \n",
       "4           0  \n",
       "...       ...  \n",
       "284802      0  \n",
       "284803      0  \n",
       "284804      0  \n",
       "284805      0  \n",
       "284806      0  \n",
       "\n",
       "[284807 rows x 31 columns]"
      ]
     },
     "metadata": {},
     "output_type": "display_data"
    },
    {
     "data": {
      "text/html": [
       "<div>\n",
       "<style scoped>\n",
       "    .dataframe tbody tr th:only-of-type {\n",
       "        vertical-align: middle;\n",
       "    }\n",
       "\n",
       "    .dataframe tbody tr th {\n",
       "        vertical-align: top;\n",
       "    }\n",
       "\n",
       "    .dataframe thead th {\n",
       "        text-align: right;\n",
       "    }\n",
       "</style>\n",
       "<table border=\"1\" class=\"dataframe\">\n",
       "  <thead>\n",
       "    <tr style=\"text-align: right;\">\n",
       "      <th></th>\n",
       "      <th>Time</th>\n",
       "      <th>V1</th>\n",
       "      <th>V2</th>\n",
       "      <th>V3</th>\n",
       "      <th>V4</th>\n",
       "      <th>V5</th>\n",
       "      <th>V6</th>\n",
       "      <th>V7</th>\n",
       "      <th>V8</th>\n",
       "      <th>V9</th>\n",
       "      <th>...</th>\n",
       "      <th>V21</th>\n",
       "      <th>V22</th>\n",
       "      <th>V23</th>\n",
       "      <th>V24</th>\n",
       "      <th>V25</th>\n",
       "      <th>V26</th>\n",
       "      <th>V27</th>\n",
       "      <th>V28</th>\n",
       "      <th>Amount</th>\n",
       "      <th>Class</th>\n",
       "    </tr>\n",
       "  </thead>\n",
       "  <tbody>\n",
       "    <tr>\n",
       "      <th>count</th>\n",
       "      <td>284807.000000</td>\n",
       "      <td>2.848070e+05</td>\n",
       "      <td>2.848070e+05</td>\n",
       "      <td>2.848070e+05</td>\n",
       "      <td>2.848070e+05</td>\n",
       "      <td>2.848070e+05</td>\n",
       "      <td>2.848070e+05</td>\n",
       "      <td>2.848070e+05</td>\n",
       "      <td>2.848070e+05</td>\n",
       "      <td>2.848070e+05</td>\n",
       "      <td>...</td>\n",
       "      <td>2.848070e+05</td>\n",
       "      <td>2.848070e+05</td>\n",
       "      <td>2.848070e+05</td>\n",
       "      <td>2.848070e+05</td>\n",
       "      <td>2.848070e+05</td>\n",
       "      <td>2.848070e+05</td>\n",
       "      <td>2.848070e+05</td>\n",
       "      <td>2.848070e+05</td>\n",
       "      <td>284807.000000</td>\n",
       "      <td>284807.000000</td>\n",
       "    </tr>\n",
       "    <tr>\n",
       "      <th>mean</th>\n",
       "      <td>94813.859575</td>\n",
       "      <td>1.165980e-15</td>\n",
       "      <td>3.416908e-16</td>\n",
       "      <td>-1.373150e-15</td>\n",
       "      <td>2.086869e-15</td>\n",
       "      <td>9.604066e-16</td>\n",
       "      <td>1.490107e-15</td>\n",
       "      <td>-5.556467e-16</td>\n",
       "      <td>1.177556e-16</td>\n",
       "      <td>-2.406455e-15</td>\n",
       "      <td>...</td>\n",
       "      <td>1.656562e-16</td>\n",
       "      <td>-3.444850e-16</td>\n",
       "      <td>2.578648e-16</td>\n",
       "      <td>4.471968e-15</td>\n",
       "      <td>5.340915e-16</td>\n",
       "      <td>1.687098e-15</td>\n",
       "      <td>-3.666453e-16</td>\n",
       "      <td>-1.220404e-16</td>\n",
       "      <td>88.349619</td>\n",
       "      <td>0.001727</td>\n",
       "    </tr>\n",
       "    <tr>\n",
       "      <th>std</th>\n",
       "      <td>47488.145955</td>\n",
       "      <td>1.958696e+00</td>\n",
       "      <td>1.651309e+00</td>\n",
       "      <td>1.516255e+00</td>\n",
       "      <td>1.415869e+00</td>\n",
       "      <td>1.380247e+00</td>\n",
       "      <td>1.332271e+00</td>\n",
       "      <td>1.237094e+00</td>\n",
       "      <td>1.194353e+00</td>\n",
       "      <td>1.098632e+00</td>\n",
       "      <td>...</td>\n",
       "      <td>7.345240e-01</td>\n",
       "      <td>7.257016e-01</td>\n",
       "      <td>6.244603e-01</td>\n",
       "      <td>6.056471e-01</td>\n",
       "      <td>5.212781e-01</td>\n",
       "      <td>4.822270e-01</td>\n",
       "      <td>4.036325e-01</td>\n",
       "      <td>3.300833e-01</td>\n",
       "      <td>250.120109</td>\n",
       "      <td>0.041527</td>\n",
       "    </tr>\n",
       "    <tr>\n",
       "      <th>min</th>\n",
       "      <td>0.000000</td>\n",
       "      <td>-5.640751e+01</td>\n",
       "      <td>-7.271573e+01</td>\n",
       "      <td>-4.832559e+01</td>\n",
       "      <td>-5.683171e+00</td>\n",
       "      <td>-1.137433e+02</td>\n",
       "      <td>-2.616051e+01</td>\n",
       "      <td>-4.355724e+01</td>\n",
       "      <td>-7.321672e+01</td>\n",
       "      <td>-1.343407e+01</td>\n",
       "      <td>...</td>\n",
       "      <td>-3.483038e+01</td>\n",
       "      <td>-1.093314e+01</td>\n",
       "      <td>-4.480774e+01</td>\n",
       "      <td>-2.836627e+00</td>\n",
       "      <td>-1.029540e+01</td>\n",
       "      <td>-2.604551e+00</td>\n",
       "      <td>-2.256568e+01</td>\n",
       "      <td>-1.543008e+01</td>\n",
       "      <td>0.000000</td>\n",
       "      <td>0.000000</td>\n",
       "    </tr>\n",
       "    <tr>\n",
       "      <th>25%</th>\n",
       "      <td>54201.500000</td>\n",
       "      <td>-9.203734e-01</td>\n",
       "      <td>-5.985499e-01</td>\n",
       "      <td>-8.903648e-01</td>\n",
       "      <td>-8.486401e-01</td>\n",
       "      <td>-6.915971e-01</td>\n",
       "      <td>-7.682956e-01</td>\n",
       "      <td>-5.540759e-01</td>\n",
       "      <td>-2.086297e-01</td>\n",
       "      <td>-6.430976e-01</td>\n",
       "      <td>...</td>\n",
       "      <td>-2.283949e-01</td>\n",
       "      <td>-5.423504e-01</td>\n",
       "      <td>-1.618463e-01</td>\n",
       "      <td>-3.545861e-01</td>\n",
       "      <td>-3.171451e-01</td>\n",
       "      <td>-3.269839e-01</td>\n",
       "      <td>-7.083953e-02</td>\n",
       "      <td>-5.295979e-02</td>\n",
       "      <td>5.600000</td>\n",
       "      <td>0.000000</td>\n",
       "    </tr>\n",
       "    <tr>\n",
       "      <th>50%</th>\n",
       "      <td>84692.000000</td>\n",
       "      <td>1.810880e-02</td>\n",
       "      <td>6.548556e-02</td>\n",
       "      <td>1.798463e-01</td>\n",
       "      <td>-1.984653e-02</td>\n",
       "      <td>-5.433583e-02</td>\n",
       "      <td>-2.741871e-01</td>\n",
       "      <td>4.010308e-02</td>\n",
       "      <td>2.235804e-02</td>\n",
       "      <td>-5.142873e-02</td>\n",
       "      <td>...</td>\n",
       "      <td>-2.945017e-02</td>\n",
       "      <td>6.781943e-03</td>\n",
       "      <td>-1.119293e-02</td>\n",
       "      <td>4.097606e-02</td>\n",
       "      <td>1.659350e-02</td>\n",
       "      <td>-5.213911e-02</td>\n",
       "      <td>1.342146e-03</td>\n",
       "      <td>1.124383e-02</td>\n",
       "      <td>22.000000</td>\n",
       "      <td>0.000000</td>\n",
       "    </tr>\n",
       "    <tr>\n",
       "      <th>75%</th>\n",
       "      <td>139320.500000</td>\n",
       "      <td>1.315642e+00</td>\n",
       "      <td>8.037239e-01</td>\n",
       "      <td>1.027196e+00</td>\n",
       "      <td>7.433413e-01</td>\n",
       "      <td>6.119264e-01</td>\n",
       "      <td>3.985649e-01</td>\n",
       "      <td>5.704361e-01</td>\n",
       "      <td>3.273459e-01</td>\n",
       "      <td>5.971390e-01</td>\n",
       "      <td>...</td>\n",
       "      <td>1.863772e-01</td>\n",
       "      <td>5.285536e-01</td>\n",
       "      <td>1.476421e-01</td>\n",
       "      <td>4.395266e-01</td>\n",
       "      <td>3.507156e-01</td>\n",
       "      <td>2.409522e-01</td>\n",
       "      <td>9.104512e-02</td>\n",
       "      <td>7.827995e-02</td>\n",
       "      <td>77.165000</td>\n",
       "      <td>0.000000</td>\n",
       "    </tr>\n",
       "    <tr>\n",
       "      <th>max</th>\n",
       "      <td>172792.000000</td>\n",
       "      <td>2.454930e+00</td>\n",
       "      <td>2.205773e+01</td>\n",
       "      <td>9.382558e+00</td>\n",
       "      <td>1.687534e+01</td>\n",
       "      <td>3.480167e+01</td>\n",
       "      <td>7.330163e+01</td>\n",
       "      <td>1.205895e+02</td>\n",
       "      <td>2.000721e+01</td>\n",
       "      <td>1.559499e+01</td>\n",
       "      <td>...</td>\n",
       "      <td>2.720284e+01</td>\n",
       "      <td>1.050309e+01</td>\n",
       "      <td>2.252841e+01</td>\n",
       "      <td>4.584549e+00</td>\n",
       "      <td>7.519589e+00</td>\n",
       "      <td>3.517346e+00</td>\n",
       "      <td>3.161220e+01</td>\n",
       "      <td>3.384781e+01</td>\n",
       "      <td>25691.160000</td>\n",
       "      <td>1.000000</td>\n",
       "    </tr>\n",
       "  </tbody>\n",
       "</table>\n",
       "<p>8 rows × 31 columns</p>\n",
       "</div>"
      ],
      "text/plain": [
       "                Time            V1            V2            V3            V4  \\\n",
       "count  284807.000000  2.848070e+05  2.848070e+05  2.848070e+05  2.848070e+05   \n",
       "mean    94813.859575  1.165980e-15  3.416908e-16 -1.373150e-15  2.086869e-15   \n",
       "std     47488.145955  1.958696e+00  1.651309e+00  1.516255e+00  1.415869e+00   \n",
       "min         0.000000 -5.640751e+01 -7.271573e+01 -4.832559e+01 -5.683171e+00   \n",
       "25%     54201.500000 -9.203734e-01 -5.985499e-01 -8.903648e-01 -8.486401e-01   \n",
       "50%     84692.000000  1.810880e-02  6.548556e-02  1.798463e-01 -1.984653e-02   \n",
       "75%    139320.500000  1.315642e+00  8.037239e-01  1.027196e+00  7.433413e-01   \n",
       "max    172792.000000  2.454930e+00  2.205773e+01  9.382558e+00  1.687534e+01   \n",
       "\n",
       "                 V5            V6            V7            V8            V9  \\\n",
       "count  2.848070e+05  2.848070e+05  2.848070e+05  2.848070e+05  2.848070e+05   \n",
       "mean   9.604066e-16  1.490107e-15 -5.556467e-16  1.177556e-16 -2.406455e-15   \n",
       "std    1.380247e+00  1.332271e+00  1.237094e+00  1.194353e+00  1.098632e+00   \n",
       "min   -1.137433e+02 -2.616051e+01 -4.355724e+01 -7.321672e+01 -1.343407e+01   \n",
       "25%   -6.915971e-01 -7.682956e-01 -5.540759e-01 -2.086297e-01 -6.430976e-01   \n",
       "50%   -5.433583e-02 -2.741871e-01  4.010308e-02  2.235804e-02 -5.142873e-02   \n",
       "75%    6.119264e-01  3.985649e-01  5.704361e-01  3.273459e-01  5.971390e-01   \n",
       "max    3.480167e+01  7.330163e+01  1.205895e+02  2.000721e+01  1.559499e+01   \n",
       "\n",
       "       ...           V21           V22           V23           V24  \\\n",
       "count  ...  2.848070e+05  2.848070e+05  2.848070e+05  2.848070e+05   \n",
       "mean   ...  1.656562e-16 -3.444850e-16  2.578648e-16  4.471968e-15   \n",
       "std    ...  7.345240e-01  7.257016e-01  6.244603e-01  6.056471e-01   \n",
       "min    ... -3.483038e+01 -1.093314e+01 -4.480774e+01 -2.836627e+00   \n",
       "25%    ... -2.283949e-01 -5.423504e-01 -1.618463e-01 -3.545861e-01   \n",
       "50%    ... -2.945017e-02  6.781943e-03 -1.119293e-02  4.097606e-02   \n",
       "75%    ...  1.863772e-01  5.285536e-01  1.476421e-01  4.395266e-01   \n",
       "max    ...  2.720284e+01  1.050309e+01  2.252841e+01  4.584549e+00   \n",
       "\n",
       "                V25           V26           V27           V28         Amount  \\\n",
       "count  2.848070e+05  2.848070e+05  2.848070e+05  2.848070e+05  284807.000000   \n",
       "mean   5.340915e-16  1.687098e-15 -3.666453e-16 -1.220404e-16      88.349619   \n",
       "std    5.212781e-01  4.822270e-01  4.036325e-01  3.300833e-01     250.120109   \n",
       "min   -1.029540e+01 -2.604551e+00 -2.256568e+01 -1.543008e+01       0.000000   \n",
       "25%   -3.171451e-01 -3.269839e-01 -7.083953e-02 -5.295979e-02       5.600000   \n",
       "50%    1.659350e-02 -5.213911e-02  1.342146e-03  1.124383e-02      22.000000   \n",
       "75%    3.507156e-01  2.409522e-01  9.104512e-02  7.827995e-02      77.165000   \n",
       "max    7.519589e+00  3.517346e+00  3.161220e+01  3.384781e+01   25691.160000   \n",
       "\n",
       "               Class  \n",
       "count  284807.000000  \n",
       "mean        0.001727  \n",
       "std         0.041527  \n",
       "min         0.000000  \n",
       "25%         0.000000  \n",
       "50%         0.000000  \n",
       "75%         0.000000  \n",
       "max         1.000000  \n",
       "\n",
       "[8 rows x 31 columns]"
      ]
     },
     "execution_count": 2,
     "metadata": {},
     "output_type": "execute_result"
    }
   ],
   "source": [
    "df = pd.read_csv('./creditcard.csv')\n",
    "display(df)\n",
    "df.describe()"
   ]
  },
  {
   "cell_type": "code",
   "execution_count": 6,
   "metadata": {},
   "outputs": [
    {
     "data": {
      "text/plain": [
       "0"
      ]
     },
     "execution_count": 6,
     "metadata": {},
     "output_type": "execute_result"
    }
   ],
   "source": [
    "df.isna().sum().sum()"
   ]
  },
  {
   "cell_type": "markdown",
   "metadata": {},
   "source": [
    "No null values observed"
   ]
  },
  {
   "cell_type": "code",
   "execution_count": 7,
   "metadata": {},
   "outputs": [
    {
     "data": {
      "text/plain": [
       "0    284315\n",
       "1       492\n",
       "Name: Class, dtype: int64"
      ]
     },
     "execution_count": 7,
     "metadata": {},
     "output_type": "execute_result"
    }
   ],
   "source": [
    "df['Class'].value_counts()"
   ]
  },
  {
   "cell_type": "markdown",
   "metadata": {},
   "source": [
    "We are dealing with an imbalanced dataset."
   ]
  },
  {
   "cell_type": "code",
   "execution_count": 8,
   "metadata": {},
   "outputs": [
    {
     "data": {
      "text/plain": [
       "Index(['Time', 'V1', 'V2', 'V3', 'V4', 'V5', 'V6', 'V7', 'V8', 'V9', 'V10',\n",
       "       'V11', 'V12', 'V13', 'V14', 'V15', 'V16', 'V17', 'V18', 'V19', 'V20',\n",
       "       'V21', 'V22', 'V23', 'V24', 'V25', 'V26', 'V27', 'V28', 'Amount',\n",
       "       'Class'],\n",
       "      dtype='object')"
      ]
     },
     "execution_count": 8,
     "metadata": {},
     "output_type": "execute_result"
    }
   ],
   "source": [
    "df.columns"
   ]
  },
  {
   "cell_type": "markdown",
   "metadata": {},
   "source": [
    "Only named columns are 'Time' and 'Amount'. Let's dive deeper into the two columns."
   ]
  },
  {
   "cell_type": "code",
   "execution_count": 9,
   "metadata": {},
   "outputs": [
    {
     "name": "stderr",
     "output_type": "stream",
     "text": [
      "/Users/solinakim/opt/anaconda3/envs/mypython3.6/lib/python3.6/site-packages/seaborn/distributions.py:2619: FutureWarning: `distplot` is a deprecated function and will be removed in a future version. Please adapt your code to use either `displot` (a figure-level function with similar flexibility) or `histplot` (an axes-level function for histograms).\n",
      "  warnings.warn(msg, FutureWarning)\n",
      "/Users/solinakim/opt/anaconda3/envs/mypython3.6/lib/python3.6/site-packages/seaborn/distributions.py:2619: FutureWarning: `distplot` is a deprecated function and will be removed in a future version. Please adapt your code to use either `displot` (a figure-level function with similar flexibility) or `histplot` (an axes-level function for histograms).\n",
      "  warnings.warn(msg, FutureWarning)\n",
      "/Users/solinakim/opt/anaconda3/envs/mypython3.6/lib/python3.6/site-packages/seaborn/distributions.py:2619: FutureWarning: `distplot` is a deprecated function and will be removed in a future version. Please adapt your code to use either `displot` (a figure-level function with similar flexibility) or `histplot` (an axes-level function for histograms).\n",
      "  warnings.warn(msg, FutureWarning)\n"
     ]
    },
    {
     "data": {
      "image/png": "[encoded data removed]",
      "text/plain": [
       "<Figure size 2160x360 with 3 Axes>"
      ]
     },
     "metadata": {
      "needs_background": "light"
     },
     "output_type": "display_data"
    }
   ],
   "source": [
    "fig, ax = plt.subplots(1, 3, figsize=(30,5))\n",
    "\n",
    "amount_val = df['Amount'].values\n",
    "time_val = df['Time'].values\n",
    "\n",
    "sns.distplot(amount_val, ax=ax[0], color='r')\n",
    "ax[0].set_title('Distribution of Transaction Amount', fontsize=14)\n",
    "ax[0].set_xlim([min(amount_val), max(amount_val)])\n",
    "\n",
    "sns.distplot(amount_val, ax=ax[1], color='r')\n",
    "ax[1].set_title('Distribution of Transaction Amount', fontsize=14)\n",
    "ax[1].set_xlim([min(amount_val), np.percentile(amount_val, 75)])\n",
    "\n",
    "sns.distplot(time_val, ax=ax[2], color='b')\n",
    "ax[2].set_title('Distribution of Transaction Time', fontsize=14)\n",
    "ax[2].set_xlim([min(time_val), max(time_val)])\n",
    "\n",
    "\n",
    "plt.show()\n"
   ]
  },
  {
   "cell_type": "markdown",
   "metadata": {},
   "source": [
    "- Data on transaction time seems varied.\n",
    "- Data on transaction amount seems focused in the 0-70 range, with outliers."
   ]
  },
  {
   "cell_type": "code",
   "execution_count": 10,
   "metadata": {},
   "outputs": [
    {
     "name": "stdout",
     "output_type": "stream",
     "text": [
      "75th percentile of transaction amount is 77\n",
      "average of transaction amount is 88\n",
      "max value of transaction amount is 25691.16\n"
     ]
    }
   ],
   "source": [
    "print(f'75th percentile of transaction amount is {round(np.percentile(amount_val, 75))}')\n",
    "print(f'average of transaction amount is {round(np.mean(amount_val))}')\n",
    "print(f'max value of transaction amount is {max(amount_val)}')\n"
   ]
  },
  {
   "cell_type": "code",
   "execution_count": 11,
   "metadata": {},
   "outputs": [
    {
     "data": {
      "image/png": "[encoded data removed]",
      "text/plain": [
       "<Figure size 1080x360 with 2 Axes>"
      ]
     },
     "metadata": {
      "needs_background": "light"
     },
     "output_type": "display_data"
    }
   ],
   "source": [
    "f, axes = plt.subplots(ncols=2, figsize=(15,5))\n",
    "\n",
    "# Positive correlations (The higher the feature the probability increases that it will be a fraud transaction)\n",
    "sns.boxplot(y=\"Amount\", data=df, ax=axes[0])\n",
    "axes[0].set_title('Amount Distribution')\n",
    "\n",
    "sns.boxplot(y=\"Time\", data=df, ax=axes[1])\n",
    "axes[1].set_title('Time Distribution')\n",
    "\n",
    "plt.show()"
   ]
  },
  {
   "cell_type": "markdown",
   "metadata": {},
   "source": [
    "Box plots confirm 'Amount' column's multiple outliers.<br>\n",
    "Before exploring various ways to deal with these outliers, let's set up baseline performance for logistic regression, neural networks, and xgb."
   ]
  },
  {
   "cell_type": "markdown",
   "metadata": {},
   "source": [
    "## Step 2: Train baseline logistic regression model"
   ]
  },
  {
   "cell_type": "code",
   "execution_count": 3,
   "metadata": {},
   "outputs": [
    {
     "data": {
      "text/plain": [
       "True"
      ]
     },
     "execution_count": 3,
     "metadata": {},
     "output_type": "execute_result"
    }
   ],
   "source": [
    "X = df.drop('Class', axis=1).values\n",
    "Y = df.Class.values\n",
    "\n",
    "#test\n",
    "X.shape[0] == Y.shape[0]"
   ]
  },
  {
   "cell_type": "code",
   "execution_count": 4,
   "metadata": {},
   "outputs": [
    {
     "name": "stdout",
     "output_type": "stream",
     "text": [
      "original dataset: 242085 examples, 30 features\n",
      "training set: 205772 examples, 72%\n",
      "validation set: 36313 examples, 13%\n",
      "test set: 42722 examples, 15%\n",
      "======================================\n",
      "positive examples split:\n",
      "training set: 74%\n",
      "cv set: 16%\n",
      "test set: 10%\n",
      "======================================\n",
      "positive example percentage within sets:\n",
      "training set: 0.176% positive examples\n",
      "cv set: 0.132% positive examples\n",
      "test set: 0.19% positive examples\n"
     ]
    }
   ],
   "source": [
    "seed = 1234\n",
    "tf.random.set_seed(seed)\n",
    "\n",
    "x, x_test, y, y_test = train_test_split(X, Y, test_size=0.15, shuffle=True, random_state=seed)\n",
    "x_train, x_cv, y_train, y_cv = train_test_split(x, y, test_size=0.15, shuffle=True, random_state=seed)\n",
    "\n",
    "print(f'original dataset: {x.shape[0]} examples, {x.shape[1]} features')\n",
    "print(f'training set: {x_train.shape[0]} examples, {round(100 * x_train.shape[0] / X.shape[0])}%')\n",
    "print(f'validation set: {x_cv.shape[0]} examples, {round(100 * x_cv.shape[0] / X.shape[0])}%')\n",
    "print(f'test set: {x_test.shape[0]} examples, {round(100 * x_test.shape[0] / X.shape[0])}%')\n",
    "print('======================================')\n",
    "print(f'positive examples split:')\n",
    "print(f'training set: {round(len(y_train[y_train==1]) / len(Y[Y==1]) * 100)}%')\n",
    "print(f'cv set: {round(len(y_test[y_test==1]) / len(Y[Y==1]) * 100)}%')\n",
    "print(f'test set: {round(len(y_cv[y_cv==1]) / len(Y[Y==1]) * 100)}%')\n",
    "print('======================================')\n",
    "print(f'positive example percentage within sets:')\n",
    "print(f'training set: {round(len(y_train[y_train==1]) / len(y_train) * 100, 3)}% positive examples')\n",
    "print(f'cv set: {round(len(y_cv[y_cv==1]) / len(y_cv) * 100, 3)}% positive examples')\n",
    "print(f'test set: {round(len(y_test[y_test==1]) / len(y_test) * 100, 3)}% positive examples')\n"
   ]
  },
  {
   "cell_type": "code",
   "execution_count": 13,
   "metadata": {},
   "outputs": [],
   "source": [
    "# building moddel framework\n",
    "lgmodel_v1 = tf.keras.models.Sequential([\n",
    "    tf.keras.layers.Dense(1, activation='sigmoid')\n",
    "])\n",
    "\n",
    "lgmodel_v1.compile(\n",
    "    loss=tf.keras.losses.BinaryCrossentropy(),\n",
    "    optimizer=tf.keras.optimizers.Adam(learning_rate=0.01),\n",
    "    metrics=[tf.keras.metrics.BinaryAccuracy(), tf.keras.metrics.Precision(), tf.keras.metrics.Recall()]\n",
    ")\n"
   ]
  },
  {
   "cell_type": "code",
   "execution_count": 14,
   "metadata": {},
   "outputs": [
    {
     "name": "stdout",
     "output_type": "stream",
     "text": [
      "Train on 205772 samples, validate on 36313 samples\n",
      "Epoch 1/50\n",
      "205772/205772 [==============================] - 12s 58us/sample - loss: 12.5313 - binary_accuracy: 0.9960 - precision_1: 0.0771 - recall_1: 0.1129 - val_loss: 20.1012 - val_binary_accuracy: 0.9985 - val_precision_1: 0.0000e+00 - val_recall_1: 0.0000e+00\n",
      "Epoch 2/50\n",
      "205772/205772 [==============================] - 11s 52us/sample - loss: 10.1412 - binary_accuracy: 0.9961 - precision_1: 0.1220 - recall_1: 0.1956 - val_loss: 7.4008 - val_binary_accuracy: 0.9983 - val_precision_1: 0.2692 - val_recall_1: 0.145820 - recall_1: 0.19\n",
      "Epoch 3/50\n",
      "205772/205772 [==============================] - 10s 47us/sample - loss: 8.3838 - binary_accuracy: 0.9963 - precision_1: 0.1888 - recall_1: 0.3251 - val_loss: 1.4277 - val_binary_accuracy: 0.9981 - val_precision_1: 0.3333 - val_recall_1: 0.4167\n",
      "Epoch 4/50\n",
      "205772/205772 [==============================] - 9s 46us/sample - loss: 8.5196 - binary_accuracy: 0.9964 - precision_1: 0.1965 - recall_1: 0.3444 - val_loss: 8.7968 - val_binary_accuracy: 0.9983 - val_precision_1: 0.3143 - val_recall_1: 0.2292 loss: 9.1943 - binary_accuracy: 0.9963 - precision_1: 0.2 - ETA: 4s - loss: 9.1063 - binary_accuracy: 0.9962 - precision_1: 0.2058 - re - ETA: 4s - loss: 9.9156 - binary_accuracy: 0.9964 - precisio - ETA: 3s - loss: 9.0486 - binary_accuracy: 0.9961 - prec - ETA: 2s - loss: 9.7197 - binary_accuracy: 0.9965 - precision_1: 0.2 - ETA: 1s - l\n",
      "Epoch 5/50\n",
      "205772/205772 [==============================] - 10s 48us/sample - loss: 8.0746 - binary_accuracy: 0.9969 - precision_1: 0.2589 - recall_1: 0.4022 - val_loss: 2.3463 - val_binary_accuracy: 0.9986 - val_precision_1: 0.4634 - val_recall_1: 0.3958.9969 - precision_1: 0.2576 - recall_1: 0.39\n",
      "Epoch 6/50\n",
      "205772/205772 [==============================] - 10s 49us/sample - loss: 7.4833 - binary_accuracy: 0.9970 - precision_1: 0.2855 - recall_1: 0.4601 - val_loss: 0.6391 - val_binary_accuracy: 0.9980 - val_precision_1: 0.3800 - val_recall_1: 0.7917968 - precision_1: 0.2479 - recall_1: 0. - ETA: 3s - loss: 8.5387 - binary_accuracy: 0.9968 - precis - ETA: 2s - - ETA: 0s - loss: 7.3341 - binary_accuracy: 0.9970 - precision_1: 0.2\n",
      "Epoch 7/50\n",
      "205772/205772 [==============================] - 10s 48us/sample - loss: 7.6640 - binary_accuracy: 0.9970 - precision_1: 0.2750 - recall_1: 0.4160 - val_loss: 0.6953 - val_binary_accuracy: 0.9979 - val_precision_1: 0.3611 - val_recall_1: 0.8125TA: 1s - loss: 6.4265 - binary_accuracy: 0.9972 - precision_1: 0.2851 - recall_1: 0.45 - ETA: 1s - loss: 6.3993 - binary_accuracy: 0.9972 - precision_1: 0.2867 - recall_1: 0.45 - ETA: 1s - loss: 6.4060 \n",
      "Epoch 8/50\n",
      "205772/205772 [==============================] - 10s 47us/sample - loss: 6.5973 - binary_accuracy: 0.9972 - precision_1: 0.3140 - recall_1: 0.4931 - val_loss: 1.3754 - val_binary_accuracy: 0.9985 - val_precision_1: 0.4444 - val_recall_1: 0.5000\n",
      "Epoch 9/50\n",
      "205772/205772 [==============================] - 10s 47us/sample - loss: 7.8057 - binary_accuracy: 0.9973 - precision_1: 0.3050 - recall_1: 0.4353 - val_loss: 5.0155 - val_binary_accuracy: 0.9986 - val_precision_1: 0.4474 - val_recall_1: 0.3542\n",
      "Epoch 10/50\n",
      "205772/205772 [==============================] - 9s 46us/sample - loss: 5.5220 - binary_accuracy: 0.9974 - precision_1: 0.3370 - recall_1: 0.5124 - val_loss: 1.1314 - val_binary_accuracy: 0.9988 - val_precision_1: 0.5370 - val_recall_1: 0.6042accuracy: 0.9\n",
      "Epoch 11/50\n",
      "205772/205772 [==============================] - 10s 48us/sample - loss: 7.1091 - binary_accuracy: 0.9975 - precision_1: 0.3517 - recall_1: 0.5096 - val_loss: 1.0179 - val_binary_accuracy: 0.9988 - val_precision_1: 0.5303 - val_recall_1: 0.7292714 - binary_ - ETA: 1s - loss: 8.3388 - bina\n",
      "Epoch 12/50\n",
      "205772/205772 [==============================] - 10s 47us/sample - loss: 6.7611 - binary_accuracy: 0.9975 - precision_1: 0.3633 - recall_1: 0.5344 - val_loss: 2.3493 - val_binary_accuracy: 0.9988 - val_precision_1: 0.5366 - val_recall_1: 0.4583\n",
      "Epoch 13/50\n",
      "205772/205772 [==============================] - 10s 48us/sample - loss: 7.7706 - binary_accuracy: 0.9976 - precision_1: 0.3722 - recall_1: 0.5096 - val_loss: 3.1259 - val_binary_accuracy: 0.9986 - val_precision_1: 0.4545 - val_recall_1: 0.41672s - loss: 7.5851 - binary_accuracy: 0.9977 - precision_1: - ETA: 1s - los\n",
      "Epoch 14/50\n",
      "205772/205772 [==============================] - 10s 48us/sample - loss: 6.6761 - binary_accuracy: 0.9975 - precision_1: 0.3628 - recall_1: 0.5317 - val_loss: 0.9191 - val_binary_accuracy: 0.9985 - val_precision_1: 0.4651 - val_recall_1: 0.8333\n",
      "Epoch 15/50\n",
      "205772/205772 [==============================] - 10s 50us/sample - loss: 6.7411 - binary_accuracy: 0.9975 - precision_1: 0.3587 - recall_1: 0.5069 - val_loss: 13.3822 - val_binary_accuracy: 0.9988 - val_precision_1: 0.6471 - val_recall_1: 0.2292- ETA: 4s - loss: 6.9554 - binary_accurac - ETA: 2s - loss: 6.8232 - binary_accuracy: 0.9972  - ETA: 1s - loss: 6.7967 - binary_accuracy: 0.9974 - precision_1: 0.3565 - recall_1: 0.50 - ETA: 1s - loss: 6.746\n",
      "Epoch 16/50\n",
      "205772/205772 [==============================] - 10s 48us/sample - loss: 7.5827 - binary_accuracy: 0.9975 - precision_1: 0.3482 - recall_1: 0.4738 - val_loss: 3.3626 - val_binary_accuracy: 0.9988 - val_precision_1: 0.5833 - val_recall_1: 0.4375\n",
      "Epoch 17/50\n",
      "205772/205772 [==============================] - 10s 47us/sample - loss: 4.9433 - binary_accuracy: 0.9979 - precision_1: 0.4331 - recall_1: 0.6061 - val_loss: 1.0051 - val_binary_accuracy: 0.9968 - val_precision_1: 0.2685 - val_recall_1: 0.8333\n",
      "Epoch 18/50\n",
      "205772/205772 [==============================] - 10s 47us/sample - loss: 7.1929 - binary_accuracy: 0.9977 - precision_1: 0.3773 - recall_1: 0.5041 - val_loss: 1.3044 - val_binary_accuracy: 0.9989 - val_precision_1: 0.5556 - val_recall_1: 0.7292- binary_accuracy: - ETA: 3s - loss: 6.0918 - binary_accuracy: 0.9978 - precision_1: 0.4118 - recall_1 - ETA: 3s - loss: 5.9150 - binary_a -\n",
      "Epoch 19/50\n",
      "205772/205772 [==============================] - 10s 47us/sample - loss: 6.2190 - binary_accuracy: 0.9978 - precision_1: 0.4020 - recall_1: 0.5427 - val_loss: 1.3102 - val_binary_accuracy: 0.9989 - val_precision_1: 0.5556 - val_recall_1: 0.7292\n",
      "Epoch 20/50\n",
      "205772/205772 [==============================] - 10s 47us/sample - loss: 6.4477 - binary_accuracy: 0.9977 - precision_1: 0.3992 - recall_1: 0.5510 - val_loss: 1.1029 - val_binary_accuracy: 0.9986 - val_precision_1: 0.4878 - val_recall_1: 0.8333\n",
      "Epoch 21/50\n",
      "205772/205772 [==============================] - 10s 48us/sample - loss: 5.5491 - binary_accuracy: 0.9980 - precision_1: 0.4477 - recall_1: 0.5895 - val_loss: 1.1864 - val_binary_accuracy: 0.9988 - val_precision_1: 0.5362 - val_recall_1: 0.7708\n",
      "Epoch 22/50\n",
      "205772/205772 [==============================] - 10s 50us/sample - loss: 6.2467 - binary_accuracy: 0.9979 - precision_1: 0.4358 - recall_1: 0.5702 - val_loss: 5.2529 - val_binary_accuracy: 0.9988 - val_precision_1: 0.5455 - val_recall_1: 0.3750\n",
      "Epoch 23/50\n",
      "205772/205772 [==============================] - 10s 50us/sample - loss: 5.2465 - binary_accuracy: 0.9980 - precision_1: 0.4481 - recall_1: 0.6061 - val_loss: 1.2317 - val_binary_accuracy: 0.9989 - val_precision_1: 0.5606 - val_recall_1: 0.7708 0.4344 - recall_1: 0.58 - ETA: 2s\n",
      "Epoch 24/50\n",
      "205772/205772 [==============================] - 11s 52us/sample - loss: 6.2315 - binary_accuracy: 0.9980 - precision_1: 0.4408 - recall_1: 0.5950 - val_loss: 4.2731 - val_binary_accuracy: 0.9987 - val_precision_1: 0.4878 - val_recall_1: 0.4167\n",
      "Epoch 25/50\n",
      "205772/205772 [==============================] - 10s 50us/sample - loss: 6.7773 - binary_accuracy: 0.9979 - precision_1: 0.4215 - recall_1: 0.5399 - val_loss: 4.3784 - val_binary_accuracy: 0.9986 - val_precision_1: 0.4545 - val_recall_1: 0.4167\n",
      "Epoch 26/50\n",
      "205772/205772 [==============================] - 11s 52us/sample - loss: 6.7302 - binary_accuracy: 0.9978 - precision_1: 0.4008 - recall_1: 0.5455 - val_loss: 8.3750 - val_binary_accuracy: 0.9988 - val_precision_1: 0.5714 - val_recall_1: 0.3333 5.9191 - binary_accuracy: 0.9979 - precision_1: 0.378 - ETA: 4s\n",
      "Epoch 27/50\n",
      "205772/205772 [==============================] - 10s 51us/sample - loss: 6.3569 - binary_accuracy: 0.9981 - precision_1: 0.4641 - recall_1: 0.6226 - val_loss: 1.1426 - val_binary_accuracy: 0.9985 - val_precision_1: 0.4706 - val_recall_1: 0.8333 7.5877 - binary_accuracy: 0.9980 - precision_1: 0.4431 - recall_1 - ETA: 2s - loss: 7.3710 - binary_accuracy: 0.9981 -  - ETA: 1s - loss: 6.8848 - binary_accuracy:\n",
      "Epoch 28/50\n",
      "205772/205772 [==============================] - 10s 50us/sample - loss: 6.8933 - binary_accuracy: 0.9979 - precision_1: 0.4392 - recall_1: 0.5868 - val_loss: 1.1442 - val_binary_accuracy: 0.9987 - val_precision_1: 0.4938 - val_recall_1: 0.8333- precision_1: 0.4370 - recall_1: 0.\n",
      "Epoch 29/50\n",
      "205772/205772 [==============================] - 10s 49us/sample - loss: 5.7292 - binary_accuracy: 0.9979 - precision_1: 0.4358 - recall_1: 0.5702 - val_loss: 5.1971 - val_binary_accuracy: 0.9988 - val_precision_1: 0.5588 - val_recall_1: 0.3958\n",
      "Epoch 30/50\n",
      "205772/205772 [==============================] - 11s 51us/sample - loss: 5.4425 - binary_accuracy: 0.9980 - precision_1: 0.4433 - recall_1: 0.5702 - val_loss: 17.7059 - val_binary_accuracy: 0.9988 - val_precision_1: 0.6471 - val_recall_1: 0.2292\n",
      "Epoch 31/50\n",
      "205772/205772 [==============================] - 10s 49us/sample - loss: 6.5117 - binary_accuracy: 0.9981 - precision_1: 0.4739 - recall_1: 0.5758 - val_loss: 1.5104 - val_binary_accuracy: 0.9990 - val_precision_1: 0.5833 - val_recall_1: 0.72922 - binary_accuracy: 0.9982 - precision_1: 0.481\n",
      "Epoch 32/50\n",
      "205772/205772 [==============================] - 10s 50us/sample - loss: 5.3658 - binary_accuracy: 0.9981 - precision_1: 0.4746 - recall_1: 0.5923 - val_loss: 1.2113 - val_binary_accuracy: 0.9983 - val_precision_1: 0.4211 - val_recall_1: 0.8333\n",
      "Epoch 33/50\n",
      "205772/205772 [==============================] - 10s 50us/sample - loss: 5.7100 - binary_accuracy: 0.9980 - precision_1: 0.4464 - recall_1: 0.5730 - val_loss: 1.8773 - val_binary_accuracy: 0.9984 - val_precision_1: 0.4366 - val_recall_1: 0.64581 - binary_accuracy: 0.9980  - ETA: 2s - loss: 5.9983 - binary_accuracy: 0.9979 - precision_1: 0 - ETA: 2s - loss: 6.3201 - binary_accuracy: 0.9 - ETA: 1s - loss: 5.7731 - binary_a\n",
      "Epoch 34/50\n",
      "205772/205772 [==============================] - 10s 50us/sample - loss: 5.4496 - binary_accuracy: 0.9979 - precision_1: 0.4376 - recall_1: 0.5702 - val_loss: 1.2231 - val_binary_accuracy: 0.9980 - val_precision_1: 0.3774 - val_recall_1: 0.8333 0.3782 - recall - ETA: 4s - loss: 7.2422 -  - ETA: 3s - loss: - ETA: 1s - loss: 5.9638 - binary_accurac - ETA: 0s - loss: 5.5335 - binary_accuracy: 0.9980 - precision_1: 0.4408 - reca\n",
      "Epoch 35/50\n",
      "205772/205772 [==============================] - 11s 51us/sample - loss: 5.7245 - binary_accuracy: 0.9981 - precision_1: 0.4722 - recall_1: 0.6088 - val_loss: 1.3406 - val_binary_accuracy: 0.9985 - val_precision_1: 0.4545 - val_recall_1: 0.8333\n",
      "Epoch 36/50\n",
      "205772/205772 [==============================] - 10s 50us/sample - loss: 5.9102 - binary_accuracy: 0.9980 - precision_1: 0.4522 - recall_1: 0.5868 - val_loss: 1.3343 - val_binary_accuracy: 0.9990 - val_precision_1: 0.5735 - val_recall_1: 0.8125y: 0.9980 - precision_1:\n",
      "Epoch 37/50\n",
      "205772/205772 [==============================] - 10s 48us/sample - loss: 5.2435 - binary_accuracy: 0.9982 - precision_1: 0.4989 - recall_1: 0.6419 - val_loss: 1.2286 - val_binary_accuracy: 0.9982 - val_precision_1: 0.4124 - val_recall_1: 0.8333 0.4932 - recall_1 - ETA: 1s - loss: 5.3048 - binary\n",
      "Epoch 38/50\n",
      "205772/205772 [==============================] - 10s 48us/sample - loss: 6.2698 - binary_accuracy: 0.9981 - precision_1: 0.4692 - recall_1: 0.5868 - val_loss: 5.4688 - val_binary_accuracy: 0.9988 - val_precision_1: 0.5714 - val_recall_1: 0.4167TA: 1s - loss: 6.0519 - binary_accuracy: 0.9982 - precision_1: 0.481 - ETA: 0s - loss: 5.9694 - binary_accuracy: 0.9981 - precis\n",
      "Epoch 39/50\n",
      "205772/205772 [==============================] - 10s 47us/sample - loss: 4.4583 - binary_accuracy: 0.9981 - precision_1: 0.4697 - recall_1: 0.6198 - val_loss: 3.2435 - val_binary_accuracy: 0.9988 - val_precision_1: 0.5476 - val_recall_1: 0.4792\n",
      "Epoch 40/50\n",
      "205772/205772 [==============================] - 9s 44us/sample - loss: 5.9220 - binary_accuracy: 0.9982 - precision_1: 0.4930 - recall_1: 0.5840 - val_loss: 2.2024 - val_binary_accuracy: 0.9987 - val_precision_1: 0.5200 - val_recall_1: 0.5417: 6.7025 - binary_accuracy: 0.9983 - precision_1: 0.5345 - recall - ETA: 2s - loss: 6.2545 - binary_accuracy: 0.9983 -  - ETA: 1s - loss: 6.2688 - binary_accuracy: 0.998\n",
      "Epoch 41/50\n",
      "205772/205772 [==============================] - 10s 47us/sample - loss: 5.5557 - binary_accuracy: 0.9982 - precision_1: 0.4866 - recall_1: 0.6006 - val_loss: 9.1040 - val_binary_accuracy: 0.9988 - val_precision_1: 0.5714 - val_recall_1: 0.3333\n",
      "Epoch 42/50\n",
      "205772/205772 [==============================] - 10s 50us/sample - loss: 5.1292 - binary_accuracy: 0.9981 - precision_1: 0.4655 - recall_1: 0.5950 - val_loss: 21.7349 - val_binary_accuracy: 0.9988 - val_precision_1: 0.6471 - val_recall_1: 0.2292 -  - ETA: 1s - loss: 5.4116 - binary_accuracy: 0.998\n",
      "Epoch 43/50\n",
      "205772/205772 [==============================] - 10s 48us/sample - loss: 6.1014 - binary_accuracy: 0.9982 - precision_1: 0.4884 - recall_1: 0.5813 - val_loss: 5.6035 - val_binary_accuracy: 0.9988 - val_precision_1: 0.5714 - val_recall_1: 0.4167028 - binary_accuracy: 0.9985 - prec - ETA: 6s - loss: 7.4594 - binary_accuracy: 0.9 - ETA - ETA: 1s - loss: 5.5892 - binary\n",
      "Epoch 44/50\n",
      "205772/205772 [==============================] - 10s 48us/sample - loss: 5.0950 - binary_accuracy: 0.9983 - precision_1: 0.5033 - recall_1: 0.6281 - val_loss: 1.3028 - val_binary_accuracy: 0.9989 - val_precision_1: 0.5634 - val_recall_1: 0.8333 2.5421 - binary_acc - ETA:  - ETA: 4s - loss: 5.1535 - binary_accuracy: 0.9983 - precision_1: 0.5576 - recall - ETA: 3s - loss: 5.2642 - binary_accur - ETA: 2s - l - ETA: 0s - loss: 5.2540 - binary_accuracy: 0.9982 - precision_\n",
      "Epoch 45/50\n",
      "205772/205772 [==============================] - 10s 48us/sample - loss: 5.2695 - binary_accuracy: 0.9982 - precision_1: 0.5011 - recall_1: 0.6198 - val_loss: 1.2775 - val_binary_accuracy: 0.9989 - val_precision_1: 0.5479 - val_recall_1: 0.8333.5066 - recall_1:  - ETA: 5s - loss: 4.3308 - bi - ETA: 4s - loss: 5.8118 - binary_accuracy: 0.9982  - ETA: 0s - loss: 5.5941 - binary_accuracy: 0.9982 - precis\n",
      "Epoch 46/50\n",
      "205772/205772 [==============================] - 10s 48us/sample - loss: 6.1521 - binary_accuracy: 0.9981 - precision_1: 0.4685 - recall_1: 0.5950 - val_loss: 3.3573 - val_binary_accuracy: 0.9988 - val_precision_1: 0.5610 - val_recall_1: 0.4792oss: 6.230 - ETA: 0s - loss: 6.2902 - binary_accuracy: 0.9981 - precision_1: 0\n",
      "Epoch 47/50\n",
      "205772/205772 [==============================] - 10s 47us/sample - loss: 4.7312 - binary_accuracy: 0.9983 - precision_1: 0.5113 - recall_1: 0.6226 - val_loss: 1.3783 - val_binary_accuracy: 0.9990 - val_precision_1: 0.5938 - val_recall_1: 0.7917\n",
      "Epoch 48/50\n",
      "205772/205772 [==============================] - 9s 46us/sample - loss: 4.9771 - binary_accuracy: 0.9982 - precision_1: 0.4881 - recall_1: 0.6226 - val_loss: 1.4818 - val_binary_accuracy: 0.9991 - val_precision_1: 0.6167 - val_recall_1: 0.7708- loss: 5.6019 - binary_accur - ETA: 1s - loss: 5.3430 - binary_accuracy: 0.9981 - precision_1: 0 - ETA: 1s - loss: 5.0583 - binary_accuracy:\n",
      "Epoch 49/50\n",
      "205772/205772 [==============================] - 9s 44us/sample - loss: 5.8336 - binary_accuracy: 0.9982 - precision_1: 0.5023 - recall_1: 0.6061 - val_loss: 1.2992 - val_binary_accuracy: 0.9990 - val_precision_1: 0.5797 - val_recall_1: 0.8333\n",
      "Epoch 50/50\n",
      "205772/205772 [==============================] - 9s 44us/sample - loss: 5.2622 - binary_accuracy: 0.9983 - precision_1: 0.5137 - recall_1: 0.6198 - val_loss: 2.0502 - val_binary_accuracy: 0.9988 - val_precision_1: 0.5385 - val_recall_1: 0.5833\n"
     ]
    },
    {
     "data": {
      "text/plain": [
       "<tensorflow.python.keras.callbacks.History at 0x7fa5b55fcba8>"
      ]
     },
     "execution_count": 14,
     "metadata": {},
     "output_type": "execute_result"
    }
   ],
   "source": [
    "NOW = datetime.datetime.now().strftime(\"%Y%m%d%H%M%S\")\n",
    "NAME = f\"creditcard_fraud_lgmodel_{NOW}\"\n",
    "tensorboard = TensorBoard(log_dir=f'./logs/{NAME}', histogram_freq=1)\n",
    "\n",
    "logging.getLogger(\"tensorflow\").setLevel(logging.ERROR)\n",
    "\n",
    "lgmodel_v1.fit(\n",
    "    x_train, y_train,\n",
    "    epochs=50,\n",
    "    callbacks = [tensorboard],\n",
    "    validation_data = (x_cv, y_cv),\n",
    ")\n"
   ]
  },
  {
   "cell_type": "code",
   "execution_count": 23,
   "metadata": {},
   "outputs": [],
   "source": [
    "sys.stdout = open(f'./logs/{NAME}/config.txt', 'w')\n",
    "print(lgmodel_v1.summary())\n",
    "print(lgmodel_v1.to_json())"
   ]
  },
  {
   "cell_type": "code",
   "execution_count": 24,
   "metadata": {},
   "outputs": [
    {
     "data": {
      "text/html": [
       "\n",
       "      <iframe id=\"tensorboard-frame-c9f12dbae3321822\" width=\"100%\" height=\"800\" frameborder=\"0\">\n",
       "      </iframe>\n",
       "      <script>\n",
       "        (function() {\n",
       "          const frame = document.getElementById(\"tensorboard-frame-c9f12dbae3321822\");\n",
       "          const url = new URL(\"/\", window.location);\n",
       "          url.port = 6011;\n",
       "          frame.src = url;\n",
       "        })();\n",
       "      </script>\n",
       "  "
      ],
      "text/plain": [
       "<IPython.core.display.HTML object>"
      ]
     },
     "metadata": {},
     "output_type": "display_data"
    }
   ],
   "source": [
    "%load_ext tensorboard\n",
    "%tensorboard --logdir logs/{NAME}"
   ]
  },
  {
   "cell_type": "markdown",
   "metadata": {},
   "source": [
    "### Results\n",
    "- Displaying high accuracy on CV, but low precision & recall\n",
    "- Does not seem to be overfitting, since both CV and training set are performing similarly\n",
    "- Performance seems to plateau after 30 epochs\n",
    "\n",
    "- thoughts: low precision & recall seems likely due to imbalanced dataset.\n"
   ]
  },
  {
   "cell_type": "markdown",
   "metadata": {},
   "source": []
  },
  {
   "cell_type": "markdown",
   "metadata": {},
   "source": [
    "## Step 3: Train baseline neural network\n",
    "- 3 Dense hidden layers of 25, 15, and 5 units\n",
    "- no regularization"
   ]
  },
  {
   "cell_type": "code",
   "execution_count": 5,
   "metadata": {},
   "outputs": [],
   "source": [
    "# building model framework\n",
    "nnmodel_v1 = tf.keras.models.Sequential([\n",
    "        Dense(units=x_train.shape[1], activation='relu'),\n",
    "        Dense(units=15, activation='relu'),\n",
    "        Dense(units=5, activation='relu'),\n",
    "        Dense(units=1, activation='sigmoid'),\n",
    "])\n",
    "\n",
    "nnmodel_v1.compile(\n",
    "    loss=tf.keras.losses.BinaryCrossentropy(),\n",
    "    optimizer=tf.keras.optimizers.Adam(learning_rate=0.01),\n",
    "    metrics=[tf.keras.metrics.BinaryAccuracy(), tf.keras.metrics.Precision(), tf.keras.metrics.Recall()]\n",
    ")\n"
   ]
  },
  {
   "cell_type": "code",
   "execution_count": 6,
   "metadata": {},
   "outputs": [],
   "source": [
    "NOW = datetime.datetime.now().strftime(\"%Y%m%d%H%M%S\")\n",
    "NAME = f\"creditcard_fraud_nnmodel_{NOW}\"\n",
    "tensorboard = TensorBoard(log_dir=f'./logs/{NAME}', histogram_freq=1)"
   ]
  },
  {
   "cell_type": "code",
   "execution_count": 7,
   "metadata": {},
   "outputs": [
    {
     "name": "stdout",
     "output_type": "stream",
     "text": [
      "Train on 205772 samples, validate on 36313 samples\n",
      "Epoch 1/50\n",
      "205772/205772 [==============================] - 15s 72us/sample - loss: 0.9194 - binary_accuracy: 0.9978 - precision: 0.0000e+00 - recall: 0.0000e+00 - val_loss: 0.0102 - val_binary_accuracy: 0.9987 - val_precision: 0.0000e+00 - val_recall: 0.0000e+00\n",
      "Epoch 2/50\n",
      "205772/205772 [==============================] - 13s 64us/sample - loss: 0.0130 - binary_accuracy: 0.9982 - precision: 0.0000e+00 - recall: 0.0000e+00 - val_loss: 0.0101 - val_binary_accuracy: 0.9987 - val_precision: 0.0000e+00 - val_recall: 0.0000e+00\n",
      "Epoch 3/50\n",
      "205772/205772 [==============================] - 12s 59us/sample - loss: 0.0130 - binary_accuracy: 0.9982 - precision: 0.0000e+00 - recall: 0.0000e+00 - val_loss: 0.0101 - val_binary_accuracy: 0.9987 - val_precision: 0.0000e+00 - val_recall: 0.0000e+00 0.0000e+00 - recall: 0.00\n",
      "Epoch 4/50\n",
      "205772/205772 [==============================] - 13s 62us/sample - loss: 0.0130 - binary_accuracy: 0.9982 - precision: 0.0000e+00 - recall: 0.0000e+00 - val_loss: 0.0101 - val_binary_accuracy: 0.9987 - val_precision: 0.0000e+00 - val_recall: 0.0000e+00_accuracy: 0.9982 - precision: 0.0000e+00 - recall: 0.00 - ETA: 1s - loss: 0.0133 - binary_accuracy: 0.9\n",
      "Epoch 5/50\n",
      "205772/205772 [==============================] - 12s 57us/sample - loss: 0.0130 - binary_accuracy: 0.9982 - precision: 0.0000e+00 - recall: 0.0000e+00 - val_loss: 0.0101 - val_binary_accuracy: 0.9987 - val_precision: 0.0000e+00 - val_recall: 0.0000e+003 - precision: 0.0000e+00 - reca - ETA: 2s - loss: 0.0132 - binary_accuracy: 0.9982 - precision: 0.0000e+00 - recall: 0.0000 - ETA: 2s - los\n",
      "Epoch 6/50\n",
      "205772/205772 [==============================] - 12s 60us/sample - loss: 0.0130 - binary_accuracy: 0.9982 - precision: 0.0000e+00 - recall: 0.0000e+00 - val_loss: 0.0102 - val_binary_accuracy: 0.9987 - val_precision: 0.0000e+00 - val_recall: 0.0000e+00\n",
      "Epoch 7/50\n",
      "205772/205772 [==============================] - 12s 58us/sample - loss: 0.0130 - binary_accuracy: 0.9982 - precision: 0.0000e+00 - recall: 0.0000e+00 - val_loss: 0.0102 - val_binary_accuracy: 0.9987 - val_precision: 0.0000e+00 - val_recall: 0.0000e+00\n",
      "Epoch 8/50\n",
      "205772/205772 [==============================] - 12s 60us/sample - loss: 0.0130 - binary_accuracy: 0.9982 - precision: 0.0000e+00 - recall: 0.0000e+00 - val_loss: 0.0101 - val_binary_accuracy: 0.9987 - val_precision: 0.0000e+00 - val_recall: 0.0000e+00\n",
      "Epoch 9/50\n",
      "205772/205772 [==============================] - 12s 59us/sample - loss: 0.0130 - binary_accuracy: 0.9982 - precision: 0.0000e+00 - recall: 0.0000e+00 - val_loss: 0.0102 - val_binary_accuracy: 0.9987 - val_precision: 0.0000e+00 - val_recall: 0.0000e+00\n",
      "Epoch 10/50\n",
      "205772/205772 [==============================] - 12s 59us/sample - loss: 0.0130 - binary_accuracy: 0.9982 - precision: 0.0000e+00 - recall: 0.0000e+00 - val_loss: 0.0102 - val_binary_accuracy: 0.9987 - val_precision: 0.0000e+00 - val_recall: 0.0000e+00\n",
      "Epoch 11/50\n",
      "205772/205772 [==============================] - 14s 70us/sample - loss: 0.0130 - binary_accuracy: 0.9982 - precision: 0.0000e+00 - recall: 0.0000e+00 - val_loss: 0.0101 - val_binary_accuracy: 0.9987 - val_precision: 0.0000e+00 - val_recall: 0.0000e+00\n",
      "Epoch 12/50\n",
      "205772/205772 [==============================] - 12s 58us/sample - loss: 0.0130 - binary_accuracy: 0.9982 - precision: 0.0000e+00 - recall: 0.0000e+00 - val_loss: 0.0101 - val_binary_accuracy: 0.9987 - val_precision: 0.0000e+00 - val_recall: 0.0000e+00\n",
      "Epoch 13/50\n",
      "205772/205772 [==============================] - 12s 58us/sample - loss: 0.0130 - binary_accuracy: 0.9982 - precision: 0.0000e+00 - recall: 0.0000e+00 - val_loss: 0.0101 - val_binary_accuracy: 0.9987 - val_precision: 0.0000e+00 - val_recall: 0.0000e+00\n",
      "Epoch 14/50\n",
      "205772/205772 [==============================] - 12s 57us/sample - loss: 0.0130 - binary_accuracy: 0.9982 - precision: 0.0000e+00 - recall: 0.0000e+00 - val_loss: 0.0101 - val_binary_accuracy: 0.9987 - val_precision: 0.0000e+00 - val_recall: 0.0000e+00\n",
      "Epoch 15/50\n",
      "205772/205772 [==============================] - 12s 58us/sample - loss: 0.0129 - binary_accuracy: 0.9982 - precision: 0.0000e+00 - recall: 0.0000e+00 - val_loss: 0.0101 - val_binary_accuracy: 0.9987 - val_precision: 0.0000e+00 - val_recall: 0.0000e+00\n",
      "Epoch 16/50\n",
      "205772/205772 [==============================] - 11s 56us/sample - loss: 0.0130 - binary_accuracy: 0.9982 - precision: 0.0000e+00 - recall: 0.0000e+00 - val_loss: 0.0101 - val_binary_accuracy: 0.9987 - val_precision: 0.0000e+00 - val_recall: 0.0000e+00\n",
      "Epoch 17/50\n",
      "205772/205772 [==============================] - 11s 55us/sample - loss: 0.0130 - binary_accuracy: 0.9982 - precision: 0.0000e+00 - recall: 0.0000e+00 - val_loss: 0.0101 - val_binary_accuracy: 0.9987 - val_precision: 0.0000e+00 - val_recall: 0.0000e+000e+00 - recall: 0.\n",
      "Epoch 18/50\n",
      "205772/205772 [==============================] - 13s 61us/sample - loss: 0.0130 - binary_accuracy: 0.9982 - precision: 0.0000e+00 - recall: 0.0000e+00 - val_loss: 0.0101 - val_binary_accuracy: 0.9987 - val_precision: 0.0000e+00 - val_recall: 0.0000e+00\n",
      "Epoch 19/50\n",
      "205772/205772 [==============================] - 12s 58us/sample - loss: 0.0130 - binary_accuracy: 0.9982 - precision: 0.0000e+00 - recall: 0.0000e+00 - val_loss: 0.0102 - val_binary_accuracy: 0.9987 - val_precision: 0.0000e+00 - val_recall: 0.0000e+00\n",
      "Epoch 20/50\n",
      "205772/205772 [==============================] - 12s 56us/sample - loss: 0.0130 - binary_accuracy: 0.9982 - precision: 0.0000e+00 - recall: 0.0000e+00 - val_loss: 0.0102 - val_binary_accuracy: 0.9987 - val_precision: 0.0000e+00 - val_recall: 0.0000e+00\n",
      "Epoch 21/50\n",
      "205772/205772 [==============================] - 11s 55us/sample - loss: 0.0130 - binary_accuracy: 0.9982 - precision: 0.0000e+00 - recall: 0.0000e+00 - val_loss: 0.0102 - val_binary_accuracy: 0.9987 - val_precision: 0.0000e+00 - val_recall: 0.0000e+00\n",
      "Epoch 22/50\n",
      "205772/205772 [==============================] - 12s 57us/sample - loss: 0.0130 - binary_accuracy: 0.9982 - precision: 0.0000e+00 - recall: 0.0000e+00 - val_loss: 0.0101 - val_binary_accuracy: 0.9987 - val_precision: 0.0000e+00 - val_recall: 0.0000e+00\n",
      "Epoch 23/50\n",
      "205772/205772 [==============================] - 11s 55us/sample - loss: 0.0130 - binary_accuracy: 0.9982 - precision: 0.0000e+00 - recall: 0.0000e+00 - val_loss: 0.0102 - val_binary_accuracy: 0.9987 - val_precision: 0.0000e+00 - val_recall: 0.0000e+00\n",
      "Epoch 24/50\n",
      "205772/205772 [==============================] - 11s 56us/sample - loss: 0.0130 - binary_accuracy: 0.9982 - precision: 0.0000e+00 - recall: 0.0000e+00 - val_loss: 0.0101 - val_binary_accuracy: 0.9987 - val_precision: 0.0000e+00 - val_recall: 0.0000e+00\n",
      "Epoch 25/50\n",
      "205772/205772 [==============================] - 12s 58us/sample - loss: 0.0130 - binary_accuracy: 0.9982 - precision: 0.0000e+00 - recall: 0.0000e+00 - val_loss: 0.0101 - val_binary_accuracy: 0.9987 - val_precision: 0.0000e+00 - val_recall: 0.0000e+00\n",
      "Epoch 26/50\n",
      "205772/205772 [==============================] - 12s 59us/sample - loss: 0.0130 - binary_accuracy: 0.9982 - precision: 0.0000e+00 - recall: 0.0000e+00 - val_loss: 0.0102 - val_binary_accuracy: 0.9987 - val_precision: 0.0000e+00 - val_recall: 0.0000e+00\n",
      "Epoch 27/50\n",
      "205772/205772 [==============================] - 13s 62us/sample - loss: 0.0130 - binary_accuracy: 0.9982 - precision: 0.0000e+00 - recall: 0.0000e+00 - val_loss: 0.0102 - val_binary_accuracy: 0.9987 - val_precision: 0.0000e+00 - val_recall: 0.0000e+00\n",
      "Epoch 28/50\n",
      "205772/205772 [==============================] - 12s 59us/sample - loss: 0.0130 - binary_accuracy: 0.9982 - precision: 0.0000e+00 - recall: 0.0000e+00 - val_loss: 0.0103 - val_binary_accuracy: 0.9987 - val_precision: 0.0000e+00 - val_recall: 0.0000e+00\n",
      "Epoch 29/50\n",
      "205772/205772 [==============================] - 12s 58us/sample - loss: 0.0130 - binary_accuracy: 0.9982 - precision: 0.0000e+00 - recall: 0.0000e+00 - val_loss: 0.0102 - val_binary_accuracy: 0.9987 - val_precision: 0.0000e+00 - val_recall: 0.0000e+00\n",
      "Epoch 30/50\n",
      "205772/205772 [==============================] - 12s 59us/sample - loss: 0.0130 - binary_accuracy: 0.9982 - precision: 0.0000e+00 - recall: 0.0000e+00 - val_loss: 0.0101 - val_binary_accuracy: 0.9987 - val_precision: 0.0000e+00 - val_recall: 0.0000e+00\n",
      "Epoch 31/50\n",
      "205772/205772 [==============================] - 12s 59us/sample - loss: 0.0130 - binary_accuracy: 0.9982 - precision: 0.0000e+00 - recall: 0.0000e+00 - val_loss: 0.0102 - val_binary_accuracy: 0.9987 - val_precision: 0.0000e+00 - val_recall: 0.0000e+00\n",
      "Epoch 32/50\n",
      "205772/205772 [==============================] - 12s 59us/sample - loss: 0.0130 - binary_accuracy: 0.9982 - precision: 0.0000e+00 - recall: 0.0000e+00 - val_loss: 0.0102 - val_binary_accuracy: 0.9987 - val_precision: 0.0000e+00 - val_recall: 0.0000e+00\n",
      "Epoch 33/50\n",
      "205772/205772 [==============================] - 12s 58us/sample - loss: 0.0130 - binary_accuracy: 0.9982 - precision: 0.0000e+00 - recall: 0.0000e+00 - val_loss: 0.0101 - val_binary_accuracy: 0.9987 - val_precision: 0.0000e+00 - val_recall: 0.0000e+00\n",
      "Epoch 34/50\n",
      "205772/205772 [==============================] - 12s 57us/sample - loss: 0.0130 - binary_accuracy: 0.9982 - precision: 0.0000e+00 - recall: 0.0000e+00 - val_loss: 0.0101 - val_binary_accuracy: 0.9987 - val_precision: 0.0000e+00 - val_recall: 0.0000e+00\n",
      "Epoch 35/50\n",
      "205772/205772 [==============================] - 12s 57us/sample - loss: 0.0130 - binary_accuracy: 0.9982 - precision: 0.0000e+00 - recall: 0.0000e+00 - val_loss: 0.0101 - val_binary_accuracy: 0.9987 - val_precision: 0.0000e+00 - val_recall: 0.0000e+00nary_accuracy: 0.9982 - precision: 0.0000e+00 - re - ETA: 0s - loss: 0.0129 - binary_accuracy: 0.9982 - precision: 0.0000e+00 - recall: 0.00\n",
      "Epoch 36/50\n",
      "205772/205772 [==============================] - 12s 57us/sample - loss: 0.0130 - binary_accuracy: 0.9982 - precision: 0.0000e+00 - recall: 0.0000e+00 - val_loss: 0.0102 - val_binary_accuracy: 0.9987 - val_precision: 0.0000e+00 - val_recall: 0.0000e+00\n",
      "Epoch 37/50\n",
      "205772/205772 [==============================] - 12s 57us/sample - loss: 0.0130 - binary_accuracy: 0.9982 - precision: 0.0000e+00 - recall: 0.0000e+00 - val_loss: 0.0101 - val_binary_accuracy: 0.9987 - val_precision: 0.0000e+00 - val_recall: 0.0000e+00nary_accuracy: 0.9982 - pr\n",
      "Epoch 38/50\n",
      "205772/205772 [==============================] - 18s 89us/sample - loss: 0.0130 - binary_accuracy: 0.9982 - precision: 0.0000e+00 - recall: 0.0000e+00 - val_loss: 0.0101 - val_binary_accuracy: 0.9987 - val_precision: 0.0000e+00 - val_recall: 0.0000e+00\n",
      "Epoch 39/50\n",
      "205772/205772 [==============================] - 12s 59us/sample - loss: 0.0130 - binary_accuracy: 0.9982 - precision: 0.0000e+00 - recall: 0.0000e+00 - val_loss: 0.0102 - val_binary_accuracy: 0.9987 - val_precision: 0.0000e+00 - val_recall: 0.0000e+00\n",
      "Epoch 40/50\n",
      "205772/205772 [==============================] - 12s 57us/sample - loss: 0.0130 - binary_accuracy: 0.9982 - precision: 0.0000e+00 - recall: 0.0000e+00 - val_loss: 0.0102 - val_binary_accuracy: 0.9987 - val_precision: 0.0000e+00 - val_recall: 0.0000e+00\n",
      "Epoch 41/50\n",
      "205772/205772 [==============================] - 12s 59us/sample - loss: 0.0130 - binary_accuracy: 0.9982 - precision: 0.0000e+00 - recall: 0.0000e+00 - val_loss: 0.0101 - val_binary_accuracy: 0.9987 - val_precision: 0.0000e+00 - val_recall: 0.0000e+00\n",
      "Epoch 42/50\n",
      "205772/205772 [==============================] - 12s 60us/sample - loss: 0.0130 - binary_accuracy: 0.9982 - precision: 0.0000e+00 - recall: 0.0000e+00 - val_loss: 0.0103 - val_binary_accuracy: 0.9987 - val_precision: 0.0000e+00 - val_recall: 0.0000e+00\n",
      "Epoch 43/50\n",
      "205772/205772 [==============================] - 12s 57us/sample - loss: 0.0130 - binary_accuracy: 0.9982 - precision: 0.0000e+00 - recall: 0.0000e+00 - val_loss: 0.0101 - val_binary_accuracy: 0.9987 - val_precision: 0.0000e+00 - val_recall: 0.0000e+00\n",
      "Epoch 44/50\n",
      "205772/205772 [==============================] - 12s 57us/sample - loss: 0.0130 - binary_accuracy: 0.9982 - precision: 0.0000e+00 - recall: 0.0000e+00 - val_loss: 0.0101 - val_binary_accuracy: 0.9987 - val_precision: 0.0000e+00 - val_recall: 0.0000e+00\n",
      "Epoch 45/50\n",
      "205772/205772 [==============================] - 12s 56us/sample - loss: 0.0130 - binary_accuracy: 0.9982 - precision: 0.0000e+00 - recall: 0.0000e+00 - val_loss: 0.0104 - val_binary_accuracy: 0.9987 - val_precision: 0.0000e+00 - val_recall: 0.0000e+00: 0s - loss: 0.0127 - binary_accuracy: 0.9983 - precision: 0.0000e+00 - recall\n",
      "Epoch 46/50\n",
      "205772/205772 [==============================] - 12s 57us/sample - loss: 0.0130 - binary_accuracy: 0.9982 - precision: 0.0000e+00 - recall: 0.0000e+00 - val_loss: 0.0101 - val_binary_accuracy: 0.9987 - val_precision: 0.0000e+00 - val_recall: 0.0000e+00\n",
      "Epoch 47/50\n",
      "205772/205772 [==============================] - 12s 57us/sample - loss: 0.0130 - binary_accuracy: 0.9982 - precision: 0.0000e+00 - recall: 0.0000e+00 - val_loss: 0.0102 - val_binary_accuracy: 0.9987 - val_precision: 0.0000e+00 - val_recall: 0.0000e+00\n",
      "Epoch 48/50\n",
      "205772/205772 [==============================] - 12s 57us/sample - loss: 0.0130 - binary_accuracy: 0.9982 - precision: 0.0000e+00 - recall: 0.0000e+00 - val_loss: 0.0101 - val_binary_accuracy: 0.9987 - val_precision: 0.0000e+00 - val_recall: 0.0000e+000e+00 - recall: \n",
      "Epoch 49/50\n",
      "205772/205772 [==============================] - 12s 57us/sample - loss: 0.0130 - binary_accuracy: 0.9982 - precision: 0.0000e+00 - recall: 0.0000e+00 - val_loss: 0.0101 - val_binary_accuracy: 0.9987 - val_precision: 0.0000e+00 - val_recall: 0.0000e+00\n",
      "Epoch 50/50\n",
      "205772/205772 [==============================] - 12s 57us/sample - loss: 0.0130 - binary_accuracy: 0.9982 - precision: 0.0000e+00 - recall: 0.0000e+00 - val_loss: 0.0101 - val_binary_accuracy: 0.9987 - val_precision: 0.0000e+00 - val_recall: 0.0000e+00\n"
     ]
    },
    {
     "data": {
      "text/plain": [
       "<tensorflow.python.keras.callbacks.History at 0x7fa5d2266b70>"
      ]
     },
     "execution_count": 7,
     "metadata": {},
     "output_type": "execute_result"
    }
   ],
   "source": [
    "\n",
    "logging.getLogger(\"tensorflow\").setLevel(logging.ERROR)\n",
    "\n",
    "nnmodel_v1.fit(\n",
    "    x_train, y_train,\n",
    "    epochs=50,\n",
    "    callbacks = [tensorboard],\n",
    "    validation_data = (x_cv, y_cv),\n",
    ")"
   ]
  },
  {
   "cell_type": "code",
   "execution_count": 25,
   "metadata": {},
   "outputs": [],
   "source": [
    "sys.stdout = open(f'./logs/{NAME}/config.txt', 'w')\n",
    "print(nnmodel_v1.summary())\n",
    "print(nnmodel_v1.to_json())"
   ]
  },
  {
   "cell_type": "code",
   "execution_count": 26,
   "metadata": {},
   "outputs": [
    {
     "data": {
      "text/plain": [
       "Reusing TensorBoard on port 6011 (pid 23362), started 0:01:19 ago. (Use '!kill 23362' to kill it.)"
      ]
     },
     "metadata": {},
     "output_type": "display_data"
    },
    {
     "data": {
      "text/html": [
       "\n",
       "      <iframe id=\"tensorboard-frame-807e7331012359a3\" width=\"100%\" height=\"800\" frameborder=\"0\">\n",
       "      </iframe>\n",
       "      <script>\n",
       "        (function() {\n",
       "          const frame = document.getElementById(\"tensorboard-frame-807e7331012359a3\");\n",
       "          const url = new URL(\"http://localhost\");\n",
       "          url.port = 6011;\n",
       "          frame.src = url;\n",
       "        })();\n",
       "      </script>\n",
       "  "
      ],
      "text/plain": [
       "<IPython.core.display.HTML object>"
      ]
     },
     "metadata": {},
     "output_type": "display_data"
    }
   ],
   "source": [
    "%load_ext tensorboard\n",
    "%tensorboard --logdir logs/{NAME}"
   ]
  },
  {
   "cell_type": "code",
   "execution_count": 27,
   "metadata": {},
   "outputs": [
    {
     "data": {
      "text/plain": [
       "'CV set accuracy is 0.0%'"
      ]
     },
     "metadata": {},
     "output_type": "display_data"
    }
   ],
   "source": [
    "cv_preds = nnmodel_v1.predict(x_cv)\n",
    "cv_acc = (cv_preds == y_cv).sum().astype(float) / len(cv_preds) * 100\n",
    "\n",
    "display(f'CV set accuracy is {cv_acc}%')\n"
   ]
  },
  {
   "cell_type": "markdown",
   "metadata": {},
   "source": [
    "### Results \n",
    "- High accuracy, but low precision and recall\n",
    "- Model is working to effectively minimize loss\n",
    "- Again, results show a need to deal with dataset imbalance."
   ]
  },
  {
   "cell_type": "markdown",
   "metadata": {},
   "source": [
    "## Step 4: Train baseline xgb\n"
   ]
  },
  {
   "cell_type": "code",
   "execution_count": 28,
   "metadata": {},
   "outputs": [
    {
     "name": "stderr",
     "output_type": "stream",
     "text": [
      "/Users/solinakim/opt/anaconda3/envs/mypython3.6/lib/python3.6/site-packages/xgboost/sklearn.py:888: UserWarning: The use of label encoder in XGBClassifier is deprecated and will be removed in a future release. To remove this warning, do the following: 1) Pass option use_label_encoder=False when constructing XGBClassifier object; and 2) Encode your labels (y) as integers starting with 0, i.e. 0, 1, 2, ..., [num_class - 1].\n",
      "  warnings.warn(label_encoder_deprecation_msg, UserWarning)\n"
     ]
    },
    {
     "data": {
      "text/plain": [
       "XGBClassifier(base_score=0.5, booster='gbtree', colsample_bylevel=1,\n",
       "              colsample_bynode=1, colsample_bytree=1, gamma=0, gpu_id=-1,\n",
       "              importance_type='gain', interaction_constraints='',\n",
       "              learning_rate=0.300000012, max_delta_step=0, max_depth=6,\n",
       "              min_child_weight=1, missing=nan, monotone_constraints='()',\n",
       "              n_estimators=100, n_jobs=8, num_parallel_tree=1, random_state=0,\n",
       "              reg_alpha=0, reg_lambda=1, scale_pos_weight=1, subsample=1,\n",
       "              tree_method='exact', validate_parameters=1, verbosity=None)"
      ]
     },
     "execution_count": 28,
     "metadata": {},
     "output_type": "execute_result"
    }
   ],
   "source": [
    "xgbmodel_v1 = XGBClassifier(n_estimators=100)\n",
    "xgbmodel_v1.fit(x_train, y_train)"
   ]
  },
  {
   "cell_type": "code",
   "execution_count": 29,
   "metadata": {},
   "outputs": [
    {
     "data": {
      "text/plain": [
       "'training set accuracy is 100.0%'"
      ]
     },
     "metadata": {},
     "output_type": "display_data"
    },
    {
     "data": {
      "text/plain": [
       "'CV set accuracy is 99.96970781813675%'"
      ]
     },
     "metadata": {},
     "output_type": "display_data"
    }
   ],
   "source": [
    "train_preds = xgbmodel_v1.predict(x_train)\n",
    "train_acc = (train_preds == y_train).sum().astype(float) / len(train_preds) * 100\n",
    "\n",
    "cv_preds = xgbmodel_v1.predict(x_cv)\n",
    "cv_acc = (cv_preds == y_cv).sum().astype(float) / len(cv_preds) * 100\n",
    "\n",
    "display(f'CV set accuracy is {cv_acc}%')\n",
    "\n"
   ]
  },
  {
   "cell_type": "markdown",
   "metadata": {},
   "source": [
    "### Results\n",
    "- Again, need to solve imbalanced dataset"
   ]
  },
  {
   "cell_type": "markdown",
   "metadata": {},
   "source": [
    "# Step 5: Compare Results"
   ]
  },
  {
   "cell_type": "code",
   "execution_count": 15,
   "metadata": {},
   "outputs": [],
   "source": [
    "# predictions\n",
    "lgmodel_v1_cv_preds = lgmodel_v1.predict(x_cv)\n",
    "nnmodel_v1_cv_preds = nnmodel_v1.predict(x_cv)\n",
    "xgbmodel_v1_cv_preds = xgbmodel_v1.predict(x_cv)\n",
    "\n",
    "# converting probabilities from sigmoid to binary classes\n",
    "binclass_threshold = 0.5\n",
    "lgmodel_v1_cv_preds = (lgmodel_v1_cv_preds >= binclass_threshold).astype(int)\n",
    "nnmodel_v1_cv_preds = (nnmodel_v1_cv_preds >= binclass_threshold).astype(int)\n",
    "\n",
    "# generating confusion matrices\n",
    "cm_lgmodel_v1 = confusion_matrix(y_cv, lgmodel_v1_cv_preds)\n",
    "cm_nnmodel_v1 = confusion_matrix(y_cv, nnmodel_v1_cv_preds)\n",
    "cm_xgbmodel_v1 = confusion_matrix(y_cv, xgbmodel_v1_cv_preds)"
   ]
  },
  {
   "cell_type": "code",
   "execution_count": 16,
   "metadata": {},
   "outputs": [
    {
     "data": {
      "text/plain": [
       "'========F1 SCORES========'"
      ]
     },
     "metadata": {},
     "output_type": "display_data"
    },
    {
     "data": {
      "text/plain": [
       "'logistic regression: 0.5599999999999999'"
      ]
     },
     "metadata": {},
     "output_type": "display_data"
    },
    {
     "data": {
      "text/plain": [
       "'neural networks: 0.0'"
      ]
     },
     "metadata": {},
     "output_type": "display_data"
    },
    {
     "data": {
      "text/plain": [
       "'xgboost: 0.8842105263157894'"
      ]
     },
     "metadata": {},
     "output_type": "display_data"
    },
    {
     "data": {
      "text/plain": [
       "'========RECEIVER OPERATING CHARACTERISTIC CURVE (ROC AUC)========'"
      ]
     },
     "metadata": {},
     "output_type": "display_data"
    },
    {
     "data": {
      "text/plain": [
       "'logistic regression: 0.7913357691070362'"
      ]
     },
     "metadata": {},
     "output_type": "display_data"
    },
    {
     "data": {
      "text/plain": [
       "'neural networks: 0.5'"
      ]
     },
     "metadata": {},
     "output_type": "display_data"
    },
    {
     "data": {
      "text/plain": [
       "'xgboost 0.9374310630084104'"
      ]
     },
     "metadata": {},
     "output_type": "display_data"
    },
    {
     "data": {
      "image/png": "[encoded data removed]",
      "text/plain": [
       "<Figure size 432x288 with 2 Axes>"
      ]
     },
     "metadata": {
      "needs_background": "light"
     },
     "output_type": "display_data"
    },
    {
     "data": {
      "image/png": "[encoded data removed]",
      "text/plain": [
       "<Figure size 432x288 with 2 Axes>"
      ]
     },
     "metadata": {
      "needs_background": "light"
     },
     "output_type": "display_data"
    },
    {
     "data": {
      "image/png": "[encoded data removed]",
      "text/plain": [
       "<Figure size 432x288 with 2 Axes>"
      ]
     },
     "metadata": {
      "needs_background": "light"
     },
     "output_type": "display_data"
    }
   ],
   "source": [
    "dp1 = ConfusionMatrixDisplay(confusion_matrix=cm_lgmodel_v1)\n",
    "dp1.plot()\n",
    "dp1.ax_.set_title('logistic regression baseline model cf matrix')\n",
    "\n",
    "dp2 = ConfusionMatrixDisplay(confusion_matrix=cm_nnmodel_v1)\n",
    "dp2.plot()\n",
    "dp2.ax_.set_title('neural network baseline model cf matrix')\n",
    "\n",
    "dp3 = ConfusionMatrixDisplay(confusion_matrix=cm_xgbmodel_v1)\n",
    "dp3.plot()\n",
    "dp3.ax_.set_title('xgboost baseline model cf matrix')\n",
    "\n",
    "# roc-auc scores\n",
    "from sklearn.metrics import roc_auc_score, f1_score\n",
    "\n",
    "display('========F1 SCORES========')\n",
    "display(f'logistic regression: {f1_score(y_cv, lgmodel_v1_cv_preds)}')\n",
    "display(f'neural networks: {f1_score(y_cv, nnmodel_v1_cv_preds)}')\n",
    "display(f'xgboost: {f1_score(y_cv, xgbmodel_v1_cv_preds)}')\n",
    "\n",
    "display('========RECEIVER OPERATING CHARACTERISTIC CURVE (ROC AUC)========')\n",
    "display(f'logistic regression: {roc_auc_score(y_cv, lgmodel_v1_cv_preds)}')\n",
    "display(f'neural networks: {roc_auc_score(y_cv, nnmodel_v1_cv_preds)}')\n",
    "display(f'xgboost {roc_auc_score(y_cv, xgbmodel_v1_cv_preds)}')"
   ]
  },
  {
   "cell_type": "code",
   "execution_count": 110,
   "metadata": {},
   "outputs": [],
   "source": [
    "lgmodel_v1.save('./models/lgmodel_v1')\n",
    "nnmodel_v1.save('./models/nnmodel_v1')\n",
    "xgbmodel_v1.save_model('./models/xgbmodel_v1.json')"
   ]
  },
  {
   "cell_type": "code",
   "execution_count": 10,
   "metadata": {},
   "outputs": [],
   "source": [
    "# continuing session by reloading same models as above\n",
    "\n",
    "lgmodel_v1 = tf.keras.models.load_model('./models/lgmodel_v1')\n",
    "nnmodel_v1 = tf.keras.models.load_model('./models/nnmodel_v1')\n",
    "xgbmodel_v1 = XGBClassifier()\n",
    "xgbmodel_v1.load_model('./models/xgbmodel_v1.json')"
   ]
  },
  {
   "cell_type": "markdown",
   "metadata": {},
   "source": [
    "# Conclusion\n",
    "- All three models display high accuracy, but because of the imbalance of positive examples in the dataset, the AUC score is a better metric.\n",
    "- Based on the AUC score, the xgboost model seems to be performing best (0.937), followed by the logistic regression model (0.739)\n",
    "- However, low F1 scores for logistic regression (0.517) indicate that even this AUC score is overly optimistic, and the only model performing relatively well is the xgboost model."
   ]
  },
  {
   "cell_type": "markdown",
   "metadata": {},
   "source": [
    "# Next steps:\n",
    "- Try to improve model performance by fixing imbalance in the dataset with undersampling & oversampling methods."
   ]
  }
 ],
 "metadata": {
  "kernelspec": {
   "display_name": "Python 3.6.13 ('mypython3.6')",
   "language": "python",
   "name": "python3"
  },
  "language_info": {
   "codemirror_mode": {
    "name": "ipython",
    "version": 3
   },
   "file_extension": ".py",
   "mimetype": "text/x-python",
   "name": "python",
   "nbconvert_exporter": "python",
   "pygments_lexer": "ipython3",
   "version": "3.6.13"
  },
  "orig_nbformat": 4,
  "vscode": {
   "interpreter": {
    "hash": "2fffd181aabd4b4292c103931238db38b0c7ab3996c6ca963d48c78c80d71804"
   }
  }
 },
 "nbformat": 4,
 "nbformat_minor": 2
}
