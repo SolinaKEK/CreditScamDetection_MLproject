{
 "cells": [
  {
   "cell_type": "markdown",
   "metadata": {},
   "source": [
    "# The Goal\n",
    "- Improve neural network performance with hyperparameter tuning targeted at reducing overfitting. (neural architecture, gradient descent batch size, regularization)\n",
    "- Create functions to make training/testing pipeline more efficient\n",
    "- Utilize Grid Search if educated guesses make no progress."
   ]
  },
  {
   "cell_type": "markdown",
   "metadata": {},
   "source": [
    "# Step 1: Reproduce SMOTE training set\n",
    "(conditions of last best result)"
   ]
  },
  {
   "cell_type": "code",
   "execution_count": 48,
   "metadata": {},
   "outputs": [],
   "source": [
    "import tensorflow as tf\n",
    "import sklearn\n",
    "import numpy as np\n",
    "from numpy import where\n",
    "import pandas as pd\n",
    "from tensorflow.keras.models import Sequential\n",
    "from tensorflow.keras.layers import Dense, Activation\n",
    "from tensorflow.keras.callbacks import TensorBoard\n",
    "from keras.wrappers.scikit_learn import KerasClassifier\n",
    "from sklearn.model_selection import train_test_split, PredefinedSplit, cross_val_predict, GridSearchCV\n",
    "from sklearn.metrics import classification_report, confusion_matrix, ConfusionMatrixDisplay, roc_auc_score, f1_score, auc, roc_curve, precision_recall_curve, average_precision_score\n",
    "import matplotlib.pyplot as plt\n",
    "import seaborn as sns\n",
    "import datetime\n",
    "import collections\n",
    "from collections import Counter\n",
    "import logging\n",
    "import os\n",
    "import sys\n",
    "import xgboost as xgb\n",
    "from xgboost import XGBClassifier\n",
    "from imblearn.over_sampling import RandomOverSampler, SMOTE\n",
    "from imblearn.under_sampling import RandomUnderSampler\n"
   ]
  },
  {
   "cell_type": "code",
   "execution_count": 86,
   "metadata": {},
   "outputs": [],
   "source": [
    "df = pd.read_csv('./creditcard.csv')\n",
    "X = df.drop('Class', axis=1).values\n",
    "Y = df.Class.values\n",
    "\n",
    "seed = 1234\n",
    "tf.random.set_seed(seed)\n",
    "np.random.seed(seed)\n",
    "\n",
    "x, x_test, y, y_test = train_test_split(X, Y, test_size=0.15, shuffle=True, random_state=seed)\n",
    "x_train, x_cv, y_train, y_cv = train_test_split(x, y, test_size=0.15, shuffle=True, random_state=seed)\n",
    "\n",
    "# applying SMOTE\n",
    "smote = SMOTE()\n",
    "x_train_smote, y_train_smote = smote.fit_resample(x_train, y_train)"
   ]
  },
  {
   "cell_type": "markdown",
   "metadata": {},
   "source": [
    "## Step 2: Hyperparameter tuning cycle on NN"
   ]
  },
  {
   "cell_type": "code",
   "execution_count": 44,
   "metadata": {},
   "outputs": [],
   "source": [
    "## NN\n",
    "\n",
    "def create_nn_model(hiddenlyrs=8, num_hiddenlyrs=1, l=0, act='relu', input_shape=0, learning_rate=0.01):\n",
    "    seed=1234\n",
    "    tf.random.set_seed(seed)\n",
    "    np.random.seed(seed)\n",
    "\n",
    "    model = tf.keras.Sequential()\n",
    "\n",
    "    if input_shape != 0:\n",
    "        model.add(tf.keras.Input(input_shape, )) # adding input layer\n",
    "\n",
    "    for i in range(0, num_hiddenlyrs):\n",
    "        model.add(Dense(hiddenlyrs, activation=act, kernel_regularizer=tf.keras.regularizers.l2(l=l)))\n",
    "\n",
    "    model.add(Dense(1, activation='sigmoid', kernel_regularizer=tf.keras.regularizers.l2(l=l))) # adding output layer\n",
    "\n",
    "    model.compile(\n",
    "        loss=tf.keras.losses.BinaryCrossentropy(),\n",
    "        optimizer=tf.keras.optimizers.Adam(learning_rate=learning_rate),\n",
    "        metrics=[tf.keras.metrics.AUC(), tf.keras.metrics.Precision(), tf.keras.metrics.Recall()]\n",
    "    )\n",
    "\n",
    "    return model\n"
   ]
  },
  {
   "cell_type": "code",
   "execution_count": 33,
   "metadata": {},
   "outputs": [],
   "source": [
    "# create model\n",
    "nn_model = KerasClassifier(build_fn=create_nn_model, verbose=0)\n",
    "\n",
    "# define the grid search parameters\n",
    "l = [0.1, 0.05, 0.01]\n",
    "input_shape = [x_train_smote.shape[1]]\n",
    "hiddenlyrs = [128] # 1 hidden layer, 128 nodes\n",
    "num_hiddenlyrs = [1]\n",
    "batch_size=[100]\n",
    "param_grid = dict(l=l, input_shape=input_shape, num_hiddenlyrs=num_hiddenlyrs, hiddenlyrs=hiddenlyrs, batch_size=batch_size)\n",
    "\n",
    "# generating predefined cv\n",
    "x_grid = np.append(x_train_smote, x_cv, axis=0)\n",
    "y_grid = np.append(y_train_smote, y_cv, axis=0)\n",
    "train_indices = np.full((x_train_smote.shape[0]), -1, dtype=int)\n",
    "cv_indices = np.full((x_cv.shape[0]), 0, dtype=int)\n",
    "test_fold = np.append(train_indices, cv_indices)\n",
    "ps = PredefinedSplit(test_fold)"
   ]
  },
  {
   "cell_type": "code",
   "execution_count": 34,
   "metadata": {},
   "outputs": [
    {
     "name": "stdout",
     "output_type": "stream",
     "text": [
      "Fitting 1 folds for each of 3 candidates, totalling 3 fits\n",
      "[CV] END batch_size=100, hiddenlyrs=128, input_shape=30, l=0.1, num_hiddenlyrs=1; total time=  16.1s\n",
      "[CV] END batch_size=100, hiddenlyrs=128, input_shape=30, l=0.05, num_hiddenlyrs=1; total time=  15.8s\n",
      "[CV] END batch_size=100, hiddenlyrs=128, input_shape=30, l=0.01, num_hiddenlyrs=1; total time=  14.3s\n"
     ]
    }
   ],
   "source": [
    "scoring = {\"AUC\":\"roc_auc\", \"Precision\":\"precision\", \"Recall\":\"recall\"}\n",
    "grid = GridSearchCV(\n",
    "    estimator=nn_model,\n",
    "    param_grid=param_grid,\n",
    "    cv=ps,\n",
    "    scoring=scoring,\n",
    "    refit=\"AUC\",\n",
    "    verbose=2,\n",
    ")\n",
    "\n",
    "nn_grid = grid.fit(x_grid, y_grid)\n",
    "nn_grid_results = nn_grid.cv_results_\n"
   ]
  },
  {
   "cell_type": "code",
   "execution_count": 38,
   "metadata": {},
   "outputs": [
    {
     "data": {
      "text/plain": [
       "dict_keys(['mean_fit_time', 'std_fit_time', 'mean_score_time', 'std_score_time', 'param_batch_size', 'param_hiddenlyrs', 'param_input_shape', 'param_l', 'param_num_hiddenlyrs', 'params', 'split0_test_AUC', 'mean_test_AUC', 'std_test_AUC', 'rank_test_AUC', 'split0_test_Precision', 'mean_test_Precision', 'std_test_Precision', 'rank_test_Precision', 'split0_test_Recall', 'mean_test_Recall', 'std_test_Recall', 'rank_test_Recall'])"
      ]
     },
     "metadata": {},
     "output_type": "display_data"
    },
    {
     "data": {
      "text/plain": [
       "[{'batch_size': 100,\n",
       "  'hiddenlyrs': 128,\n",
       "  'input_shape': 30,\n",
       "  'l': 0.1,\n",
       "  'num_hiddenlyrs': 1},\n",
       " {'batch_size': 100,\n",
       "  'hiddenlyrs': 128,\n",
       "  'input_shape': 30,\n",
       "  'l': 0.05,\n",
       "  'num_hiddenlyrs': 1},\n",
       " {'batch_size': 100,\n",
       "  'hiddenlyrs': 128,\n",
       "  'input_shape': 30,\n",
       "  'l': 0.01,\n",
       "  'num_hiddenlyrs': 1}]"
      ]
     },
     "metadata": {},
     "output_type": "display_data"
    }
   ],
   "source": [
    "display(nn_grid_results.keys())\n",
    "display(nn_grid_results['params'])\n"
   ]
  },
  {
   "cell_type": "code",
   "execution_count": 41,
   "metadata": {},
   "outputs": [],
   "source": [
    "df1= pd.DataFrame(index=l, columns=['AUC', 'Precision', \"Recall\", 'f1'])\n",
    "df1['AUC'] = nn_grid_results['mean_test_AUC']\n",
    "df1['Precision'] = nn_grid_results['mean_test_Precision']\n",
    "df1['Recall'] = nn_grid_results['mean_test_Recall']\n",
    "df1['f1'] = 2 * nn_grid_results['mean_test_Recall'] * nn_grid_results['mean_test_Precision'] / (nn_grid_results['mean_test_Precision'] + nn_grid_results['mean_test_Recall'])\n"
   ]
  },
  {
   "cell_type": "code",
   "execution_count": 43,
   "metadata": {},
   "outputs": [
    {
     "data": {
      "text/html": [
       "<div>\n",
       "<style scoped>\n",
       "    .dataframe tbody tr th:only-of-type {\n",
       "        vertical-align: middle;\n",
       "    }\n",
       "\n",
       "    .dataframe tbody tr th {\n",
       "        vertical-align: top;\n",
       "    }\n",
       "\n",
       "    .dataframe thead th {\n",
       "        text-align: right;\n",
       "    }\n",
       "</style>\n",
       "<table border=\"1\" class=\"dataframe\">\n",
       "  <thead>\n",
       "    <tr style=\"text-align: right;\">\n",
       "      <th></th>\n",
       "      <th>AUC</th>\n",
       "      <th>Precision</th>\n",
       "      <th>Recall</th>\n",
       "      <th>f1</th>\n",
       "    </tr>\n",
       "  </thead>\n",
       "  <tbody>\n",
       "    <tr>\n",
       "      <th>0.10</th>\n",
       "      <td>0.836495</td>\n",
       "      <td>0.001296</td>\n",
       "      <td>0.979167</td>\n",
       "      <td>0.002589</td>\n",
       "    </tr>\n",
       "    <tr>\n",
       "      <th>0.05</th>\n",
       "      <td>0.775678</td>\n",
       "      <td>0.001378</td>\n",
       "      <td>0.979167</td>\n",
       "      <td>0.002752</td>\n",
       "    </tr>\n",
       "    <tr>\n",
       "      <th>0.01</th>\n",
       "      <td>0.957479</td>\n",
       "      <td>0.002534</td>\n",
       "      <td>0.958333</td>\n",
       "      <td>0.005054</td>\n",
       "    </tr>\n",
       "  </tbody>\n",
       "</table>\n",
       "</div>"
      ],
      "text/plain": [
       "           AUC  Precision    Recall        f1\n",
       "0.10  0.836495   0.001296  0.979167  0.002589\n",
       "0.05  0.775678   0.001378  0.979167  0.002752\n",
       "0.01  0.957479   0.002534  0.958333  0.005054"
      ]
     },
     "metadata": {},
     "output_type": "display_data"
    }
   ],
   "source": [
    "display(df1)"
   ]
  },
  {
   "cell_type": "markdown",
   "metadata": {},
   "source": [
    "The new, larger neural architecture with mini batch gradient descent seems to be performing much better. Perfoming treshold tuning to get f1 score for optimal threshold, using params {'batch_size': 100,\n",
    "  'hiddenlyrs': 128,\n",
    "  'input_shape': 30,\n",
    "  'l': 0.01,\n",
    "  'num_hiddenlyrs': 1}"
   ]
  },
  {
   "cell_type": "code",
   "execution_count": 45,
   "metadata": {},
   "outputs": [
    {
     "name": "stdout",
     "output_type": "stream",
     "text": [
      "Train on 410818 samples, validate on 36313 samples\n",
      "Epoch 1/10\n",
      "410818/410818 [==============================] - 28s 69us/sample - loss: 75.6040 - auc_10: 0.7262 - precision_10: 0.7093 - recall_10: 0.7299 - val_loss: 1.5329 - val_auc_10: 0.9532 - val_precision_10: 0.0025 - val_recall_10: 0.9583\n",
      "Epoch 2/10\n",
      "410818/410818 [==============================] - 20s 48us/sample - loss: 0.7870 - auc_10: 0.8017 - precision_10: 0.7548 - recall_10: 0.6670 - val_loss: 0.6911 - val_auc_10: 0.4964 - val_precision_10: 0.0000e+00 - val_recall_10: 0.0000e+00\n",
      "Epoch 3/10\n",
      "410818/410818 [==============================] - 14s 35us/sample - loss: 0.6939 - auc_10: 0.5034 - precision_10: 0.5016 - recall_10: 0.5584 - val_loss: 0.6840 - val_auc_10: 0.5010 - val_precision_10: 0.0000e+00 - val_recall_10: 0.0000e+00\n",
      "Epoch 4/10\n",
      "410818/410818 [==============================] - 14s 35us/sample - loss: 0.6983 - auc_10: 0.5014 - precision_10: 0.5007 - recall_10: 0.5225 - val_loss: 0.7105 - val_auc_10: 0.5014 - val_precision_10: 0.0013 - val_recall_10: 1.0000\n",
      "Epoch 5/10\n",
      "410818/410818 [==============================] - 15s 36us/sample - loss: 0.7148 - auc_10: 0.5021 - precision_10: 0.5018 - recall_10: 0.5190 - val_loss: 0.7343 - val_auc_10: 0.5011 - val_precision_10: 0.0013 - val_recall_10: 1.0000\n",
      "Epoch 6/10\n",
      "410818/410818 [==============================] - 14s 35us/sample - loss: 0.7194 - auc_10: 0.5009 - precision_10: 0.5004 - recall_10: 0.5477 - val_loss: 0.7561 - val_auc_10: 0.5000 - val_precision_10: 0.0013 - val_recall_10: 1.0000\n",
      "Epoch 7/10\n",
      "410818/410818 [==============================] - 15s 36us/sample - loss: 0.7600 - auc_10: 0.4990 - precision_10: 0.4992 - recall_10: 0.5203 - val_loss: 0.7271 - val_auc_10: 0.5004 - val_precision_10: 0.0013 - val_recall_10: 1.0000\n",
      "Epoch 8/10\n",
      "410818/410818 [==============================] - 14s 35us/sample - loss: 0.7250 - auc_10: 0.4982 - precision_10: 0.4991 - recall_10: 0.5421 - val_loss: 0.7084 - val_auc_10: 0.5015 - val_precision_10: 0.0000e+00 - val_recall_10: 0.0000e+00\n",
      "Epoch 9/10\n",
      "410818/410818 [==============================] - 14s 34us/sample - loss: 0.7142 - auc_10: 0.4997 - precision_10: 0.5000 - recall_10: 0.5086 - val_loss: 0.6961 - val_auc_10: 0.5000 - val_precision_10: 0.0000e+00 - val_recall_10: 0.0000e+00\n",
      "Epoch 10/10\n",
      "410818/410818 [==============================] - 14s 35us/sample - loss: 0.7126 - auc_10: 0.5009 - precision_10: 0.5008 - recall_10: 0.5025 - val_loss: 0.7312 - val_auc_10: 0.5009 - val_precision_10: 0.0013 - val_recall_10: 1.0000\n"
     ]
    },
    {
     "data": {
      "text/plain": [
       "<tensorflow.python.keras.callbacks.History at 0x7fc2e509ada0>"
      ]
     },
     "execution_count": 45,
     "metadata": {},
     "output_type": "execute_result"
    }
   ],
   "source": [
    "\n",
    "NOW = datetime.datetime.now().strftime(\"%Y%m%d%H%M%S\")\n",
    "NAME = f\"creditcard_fraud_lgmodel_{NOW}\"\n",
    "tensorboard = TensorBoard(log_dir=f'./logs/{NAME}', histogram_freq=1)\n",
    "\n",
    "m = create_nn_model(hiddenlyrs=128, num_hiddenlyrs=1, l=0.01, act='relu', input_shape=x_train_smote.shape[1], learning_rate=0.01)\n",
    "m.fit(\n",
    "    x_train_smote, y_train_smote,\n",
    "    epochs=10,\n",
    "    callbacks = [tensorboard],\n",
    "    validation_data = (x_cv, y_cv),\n",
    "    batch_size=100\n",
    ")"
   ]
  },
  {
   "cell_type": "code",
   "execution_count": 47,
   "metadata": {},
   "outputs": [
    {
     "name": "stdout",
     "output_type": "stream",
     "text": [
      "The tensorboard extension is already loaded. To reload it, use:\n",
      "  %reload_ext tensorboard\n"
     ]
    },
    {
     "data": {
      "text/plain": [
       "Reusing TensorBoard on port 6007 (pid 7400), started 0:00:02 ago. (Use '!kill 7400' to kill it.)"
      ]
     },
     "metadata": {},
     "output_type": "display_data"
    },
    {
     "data": {
      "text/html": [
       "\n",
       "      <iframe id=\"tensorboard-frame-d43185ee0014dc19\" width=\"100%\" height=\"800\" frameborder=\"0\">\n",
       "      </iframe>\n",
       "      <script>\n",
       "        (function() {\n",
       "          const frame = document.getElementById(\"tensorboard-frame-d43185ee0014dc19\");\n",
       "          const url = new URL(\"http://localhost\");\n",
       "          url.port = 6007;\n",
       "          frame.src = url;\n",
       "        })();\n",
       "      </script>\n",
       "  "
      ],
      "text/plain": [
       "<IPython.core.display.HTML object>"
      ]
     },
     "metadata": {},
     "output_type": "display_data"
    }
   ],
   "source": [
    "%load_ext tensorboard\n",
    "%tensorboard --logdir logs/{NAME}"
   ]
  },
  {
   "cell_type": "code",
   "execution_count": 57,
   "metadata": {},
   "outputs": [
    {
     "data": {
      "text/plain": [
       "'optimal threshold: 0.513211190700531'"
      ]
     },
     "metadata": {},
     "output_type": "display_data"
    },
    {
     "name": "stdout",
     "output_type": "stream",
     "text": [
      "              precision    recall  f1-score   support\n",
      "\n",
      "           0       1.00      0.00      0.00     36265\n",
      "           1       0.00      1.00      0.00        48\n",
      "\n",
      "    accuracy                           0.00     36313\n",
      "   macro avg       0.50      0.50      0.00     36313\n",
      "weighted avg       1.00      0.00      0.00     36313\n",
      "\n"
     ]
    },
    {
     "data": {
      "text/plain": [
       "'macro avg f1 score 0.84, improvement from 0.005054 (results without hyperparameter tuning)'"
      ]
     },
     "metadata": {},
     "output_type": "display_data"
    },
    {
     "data": {
      "text/plain": [
       "'roc auc score: 0.5009237556873019'"
      ]
     },
     "metadata": {},
     "output_type": "display_data"
    },
    {
     "data": {
      "image/png": "[encoded data removed]",
      "text/plain": [
       "<Figure size 432x288 with 2 Axes>"
      ]
     },
     "metadata": {
      "needs_background": "light"
     },
     "output_type": "display_data"
    }
   ],
   "source": [
    "preds = m.predict_proba(x_cv)\n",
    "fpr, tpr, thresholds = roc_curve(y_cv, preds)\n",
    "opt_index = np.argmax(tpr-fpr)\n",
    "opt_threshold = thresholds[opt_index]\n",
    "display(f'optimal threshold: {opt_threshold}')\n",
    "\n",
    "pred_class = list((preds >= opt_threshold).astype(int))\n",
    "pred_class = list(map(lambda x: x[0], pred_class))\n",
    "\n",
    "cm = confusion_matrix(y_cv, pred_class)\n",
    "dp1 = ConfusionMatrixDisplay(confusion_matrix=cm)\n",
    "dp1.plot()\n",
    "print(classification_report(y_cv, pred_class))\n",
    "display('macro avg f1 score 0.00, no improvement from 0.005054 (results without hyperparameter tuning)')\n",
    "display(f'roc auc score: {roc_auc_score(y_cv, pred_class)}')\n"
   ]
  },
  {
   "cell_type": "markdown",
   "metadata": {},
   "source": [
    "Even with optimal threshold, NN performance isn't great, seems to be overfitting to the positive examples in the SMOTE oversampled training set. Reattempting training with same neural architecture, but with a training set with stratified splitting instead of SMOTE oversampling."
   ]
  },
  {
   "cell_type": "code",
   "execution_count": 103,
   "metadata": {},
   "outputs": [],
   "source": [
    "# generating stratified split training set\n",
    "seed=1234\n",
    "tf.random.set_seed(seed)\n",
    "np.random.seed(seed)\n",
    "X = df.drop('Class', axis=1).values\n",
    "Y = df.Class.values\n",
    "x, x_test, y, y_test = train_test_split(X, Y, test_size=0.15, shuffle=True, random_state=seed, stratify=Y)\n",
    "x_train_strat, x_cv_strat, y_train_strat, y_cv_strat = train_test_split(x, y, test_size=0.15, shuffle=True, random_state=seed, stratify=y)"
   ]
  },
  {
   "cell_type": "code",
   "execution_count": 83,
   "metadata": {},
   "outputs": [
    {
     "name": "stdout",
     "output_type": "stream",
     "text": [
      "Model: \"sequential_22\"\n",
      "_________________________________________________________________\n",
      "Layer (type)                 Output Shape              Param #   \n",
      "=================================================================\n",
      "dense_28 (Dense)             (None, 128)               3968      \n",
      "_________________________________________________________________\n",
      "dense_29 (Dense)             (None, 1)                 129       \n",
      "=================================================================\n",
      "Total params: 4,097\n",
      "Trainable params: 4,097\n",
      "Non-trainable params: 0\n",
      "_________________________________________________________________\n"
     ]
    }
   ],
   "source": [
    "model = Sequential() \n",
    "model.add(Dense(128, activation='relu', input_dim=30))\n",
    "model.add(Dense(1, activation='sigmoid')) \n",
    "model.compile(loss='binary_crossentropy', optimizer='adam', metrics=['accuracy']) \n",
    "model.summary()"
   ]
  },
  {
   "cell_type": "code",
   "execution_count": 104,
   "metadata": {},
   "outputs": [
    {
     "name": "stdout",
     "output_type": "stream",
     "text": [
      "Train on 205772 samples, validate on 36313 samples\n",
      "Epoch 1/10\n",
      "205772/205772 [==============================] - 6s 28us/sample - loss: 6.7199 - accuracy: 0.9962 - val_loss: 24.2027 - val_accuracy: 0.9986\n",
      "Epoch 2/10\n",
      "205772/205772 [==============================] - 5s 26us/sample - loss: 9.9271 - accuracy: 0.9967 - val_loss: 15.0771 - val_accuracy: 0.9987\n",
      "Epoch 3/10\n",
      "205772/205772 [==============================] - 5s 26us/sample - loss: 5.8700 - accuracy: 0.9967 - val_loss: 17.8612 - val_accuracy: 0.9987\n",
      "Epoch 4/10\n",
      "205772/205772 [==============================] - 5s 26us/sample - loss: 6.9532 - accuracy: 0.9967 - val_loss: 16.3142 - val_accuracy: 0.9987\n",
      "Epoch 5/10\n",
      "205772/205772 [==============================] - 5s 26us/sample - loss: 7.9683 - accuracy: 0.9970 - val_loss: 0.5013 - val_accuracy: 0.9988\n",
      "Epoch 6/10\n",
      "205772/205772 [==============================] - 5s 25us/sample - loss: 5.2855 - accuracy: 0.9966 - val_loss: 6.5439 - val_accuracy: 0.9988\n",
      "Epoch 7/10\n",
      "205772/205772 [==============================] - 5s 26us/sample - loss: 4.9603 - accuracy: 0.9973 - val_loss: 0.4557 - val_accuracy: 0.9989\n",
      "Epoch 8/10\n",
      "205772/205772 [==============================] - 5s 26us/sample - loss: 7.5226 - accuracy: 0.9968 - val_loss: 3.1770 - val_accuracy: 0.9988\n",
      "Epoch 9/10\n",
      "205772/205772 [==============================] - 5s 26us/sample - loss: 5.3720 - accuracy: 0.9971 - val_loss: 1.0601 - val_accuracy: 0.9989\n",
      "Epoch 10/10\n",
      "205772/205772 [==============================] - 5s 25us/sample - loss: 6.1226 - accuracy: 0.9970 - val_loss: 0.4169 - val_accuracy: 0.9986\n"
     ]
    }
   ],
   "source": [
    "hist = model.fit(x_train_strat, y_train_strat, validation_data=(x_cv, y_cv), epochs=10, batch_size=100)"
   ]
  },
  {
   "cell_type": "code",
   "execution_count": 110,
   "metadata": {},
   "outputs": [
    {
     "name": "stdout",
     "output_type": "stream",
     "text": [
      "              precision    recall  f1-score   support\n",
      "\n",
      "           0       1.00      1.00      1.00     36265\n",
      "           1       0.47      0.77      0.59        48\n",
      "\n",
      "    accuracy                           1.00     36313\n",
      "   macro avg       0.74      0.88      0.79     36313\n",
      "weighted avg       1.00      1.00      1.00     36313\n",
      "\n"
     ]
    },
    {
     "data": {
      "text/plain": [
       "'macro avg f1 score 0.79, large improvement from 0.005054 (results on SMOTE oversampling dataset without hyperparameter tuning)'"
      ]
     },
     "metadata": {},
     "output_type": "display_data"
    },
    {
     "data": {
      "text/plain": [
       "'roc auc score: 0.8848513833356313'"
      ]
     },
     "metadata": {},
     "output_type": "display_data"
    },
    {
     "data": {
      "image/png": "[encoded data removed]",
      "text/plain": [
       "<Figure size 432x288 with 2 Axes>"
      ]
     },
     "metadata": {},
     "output_type": "display_data"
    }
   ],
   "source": [
    "y_predicted = model.predict(x_cv) > 0.5 # testing on original cv set for valid comparison to previous models\n",
    "cm = confusion_matrix(y_cv, y_predicted)\n",
    "dp1 = ConfusionMatrixDisplay(confusion_matrix=cm)\n",
    "dp1.plot()\n",
    "print(classification_report(y_cv, y_predicted))\n",
    "display('macro avg f1 score 0.79, large improvement from 0.005054 (results on SMOTE oversampling dataset without hyperparameter tuning)')\n",
    "display(f'roc auc score: {roc_auc_score(y_cv, y_predicted)}')\n"
   ]
  },
  {
   "cell_type": "code",
   "execution_count": 111,
   "metadata": {},
   "outputs": [
    {
     "data": {
      "text/plain": [
       "[]"
      ]
     },
     "execution_count": 111,
     "metadata": {},
     "output_type": "execute_result"
    },
    {
     "data": {
      "image/png": "[encoded data removed]",
      "text/plain": [
       "<Figure size 432x288 with 1 Axes>"
      ]
     },
     "metadata": {},
     "output_type": "display_data"
    }
   ],
   "source": [
    "sns.set()\n",
    " \n",
    "acc = hist.history['loss']\n",
    "val = hist.history['val_loss']\n",
    "epochs = range(1, len(acc) + 1)\n",
    " \n",
    "plt.plot(epochs, acc, '-', label='Training loss')\n",
    "plt.plot(epochs, val, ':', label='Validation loss')\n",
    "plt.title('Training and Validation Loss')\n",
    "plt.xlabel('Epoch')\n",
    "plt.ylabel('Loss')\n",
    "plt.legend(loc='lower right')\n",
    "plt.plot()"
   ]
  },
  {
   "cell_type": "markdown",
   "metadata": {},
   "source": [
    "With new stratified training set, tune neural architecture"
   ]
  },
  {
   "cell_type": "code",
   "execution_count": 153,
   "metadata": {},
   "outputs": [
    {
     "name": "stdout",
     "output_type": "stream",
     "text": [
      "Model: \"sequential_50\"\n",
      "_________________________________________________________________\n",
      "Layer (type)                 Output Shape              Param #   \n",
      "=================================================================\n",
      "dense_185 (Dense)            (None, 128)               3968      \n",
      "_________________________________________________________________\n",
      "dense_186 (Dense)            (None, 128)               16512     \n",
      "_________________________________________________________________\n",
      "dense_187 (Dense)            (None, 128)               16512     \n",
      "_________________________________________________________________\n",
      "dense_188 (Dense)            (None, 1)                 129       \n",
      "=================================================================\n",
      "Total params: 37,121\n",
      "Trainable params: 37,121\n",
      "Non-trainable params: 0\n",
      "_________________________________________________________________\n"
     ]
    }
   ],
   "source": [
    "model1 = Sequential() \n",
    "model1.add(Dense(128, activation='relu', input_dim=30))\n",
    "model1.add(Dense(128, activation='relu'))\n",
    "model1.add(Dense(128, activation='relu'))\n",
    "model1.add(Dense(1, activation='sigmoid')) \n",
    "model1.compile(loss='binary_crossentropy', optimizer='adam',\n",
    "    metrics=[tf.keras.metrics.AUC(), tf.keras.metrics.Precision(), tf.keras.metrics.Recall()]\n",
    ") \n",
    "model1.summary()"
   ]
  },
  {
   "cell_type": "code",
   "execution_count": 154,
   "metadata": {},
   "outputs": [
    {
     "name": "stdout",
     "output_type": "stream",
     "text": [
      "Train on 205772 samples, validate on 36313 samples\n",
      "Epoch 1/10\n",
      "205772/205772 [==============================] - 15s 74us/sample - loss: 36.8202 - auc_38: 0.5050 - precision_38: 0.0047 - recall_38: 0.0169 - val_loss: 18.3821 - val_auc_38: 0.4999 - val_precision_38: 0.0000e+00 - val_recall_38: 0.0000e+00\n",
      "Epoch 2/10\n",
      "205772/205772 [==============================] - 14s 66us/sample - loss: 89.4839 - auc_38: 0.5079 - precision_38: 0.0090 - recall_38: 0.0197 - val_loss: 94.5747 - val_auc_38: 0.5000 - val_precision_38: 0.0000e+00 - val_recall_38: 0.0000e+00\n",
      "Epoch 3/10\n",
      "205772/205772 [==============================] - 14s 67us/sample - loss: 58.3768 - auc_38: 0.5082 - precision_38: 0.0105 - recall_38: 0.0197 - val_loss: 14.8196 - val_auc_38: 0.4999 - val_precision_38: 0.0000e+00 - val_recall_38: 0.0000e+00\n",
      "Epoch 4/10\n",
      "205772/205772 [==============================] - 14s 66us/sample - loss: 27.4448 - auc_38: 0.5001 - precision_38: 0.0020 - recall_38: 0.0056 - val_loss: 3.5175 - val_auc_38: 0.5102 - val_precision_38: 0.5000 - val_recall_38: 0.0208\n",
      "Epoch 5/10\n",
      "205772/205772 [==============================] - 14s 66us/sample - loss: 4.5573 - auc_38: 0.5466 - precision_38: 0.0351 - recall_38: 0.0620 - val_loss: 0.1469 - val_auc_38: 0.5815 - val_precision_38: 1.0000 - val_recall_38: 0.0208\n",
      "Epoch 6/10\n",
      "205772/205772 [==============================] - 14s 66us/sample - loss: 0.0825 - auc_38: 0.6381 - precision_38: 0.1000 - recall_38: 0.0056 - val_loss: 0.0175 - val_auc_38: 0.6671 - val_precision_38: 0.0000e+00 - val_recall_38: 0.0000e+00\n",
      "Epoch 7/10\n",
      "205772/205772 [==============================] - 14s 67us/sample - loss: 0.0177 - auc_38: 0.8176 - precision_38: 0.2857 - recall_38: 0.0056 - val_loss: 0.0076 - val_auc_38: 0.8802 - val_precision_38: 0.0000e+00 - val_recall_38: 0.0000e+00\n",
      "Epoch 8/10\n",
      "205772/205772 [==============================] - 14s 67us/sample - loss: 0.0139 - auc_38: 0.6290 - precision_38: 0.3333 - recall_38: 0.0028 - val_loss: 0.0101 - val_auc_38: 0.5098 - val_precision_38: 1.0000 - val_recall_38: 0.0208\n",
      "Epoch 9/10\n",
      "205772/205772 [==============================] - 14s 66us/sample - loss: 0.0154 - auc_38: 0.5080 - precision_38: 0.4000 - recall_38: 0.0113 - val_loss: 0.0101 - val_auc_38: 0.5207 - val_precision_38: 1.0000 - val_recall_38: 0.0417\n",
      "Epoch 10/10\n",
      "205772/205772 [==============================] - 14s 66us/sample - loss: 0.0146 - auc_38: 0.5239 - precision_38: 0.6842 - recall_38: 0.0366 - val_loss: 0.0109 - val_auc_38: 0.5207 - val_precision_38: 1.0000 - val_recall_38: 0.0417\n"
     ]
    }
   ],
   "source": [
    "hist1 = model1.fit(x_train_strat, y_train_strat, validation_data=(x_cv, y_cv), epochs=10, batch_size=100)"
   ]
  },
  {
   "cell_type": "code",
   "execution_count": 156,
   "metadata": {},
   "outputs": [
    {
     "name": "stdout",
     "output_type": "stream",
     "text": [
      "              precision    recall  f1-score   support\n",
      "\n",
      "           0       1.00      1.00      1.00     36265\n",
      "           1       1.00      0.04      0.08        48\n",
      "\n",
      "    accuracy                           1.00     36313\n",
      "   macro avg       1.00      0.52      0.54     36313\n",
      "weighted avg       1.00      1.00      1.00     36313\n",
      "\n"
     ]
    },
    {
     "data": {
      "text/plain": [
       "'roc auc score: 0.5208333333333334'"
      ]
     },
     "metadata": {},
     "output_type": "display_data"
    },
    {
     "data": {
      "image/png": "[encoded data removed]",
      "text/plain": [
       "<Figure size 432x288 with 2 Axes>"
      ]
     },
     "metadata": {},
     "output_type": "display_data"
    }
   ],
   "source": [
    "y_predicted = model1.predict(x_cv) > 0.5 # testing on original cv set for valid comparison to previous models\n",
    "cm = confusion_matrix(y_cv, y_predicted)\n",
    "dp1 = ConfusionMatrixDisplay(confusion_matrix=cm)\n",
    "dp1.plot()\n",
    "print(classification_report(y_cv, y_predicted))\n",
    "display(f'roc auc score: {roc_auc_score(y_cv, y_predicted)}')\n"
   ]
  },
  {
   "cell_type": "code",
   "execution_count": 141,
   "metadata": {},
   "outputs": [
    {
     "data": {
      "text/plain": [
       "[]"
      ]
     },
     "execution_count": 141,
     "metadata": {},
     "output_type": "execute_result"
    },
    {
     "data": {
      "image/png": "[encoded data removed]",
      "text/plain": [
       "<Figure size 432x288 with 1 Axes>"
      ]
     },
     "metadata": {},
     "output_type": "display_data"
    }
   ],
   "source": [
    "sns.set()\n",
    " \n",
    "acc = hist.history['loss']\n",
    "val = hist.history['val_loss']\n",
    "epochs = range(1, len(acc) + 1)\n",
    " \n",
    "plt.plot(epochs, acc, '-', label='Training loss')\n",
    "plt.plot(epochs, val, ':', label='Validation loss')\n",
    "plt.title('Training and Validation Loss')\n",
    "plt.xlabel('Epoch')\n",
    "plt.ylabel('Loss')\n",
    "plt.legend(loc='lower right')\n",
    "plt.plot()"
   ]
  },
  {
   "cell_type": "markdown",
   "metadata": {},
   "source": [
    "- macro avg f1 score 0.54, wrose than model1 (1 hidden layer with 128 nodes), but improvement from 0.005054 (results on SMOTE oversampling dataset without hyperparameter tuning)\n",
    "- Testing same neural network, but with regularization"
   ]
  },
  {
   "cell_type": "code",
   "execution_count": 158,
   "metadata": {},
   "outputs": [
    {
     "name": "stdout",
     "output_type": "stream",
     "text": [
      "Model: \"sequential_51\"\n",
      "_________________________________________________________________\n",
      "Layer (type)                 Output Shape              Param #   \n",
      "=================================================================\n",
      "dense_189 (Dense)            (None, 128)               3968      \n",
      "_________________________________________________________________\n",
      "dense_190 (Dense)            (None, 128)               16512     \n",
      "_________________________________________________________________\n",
      "dense_191 (Dense)            (None, 128)               16512     \n",
      "_________________________________________________________________\n",
      "dense_192 (Dense)            (None, 1)                 129       \n",
      "=================================================================\n",
      "Total params: 37,121\n",
      "Trainable params: 37,121\n",
      "Non-trainable params: 0\n",
      "_________________________________________________________________\n",
      "Train on 205772 samples, validate on 36313 samples\n",
      "Epoch 1/10\n",
      "205772/205772 [==============================] - 18s 86us/sample - loss: 259.1245 - auc_39: 0.4993 - precision_39: 0.0014 - recall_39: 0.0056 - val_loss: 7.5207 - val_auc_39: 0.6142 - val_precision_39: 0.3143 - val_recall_39: 0.2292\n",
      "Epoch 2/10\n",
      "205772/205772 [==============================] - 14s 70us/sample - loss: 250.2016 - auc_39: 0.5099 - precision_39: 0.0145 - recall_39: 0.0225 - val_loss: 301.4305 - val_auc_39: 0.5000 - val_precision_39: 0.0000e+00 - val_recall_39: 0.0000e+00\n",
      "Epoch 3/10\n",
      "205772/205772 [==============================] - 14s 69us/sample - loss: 159.1330 - auc_39: 0.5073 - precision_39: 0.0130 - recall_39: 0.0169 - val_loss: 119.7825 - val_auc_39: 0.5000 - val_precision_39: 0.0000e+00 - val_recall_39: 0.0000e+00\n",
      "Epoch 4/10\n",
      "205772/205772 [==============================] - 16s 76us/sample - loss: 125.9005 - auc_39: 0.5015 - precision_39: 0.0040 - recall_39: 0.0056 - val_loss: 35.4072 - val_auc_39: 0.5000 - val_precision_39: 0.0000e+00 - val_recall_39: 0.0000e+00\n",
      "Epoch 5/10\n",
      "205772/205772 [==============================] - 16s 76us/sample - loss: 146.9957 - auc_39: 0.5027 - precision_39: 0.0048 - recall_39: 0.0085 - val_loss: 57.0656 - val_auc_39: 0.5000 - val_precision_39: 0.0000e+00 - val_recall_39: 0.0000e+00\n",
      "Epoch 6/10\n",
      "205772/205772 [==============================] - 16s 77us/sample - loss: 113.9520 - auc_39: 0.5068 - precision_39: 0.0098 - recall_39: 0.0169 - val_loss: 198.9037 - val_auc_39: 0.5000 - val_precision_39: 0.0000e+00 - val_recall_39: 0.0000e+00\n",
      "Epoch 7/10\n",
      "205772/205772 [==============================] - 16s 80us/sample - loss: 90.4713 - auc_39: 0.5298 - precision_39: 0.0471 - recall_39: 0.0592 - val_loss: 80.1511 - val_auc_39: 0.5000 - val_precision_39: 0.0000e+00 - val_recall_39: 0.0000e+00\n",
      "Epoch 8/10\n",
      "205772/205772 [==============================] - 15s 73us/sample - loss: 52.3873 - auc_39: 0.5101 - precision_39: 0.0208 - recall_39: 0.0225 - val_loss: 3.6538 - val_auc_39: 0.5206 - val_precision_39: 0.1667 - val_recall_39: 0.0417\n",
      "Epoch 9/10\n",
      "205772/205772 [==============================] - 15s 72us/sample - loss: 34.7843 - auc_39: 0.5084 - precision_39: 0.0134 - recall_39: 0.0197 - val_loss: 22.9535 - val_auc_39: 0.5000 - val_precision_39: 0.0000e+00 - val_recall_39: 0.0000e+00\n",
      "Epoch 10/10\n",
      "205772/205772 [==============================] - 15s 72us/sample - loss: 41.5505 - auc_39: 0.5021 - precision_39: 0.0037 - recall_39: 0.0085 - val_loss: 13.1474 - val_auc_39: 0.4999 - val_precision_39: 0.0000e+00 - val_recall_39: 0.0000e+00\n"
     ]
    }
   ],
   "source": [
    "l = 0.01\n",
    "model2 = Sequential() \n",
    "model2.add(Dense(128, activation='relu', input_dim=30, kernel_regularizer=tf.keras.regularizers.l2(l=l)))\n",
    "model2.add(Dense(128, activation='relu', kernel_regularizer=tf.keras.regularizers.l2(l=l)))\n",
    "model2.add(Dense(128, activation='relu', kernel_regularizer=tf.keras.regularizers.l2(l=l)))\n",
    "model2.add(Dense(1, activation='sigmoid', kernel_regularizer=tf.keras.regularizers.l2(l=l))) \n",
    "model2.compile(loss='binary_crossentropy', optimizer='adam',\n",
    "    metrics=[tf.keras.metrics.AUC(), tf.keras.metrics.Precision(), tf.keras.metrics.Recall()]\n",
    ") \n",
    "model2.summary()\n",
    "\n",
    "hist2 = model2.fit(x_train_strat, y_train_strat, validation_data=(x_cv, y_cv), epochs=10, batch_size=100)"
   ]
  },
  {
   "cell_type": "code",
   "execution_count": 161,
   "metadata": {},
   "outputs": [
    {
     "name": "stdout",
     "output_type": "stream",
     "text": [
      "              precision    recall  f1-score   support\n",
      "\n",
      "           0       1.00      1.00      1.00     36265\n",
      "           1       0.00      0.00      0.00        48\n",
      "\n",
      "    accuracy                           1.00     36313\n",
      "   macro avg       0.50      0.50      0.50     36313\n",
      "weighted avg       1.00      1.00      1.00     36313\n",
      "\n"
     ]
    },
    {
     "data": {
      "text/plain": [
       "'roc auc score: 0.4999724252033641'"
      ]
     },
     "metadata": {},
     "output_type": "display_data"
    },
    {
     "data": {
      "image/png": "[encoded data removed]",
      "text/plain": [
       "<Figure size 432x288 with 2 Axes>"
      ]
     },
     "metadata": {},
     "output_type": "display_data"
    }
   ],
   "source": [
    "y_predicted = model2.predict(x_cv) > 0.5 # testing on original cv set for valid comparison to previous models\n",
    "cm = confusion_matrix(y_cv, y_predicted)\n",
    "dp1 = ConfusionMatrixDisplay(confusion_matrix=cm)\n",
    "dp1.plot()\n",
    "print(classification_report(y_cv, y_predicted))\n",
    "display(f'roc auc score: {roc_auc_score(y_cv, y_predicted)}')"
   ]
  },
  {
   "cell_type": "markdown",
   "metadata": {},
   "source": [
    "repeating with smaller lambda=0.001 and larger epochs=25, and simpler neural architecture of [128, 64, 32] 3 hidden layers ."
   ]
  },
  {
   "cell_type": "code",
   "execution_count": 162,
   "metadata": {},
   "outputs": [
    {
     "name": "stdout",
     "output_type": "stream",
     "text": [
      "Model: \"sequential_52\"\n",
      "_________________________________________________________________\n",
      "Layer (type)                 Output Shape              Param #   \n",
      "=================================================================\n",
      "dense_193 (Dense)            (None, 128)               3968      \n",
      "_________________________________________________________________\n",
      "dense_194 (Dense)            (None, 64)                8256      \n",
      "_________________________________________________________________\n",
      "dense_195 (Dense)            (None, 32)                2080      \n",
      "_________________________________________________________________\n",
      "dense_196 (Dense)            (None, 1)                 33        \n",
      "=================================================================\n",
      "Total params: 14,337\n",
      "Trainable params: 14,337\n",
      "Non-trainable params: 0\n",
      "_________________________________________________________________\n",
      "Train on 205772 samples, validate on 36313 samples\n",
      "Epoch 1/25\n",
      "205772/205772 [==============================] - 15s 75us/sample - loss: 85.5368 - auc_40: 0.5011 - precision_40: 0.0024 - recall_40: 0.0085 - val_loss: 103.3591 - val_auc_40: 0.5000 - val_precision_40: 0.0000e+00 - val_recall_40: 0.0000e+00\n",
      "Epoch 2/25\n",
      "197300/205772 [===========================>..] - ETA: 0s - loss: 76.7553 - auc_40: 0.5166 - precision_40: 0.0296 - recall_40: 0.0355"
     ]
    }
   ],
   "source": [
    "l = 0.001\n",
    "model3 = Sequential() \n",
    "model3.add(Dense(128, activation='relu', input_dim=30, kernel_regularizer=tf.keras.regularizers.l2(l=l)))\n",
    "model3.add(Dense(64, activation='relu', kernel_regularizer=tf.keras.regularizers.l2(l=l)))\n",
    "model3.add(Dense(32, activation='relu', kernel_regularizer=tf.keras.regularizers.l2(l=l)))\n",
    "model3.add(Dense(1, activation='sigmoid', kernel_regularizer=tf.keras.regularizers.l2(l=l))) \n",
    "model3.compile(loss='binary_crossentropy', optimizer='adam',\n",
    "    metrics=[tf.keras.metrics.AUC(), tf.keras.metrics.Precision(), tf.keras.metrics.Recall()]\n",
    ") \n",
    "model3.summary()\n",
    "\n",
    "hist3 = model3.fit(x_train_strat, y_train_strat, validation_data=(x_cv, y_cv), epochs=25, batch_size=100)"
   ]
  },
  {
   "cell_type": "code",
   "execution_count": null,
   "metadata": {},
   "outputs": [],
   "source": [
    "y_predicted = model3.predict(x_cv) > 0.5 # testing on original cv set for valid comparison to previous models\n",
    "cm = confusion_matrix(y_cv, y_predicted)\n",
    "dp1 = ConfusionMatrixDisplay(confusion_matrix=cm)\n",
    "dp1.plot()\n",
    "print(classification_report(y_cv, y_predicted))\n",
    "display(f'roc auc score: {roc_auc_score(y_cv, y_predicted)}')"
   ]
  }
 ],
 "metadata": {
  "kernelspec": {
   "display_name": "Python 3.6.13 ('mypython3.6')",
   "language": "python",
   "name": "python3"
  },
  "language_info": {
   "codemirror_mode": {
    "name": "ipython",
    "version": 3
   },
   "file_extension": ".py",
   "mimetype": "text/x-python",
   "name": "python",
   "nbconvert_exporter": "python",
   "pygments_lexer": "ipython3",
   "version": "3.6.13"
  },
  "orig_nbformat": 4,
  "vscode": {
   "interpreter": {
    "hash": "2fffd181aabd4b4292c103931238db38b0c7ab3996c6ca963d48c78c80d71804"
   }
  }
 },
 "nbformat": 4,
 "nbformat_minor": 2
}
